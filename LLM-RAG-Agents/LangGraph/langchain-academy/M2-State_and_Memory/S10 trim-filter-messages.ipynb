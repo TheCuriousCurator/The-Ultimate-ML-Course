{
 "cells": [
  {
   "cell_type": "markdown",
   "id": "fb0ebaf1",
   "metadata": {},
   "source": [
    "[![Open in Colab](https://colab.research.google.com/assets/colab-badge.svg)](https://colab.research.google.com/github/langchain-ai/langchain-academy/blob/main/module-2/trim-filter-messages.ipynb) [![Open in LangChain Academy](https://cdn.prod.website-files.com/65b8cd72835ceeacd4449a53/66e9eba12c7b7688aa3dbb5e_LCA-badge-green.svg)](https://academy.langchain.com/courses/take/intro-to-langgraph/lessons/58239435-lesson-4-trim-and-filter-messages)"
   ]
  },
  {
   "cell_type": "markdown",
   "id": "c52ea2f9-03ff-4647-b782-46867ebed04e",
   "metadata": {},
   "source": [
    "# Filtering and trimming messages\n",
    "\n",
    "## Review\n",
    "\n",
    "Now, we have a deeper understanding of a few things: \n",
    "\n",
    "* How to customize the graph state schema\n",
    "* How to define custom state reducers\n",
    "* How to use multiple graph state schemas\n",
    "\n",
    "## Goals\n",
    "\n",
    "Now, we can start using these concepts with models in LangGraph!\n",
    " \n",
    "In the next few sessions, we'll build towards a chatbot that has long-term memory.\n",
    "\n",
    "Because our chatbot will use messages, let's first talk a bit more about advanced ways to work with messages in graph state."
   ]
  },
  {
   "cell_type": "code",
   "execution_count": 1,
   "id": "d5197aba-5d46-421b-ae3b-4e3034edcfda",
   "metadata": {},
   "outputs": [],
   "source": [
    "%%capture --no-stderr\n",
    "%pip install --quiet -U langchain_core langgraph langchain_openai"
   ]
  },
  {
   "cell_type": "code",
   "execution_count": 2,
   "id": "768dc606-d5f2-468d-96ea-910b264e0f8a",
   "metadata": {},
   "outputs": [],
   "source": [
    "# Run this cell and paste the API key in the prompt\n",
    "import os\n",
    "import configparser\n",
    "# Create a ConfigParser object\n",
    "config = configparser.ConfigParser()\n",
    "\n",
    "# Read the configuration file\n",
    "config.read('../../.config.ini')\n",
    "os.environ['GOOGLE_API_KEY'] = config.get('GoogleGeminiAPI', 'Google_Gemini_API_KEY')\n",
    "\n",
    "os.environ['LANGCHAIN_TRACING_V2'] = config.get('LangChain', 'LANGCHAIN_TRACING_V2')\n",
    "os.environ['LANGCHAIN_ENDPOINT'] = config.get('LangChain', 'LANGCHAIN_ENDPOINT')\n",
    "os.environ['LANGCHAIN_API_KEY'] = config.get('LangChain', 'LANGCHAIN_API_KEY')\n",
    "os.environ['USER_AGENT'] = config.get('LangChain', 'USER_AGENT')\n",
    "\n",
    "os.environ['OPENAI_API_KEY'] = config.get('OpenAI', 'OPENAI_API_KEY')\n",
    "os.environ['TAVILY_API_KEY'] = config.get('Tavily_Search_API', 'Tavily_API_KEY')\n",
    "os.environ[\"LANGCHAIN_PROJECT\"] = \"langchain-academy\"\n"
   ]
  },
  {
   "cell_type": "markdown",
   "id": "8b64d8d3-e4ac-4961-bdc0-688825eb5864",
   "metadata": {},
   "source": [
    "We'll use [LangSmith](https://docs.smith.langchain.com/) for [tracing](https://docs.smith.langchain.com/concepts/tracing).\n",
    "\n",
    "We'll log to a project, `langchain-academy`. "
   ]
  },
  {
   "cell_type": "markdown",
   "id": "72f3fc90-58b6-4f7f-897e-dddf6ae532c7",
   "metadata": {},
   "source": [
    "## Messages as state\n",
    "\n",
    "First, let's define some messages."
   ]
  },
  {
   "cell_type": "code",
   "execution_count": 3,
   "id": "cf11a463-e27a-4a05-b41d-64882e38edca",
   "metadata": {},
   "outputs": [
    {
     "name": "stdout",
     "output_type": "stream",
     "text": [
      "==================================\u001b[1m Ai Message \u001b[0m==================================\n",
      "Name: Bot\n",
      "\n",
      "So you said you were researching ocean mammals?\n",
      "================================\u001b[1m Human Message \u001b[0m=================================\n",
      "Name: Lance\n",
      "\n",
      "Yes, I know about whales. But what others should I learn about?\n"
     ]
    }
   ],
   "source": [
    "from pprint import pprint\n",
    "from langchain_core.messages import AIMessage, HumanMessage\n",
    "messages = [AIMessage(f\"So you said you were researching ocean mammals?\", name=\"Bot\")]\n",
    "messages.append(HumanMessage(f\"Yes, I know about whales. But what others should I learn about?\", name=\"Lance\"))\n",
    "\n",
    "for m in messages:\n",
    "    m.pretty_print()"
   ]
  },
  {
   "cell_type": "markdown",
   "id": "b814adcb-6bf9-4b75-be11-e59f933fbd0c",
   "metadata": {},
   "source": [
    "Recall we can pass them to a chat model."
   ]
  },
  {
   "cell_type": "code",
   "execution_count": 4,
   "id": "4712e288-e622-48a2-ad3f-a52f65f3ab08",
   "metadata": {},
   "outputs": [
    {
     "data": {
      "text/plain": [
       "AIMessage(content='In addition to whales, there are several other fascinating ocean mammals you might want to explore:\\n\\n1. **Dolphins**: Known for their intelligence and playful behavior, dolphins are found in oceans worldwide. They belong to the family Delphinidae and include species like the bottlenose dolphin and the orca (killer whale).\\n\\n2. **Porpoises**: Similar to dolphins, porpoises are smaller and have different physical characteristics, such as shorter beaks and spade-shaped teeth. They are less commonly seen than dolphins.\\n\\n3. **Seals**: These pinnipeds are divided into two families: the earless or true seals (Phocidae) and the eared seals, which include sea lions and fur seals (Otariidae).\\n\\n4. **Sea Lions and Fur Seals**: These are part of the Otariidae family and are known for their external ear flaps and ability to walk on land using their large flippers.\\n\\n5. **Walruses**: Recognizable by their long tusks and whiskers, walruses are large marine mammals that inhabit the Arctic regions.\\n\\n6. **Manatees and Dugongs**: Often referred to as sea cows, these herbivorous mammals are found in warm coastal waters. Manatees are native to the Atlantic Ocean, while dugongs are found in the Indian and Pacific Oceans.\\n\\n7. **Sea Otters**: These small marine mammals are known for their thick fur and use of tools to open shellfish. They are found along the coasts of the northern and eastern North Pacific Ocean.\\n\\n8. **Polar Bears**: While not fully aquatic, polar bears are considered marine mammals because they depend on the ocean for their survival, primarily living around the Arctic Circle.\\n\\nEach of these marine mammals has unique adaptations and plays crucial roles in their ecosystems, making them fascinating subjects of study.', additional_kwargs={'refusal': None}, response_metadata={'token_usage': {'completion_tokens': 381, 'prompt_tokens': 39, 'total_tokens': 420, 'completion_tokens_details': {'accepted_prediction_tokens': 0, 'audio_tokens': 0, 'reasoning_tokens': 0, 'rejected_prediction_tokens': 0}, 'prompt_tokens_details': {'audio_tokens': 0, 'cached_tokens': 0}}, 'model_name': 'gpt-4o-2024-08-06', 'system_fingerprint': 'fp_45cf54deae', 'finish_reason': 'stop', 'logprobs': None}, id='run-3e192522-e230-417c-b46d-c6001cfedab4-0', usage_metadata={'input_tokens': 39, 'output_tokens': 381, 'total_tokens': 420, 'input_token_details': {'audio': 0, 'cache_read': 0}, 'output_token_details': {'audio': 0, 'reasoning': 0}})"
      ]
     },
     "execution_count": 4,
     "metadata": {},
     "output_type": "execute_result"
    }
   ],
   "source": [
    "from langchain_openai import ChatOpenAI\n",
    "llm = ChatOpenAI(model=\"gpt-4o\")\n",
    "llm.invoke(messages)"
   ]
  },
  {
   "cell_type": "markdown",
   "id": "fbd1dab8-0af8-4621-8264-ce65065f76ec",
   "metadata": {},
   "source": [
    "We can run our chat model in a simple graph with `MessagesState`."
   ]
  },
  {
   "cell_type": "code",
   "execution_count": 5,
   "id": "bbd8c39c-633b-4176-9cc6-8318e42bb5dd",
   "metadata": {},
   "outputs": [
    {
     "data": {
      "image/png": "[encoded data removed]",
      "text/plain": [
       "<IPython.core.display.Image object>"
      ]
     },
     "metadata": {},
     "output_type": "display_data"
    }
   ],
   "source": [
    "from IPython.display import Image, display\n",
    "from langgraph.graph import MessagesState\n",
    "from langgraph.graph import StateGraph, START, END\n",
    "\n",
    "# Node\n",
    "def chat_model_node(state: MessagesState):\n",
    "    return {\"messages\": llm.invoke(state[\"messages\"])}\n",
    "\n",
    "# Build graph\n",
    "builder = StateGraph(MessagesState)\n",
    "builder.add_node(\"chat_model\", chat_model_node)\n",
    "builder.add_edge(START, \"chat_model\")\n",
    "builder.add_edge(\"chat_model\", END)\n",
    "graph = builder.compile()\n",
    "\n",
    "# View\n",
    "display(Image(graph.get_graph().draw_mermaid_png()))"
   ]
  },
  {
   "cell_type": "code",
   "execution_count": 6,
   "id": "3a5a3e4a-ccfd-4d14-81f1-f0de6e11a1e4",
   "metadata": {},
   "outputs": [
    {
     "name": "stdout",
     "output_type": "stream",
     "text": [
      "==================================\u001b[1m Ai Message \u001b[0m==================================\n",
      "Name: Bot\n",
      "\n",
      "So you said you were researching ocean mammals?\n",
      "================================\u001b[1m Human Message \u001b[0m=================================\n",
      "Name: Lance\n",
      "\n",
      "Yes, I know about whales. But what others should I learn about?\n",
      "==================================\u001b[1m Ai Message \u001b[0m==================================\n",
      "\n",
      "In addition to whales, there are several other fascinating ocean mammals you might want to explore:\n",
      "\n",
      "1. **Dolphins**: Known for their intelligence and playful behavior, dolphins are part of the cetacean family, which also includes whales and porpoises. Common species include the bottlenose dolphin and the orca, or killer whale.\n",
      "\n",
      "2. **Porpoises**: Often confused with dolphins, porpoises are smaller and have different dental and facial structures. They are generally more shy and elusive.\n",
      "\n",
      "3. **Seals**: These are part of the pinniped family, which also includes sea lions and walruses. Common species include the harbor seal and the elephant seal.\n",
      "\n",
      "4. **Sea Lions**: Known for their external ear flaps and their ability to \"walk\" on land using their flippers, sea lions are often seen in coastal areas and are known for their intelligence and trainability.\n",
      "\n",
      "5. **Walruses**: Recognizable by their large tusks, walruses are social animals found in Arctic regions. They use their tusks for various purposes, including breaking through ice and fighting.\n",
      "\n",
      "6. **Manatees**: Also known as sea cows, manatees are gentle, slow-moving herbivores that inhabit warm coastal waters and rivers.\n",
      "\n",
      "7. **Dugongs**: Similar to manatees, dugongs are marine mammals that graze on seagrass. They are found in the warm coastal waters of the Indian and Pacific Oceans.\n",
      "\n",
      "8. **Sea Otters**: While not strictly an ocean mammal, sea otters are marine mammals known for their use of tools to open shellfish and their dense fur, which keeps them warm in cold waters.\n",
      "\n",
      "9. **Narwhals**: Often referred to as the \"unicorns of the sea,\" narwhals are known for their long, spiral tusks. They inhabit Arctic waters and are a type of toothed whale.\n",
      "\n",
      "10. **Beluga Whales**: These small, white whales are known for their vocalizations and are often referred to as \"canaries of the sea.\" They are found in Arctic and sub-Arctic regions.\n",
      "\n",
      "Each of these species has unique adaptations and behaviors that make them interesting subjects of study.\n"
     ]
    }
   ],
   "source": [
    "output = graph.invoke({'messages': messages})\n",
    "for m in output['messages']:\n",
    "    m.pretty_print()"
   ]
  },
  {
   "cell_type": "markdown",
   "id": "34c33e63-1ef4-412d-bb10-6a1b9e5b35a7",
   "metadata": {},
   "source": [
    "## Reducer\n",
    "\n",
    "A practical challenge when working with messages is managing long-running conversations. \n",
    "\n",
    "Long-running conversations result in high token usage and latency if we are not careful, because we pass a growing list of messages to the model.\n",
    "\n",
    "We have a few ways to address this.\n",
    "\n",
    "First, recall the trick we saw using `RemoveMessage` and the `add_messages` reducer."
   ]
  },
  {
   "cell_type": "code",
   "execution_count": 7,
   "id": "222c6bc5-bb0e-4a43-80f5-c8ec38d99f3a",
   "metadata": {},
   "outputs": [
    {
     "data": {
      "image/png": "[encoded data removed]",
      "text/plain": [
       "<IPython.core.display.Image object>"
      ]
     },
     "metadata": {},
     "output_type": "display_data"
    }
   ],
   "source": [
    "from langchain_core.messages import RemoveMessage\n",
    "\n",
    "# Nodes\n",
    "def filter_messages(state: MessagesState):\n",
    "    # Delete all but the 2 most recent messages\n",
    "    delete_messages = [RemoveMessage(id=m.id) for m in state[\"messages\"][:-2]]\n",
    "    return {\"messages\": delete_messages}\n",
    "\n",
    "def chat_model_node(state: MessagesState):    \n",
    "    return {\"messages\": [llm.invoke(state[\"messages\"])]}\n",
    "\n",
    "# Build graph\n",
    "builder = StateGraph(MessagesState)\n",
    "builder.add_node(\"filter\", filter_messages)\n",
    "builder.add_node(\"chat_model\", chat_model_node)\n",
    "builder.add_edge(START, \"filter\")\n",
    "builder.add_edge(\"filter\", \"chat_model\")\n",
    "builder.add_edge(\"chat_model\", END)\n",
    "graph = builder.compile()\n",
    "\n",
    "# View\n",
    "display(Image(graph.get_graph().draw_mermaid_png()))"
   ]
  },
  {
   "cell_type": "code",
   "execution_count": 8,
   "id": "95a7c2cc-54ce-43e7-9a90-abf37827d709",
   "metadata": {},
   "outputs": [
    {
     "name": "stdout",
     "output_type": "stream",
     "text": [
      "==================================\u001b[1m Ai Message \u001b[0m==================================\n",
      "Name: Bot\n",
      "\n",
      "So you said you were researching ocean mammals?\n",
      "================================\u001b[1m Human Message \u001b[0m=================================\n",
      "Name: Lance\n",
      "\n",
      "Yes, I know about whales. But what others should I learn about?\n",
      "==================================\u001b[1m Ai Message \u001b[0m==================================\n",
      "\n",
      "In addition to whales, there are several other fascinating ocean mammals that you might want to explore:\n",
      "\n",
      "1. **Dolphins**: Known for their intelligence and playful behavior, dolphins are part of the cetacean family, which also includes whales and porpoises.\n",
      "\n",
      "2. **Porpoises**: Similar to dolphins, porpoises are smaller and have different facial structures and teeth shape. They are less social than dolphins and often found in colder waters.\n",
      "\n",
      "3. **Seals**: These pinnipeds are known for their sleek bodies and ability to live both on land and in water. There are many species, including the harbor seal and the elephant seal.\n",
      "\n",
      "4. **Sea Lions**: Often confused with seals, sea lions have external ear flaps and larger flippers, which they use to \"walk\" on land. They are social animals and often found in large colonies.\n",
      "\n",
      "5. **Walruses**: Distinguished by their long tusks and large size, walruses are social animals often found in Arctic regions. They use their tusks for digging and climbing out of the water onto ice.\n",
      "\n",
      "6. **Manatees**: Also known as sea cows, manatees are gentle herbivores that inhabit warm coastal waters. They are known for their slow-moving nature and are often found in rivers and estuaries.\n",
      "\n",
      "7. **Dugongs**: Similar to manatees, dugongs are found in the warm coastal waters of the Indian and Pacific Oceans. They are also herbivorous and have a fluked tail similar to that of a whale.\n",
      "\n",
      "8. **Sea Otters**: While not entirely ocean-bound, sea otters spend much of their lives in the water. They are known for using tools to open shellfish and have a significant role in maintaining kelp forest ecosystems.\n",
      "\n",
      "9. **Polar Bears**: Although primarily land-based, polar bears are considered marine mammals because they depend on the ocean for their food, primarily hunting seals on sea ice.\n",
      "\n",
      "Each of these mammals has unique adaptations and behaviors that make them fascinating subjects of study.\n"
     ]
    }
   ],
   "source": [
    "# Message list with a preamble\n",
    "messages = [AIMessage(\"Hi.\", name=\"Bot\", id=\"1\")]\n",
    "messages.append(HumanMessage(\"Hi.\", name=\"Lance\", id=\"2\"))\n",
    "messages.append(AIMessage(\"So you said you were researching ocean mammals?\", name=\"Bot\", id=\"3\"))\n",
    "messages.append(HumanMessage(\"Yes, I know about whales. But what others should I learn about?\", name=\"Lance\", id=\"4\"))\n",
    "\n",
    "# Invoke\n",
    "output = graph.invoke({'messages': messages})\n",
    "for m in output['messages']:\n",
    "    m.pretty_print()"
   ]
  },
  {
   "cell_type": "markdown",
   "id": "f506457d-014b-4fee-a684-e5edfb4b8f0d",
   "metadata": {},
   "source": [
    "## Filtering messages\n",
    "\n",
    "If you don't need or want to modify the graph state, you can just filter the messages you pass to the chat model.\n",
    "\n",
    "For example, just pass in a filtered list: `llm.invoke(messages[-1:])` to the model."
   ]
  },
  {
   "cell_type": "code",
   "execution_count": 9,
   "id": "22d0b904-7cd6-486b-8948-105bee3d4683",
   "metadata": {},
   "outputs": [
    {
     "data": {
      "image/png": "[encoded data removed]",
      "text/plain": [
       "<IPython.core.display.Image object>"
      ]
     },
     "metadata": {},
     "output_type": "display_data"
    }
   ],
   "source": [
    "# Node\n",
    "def chat_model_node(state: MessagesState):\n",
    "    return {\"messages\": [llm.invoke(state[\"messages\"][-1:])]}\n",
    "\n",
    "# Build graph\n",
    "builder = StateGraph(MessagesState)\n",
    "builder.add_node(\"chat_model\", chat_model_node)\n",
    "builder.add_edge(START, \"chat_model\")\n",
    "builder.add_edge(\"chat_model\", END)\n",
    "graph = builder.compile()\n",
    "\n",
    "# View\n",
    "display(Image(graph.get_graph().draw_mermaid_png()))"
   ]
  },
  {
   "cell_type": "markdown",
   "id": "6f58c6fc-532f-418d-b70a-cfcb3307daf5",
   "metadata": {},
   "source": [
    "Let's take our existing list of messages, append the above LLM response, and append a follow-up question."
   ]
  },
  {
   "cell_type": "code",
   "execution_count": 10,
   "id": "16956015-1dbe-4108-89b5-4209b68b51ca",
   "metadata": {},
   "outputs": [],
   "source": [
    "messages.append(output['messages'][-1])\n",
    "messages.append(HumanMessage(f\"Tell me more about Narwhals!\", name=\"Lance\"))"
   ]
  },
  {
   "cell_type": "code",
   "execution_count": 11,
   "id": "85563415-c085-46a8-a4ac-155df798c54e",
   "metadata": {},
   "outputs": [
    {
     "name": "stdout",
     "output_type": "stream",
     "text": [
      "==================================\u001b[1m Ai Message \u001b[0m==================================\n",
      "Name: Bot\n",
      "\n",
      "Hi.\n",
      "================================\u001b[1m Human Message \u001b[0m=================================\n",
      "Name: Lance\n",
      "\n",
      "Hi.\n",
      "==================================\u001b[1m Ai Message \u001b[0m==================================\n",
      "Name: Bot\n",
      "\n",
      "So you said you were researching ocean mammals?\n",
      "================================\u001b[1m Human Message \u001b[0m=================================\n",
      "Name: Lance\n",
      "\n",
      "Yes, I know about whales. But what others should I learn about?\n",
      "==================================\u001b[1m Ai Message \u001b[0m==================================\n",
      "\n",
      "In addition to whales, there are several other fascinating ocean mammals that you might want to explore:\n",
      "\n",
      "1. **Dolphins**: Known for their intelligence and playful behavior, dolphins are part of the cetacean family, which also includes whales and porpoises.\n",
      "\n",
      "2. **Porpoises**: Similar to dolphins, porpoises are smaller and have different facial structures and teeth shape. They are less social than dolphins and often found in colder waters.\n",
      "\n",
      "3. **Seals**: These pinnipeds are known for their sleek bodies and ability to live both on land and in water. There are many species, including the harbor seal and the elephant seal.\n",
      "\n",
      "4. **Sea Lions**: Often confused with seals, sea lions have external ear flaps and larger flippers, which they use to \"walk\" on land. They are social animals and often found in large colonies.\n",
      "\n",
      "5. **Walruses**: Distinguished by their long tusks and large size, walruses are social animals often found in Arctic regions. They use their tusks for digging and climbing out of the water onto ice.\n",
      "\n",
      "6. **Manatees**: Also known as sea cows, manatees are gentle herbivores that inhabit warm coastal waters. They are known for their slow-moving nature and are often found in rivers and estuaries.\n",
      "\n",
      "7. **Dugongs**: Similar to manatees, dugongs are found in the warm coastal waters of the Indian and Pacific Oceans. They are also herbivorous and have a fluked tail similar to that of a whale.\n",
      "\n",
      "8. **Sea Otters**: While not entirely ocean-bound, sea otters spend much of their lives in the water. They are known for using tools to open shellfish and have a significant role in maintaining kelp forest ecosystems.\n",
      "\n",
      "9. **Polar Bears**: Although primarily land-based, polar bears are considered marine mammals because they depend on the ocean for their food, primarily hunting seals on sea ice.\n",
      "\n",
      "Each of these mammals has unique adaptations and behaviors that make them fascinating subjects of study.\n",
      "================================\u001b[1m Human Message \u001b[0m=================================\n",
      "Name: Lance\n",
      "\n",
      "Tell me more about Narwhals!\n"
     ]
    }
   ],
   "source": [
    "for m in messages:\n",
    "    m.pretty_print()"
   ]
  },
  {
   "cell_type": "code",
   "execution_count": 12,
   "id": "23349705-a059-47b5-9760-d8f64e687393",
   "metadata": {},
   "outputs": [
    {
     "name": "stdout",
     "output_type": "stream",
     "text": [
      "==================================\u001b[1m Ai Message \u001b[0m==================================\n",
      "Name: Bot\n",
      "\n",
      "Hi.\n",
      "================================\u001b[1m Human Message \u001b[0m=================================\n",
      "Name: Lance\n",
      "\n",
      "Hi.\n",
      "==================================\u001b[1m Ai Message \u001b[0m==================================\n",
      "Name: Bot\n",
      "\n",
      "So you said you were researching ocean mammals?\n",
      "================================\u001b[1m Human Message \u001b[0m=================================\n",
      "Name: Lance\n",
      "\n",
      "Yes, I know about whales. But what others should I learn about?\n",
      "==================================\u001b[1m Ai Message \u001b[0m==================================\n",
      "\n",
      "In addition to whales, there are several other fascinating ocean mammals that you might want to explore:\n",
      "\n",
      "1. **Dolphins**: Known for their intelligence and playful behavior, dolphins are part of the cetacean family, which also includes whales and porpoises.\n",
      "\n",
      "2. **Porpoises**: Similar to dolphins, porpoises are smaller and have different facial structures and teeth shape. They are less social than dolphins and often found in colder waters.\n",
      "\n",
      "3. **Seals**: These pinnipeds are known for their sleek bodies and ability to live both on land and in water. There are many species, including the harbor seal and the elephant seal.\n",
      "\n",
      "4. **Sea Lions**: Often confused with seals, sea lions have external ear flaps and larger flippers, which they use to \"walk\" on land. They are social animals and often found in large colonies.\n",
      "\n",
      "5. **Walruses**: Distinguished by their long tusks and large size, walruses are social animals often found in Arctic regions. They use their tusks for digging and climbing out of the water onto ice.\n",
      "\n",
      "6. **Manatees**: Also known as sea cows, manatees are gentle herbivores that inhabit warm coastal waters. They are known for their slow-moving nature and are often found in rivers and estuaries.\n",
      "\n",
      "7. **Dugongs**: Similar to manatees, dugongs are found in the warm coastal waters of the Indian and Pacific Oceans. They are also herbivorous and have a fluked tail similar to that of a whale.\n",
      "\n",
      "8. **Sea Otters**: While not entirely ocean-bound, sea otters spend much of their lives in the water. They are known for using tools to open shellfish and have a significant role in maintaining kelp forest ecosystems.\n",
      "\n",
      "9. **Polar Bears**: Although primarily land-based, polar bears are considered marine mammals because they depend on the ocean for their food, primarily hunting seals on sea ice.\n",
      "\n",
      "Each of these mammals has unique adaptations and behaviors that make them fascinating subjects of study.\n",
      "================================\u001b[1m Human Message \u001b[0m=================================\n",
      "Name: Lance\n",
      "\n",
      "Tell me more about Narwhals!\n",
      "==================================\u001b[1m Ai Message \u001b[0m==================================\n",
      "\n",
      "Certainly! Narwhals (Monodon monoceros) are fascinating marine mammals known for their distinctive long tusks, which have led to their nickname \"unicorns of the sea.\" Here are some key facts about them:\n",
      "\n",
      "### Physical Features:\n",
      "- **Tusks**: The most notable feature of narwhals is their long, spiraled tusk, which is actually an elongated tooth. It can grow up to 10 feet (3 meters) long and is typically found in males, although some females can also have smaller tusks.\n",
      "- **Size and Color**: Narwhals are medium-sized whales, with adult males typically measuring about 13 to 18 feet (4 to 5.5 meters) in length, excluding the tusk, while females are slightly smaller. They have a mottled grayish color that helps them blend into their icy environment.\n",
      "- **Body**: They have a streamlined body with no dorsal fin, which is believed to help them swim easily under ice.\n",
      "\n",
      "### Habitat:\n",
      "- Narwhals are native to the Arctic waters around Canada, Greenland, Norway, and Russia. They are especially associated with the ice-covered regions of the Arctic Ocean.\n",
      "- They are deep divers, often diving to depths of around 800 meters (2,625 feet), and sometimes even deeper, to feed.\n",
      "\n",
      "### Behavior and Diet:\n",
      "- **Social Structure**: Narwhals are social animals, often found in groups, known as pods, that can range from a few individuals to several dozen.\n",
      "- **Diet**: Their diet mainly consists of fish, squid, and shrimp. They are known to hunt at great depths, using echolocation to locate their prey in the darkness of deep Arctic waters.\n",
      "\n",
      "### Conservation:\n",
      "- Narwhals are considered near threatened due to climate change, which is affecting their icy habitats, and increased human activities in the Arctic. They are also occasionally hunted by indigenous communities for their tusks and meat.\n",
      "- Conservation efforts focus on understanding their population dynamics and protecting their habitat from the effects of climate change and human interference.\n",
      "\n",
      "### Cultural Significance:\n",
      "- Narwhals have a significant cultural importance for indigenous Arctic communities, who have traditionally relied on them as a resource.\n",
      "- Historically, their tusks were often sold as unicorn horns in medieval Europe, contributing to the myth of unicorns.\n",
      "\n",
      "Narwhals are a symbol of the unique and mysterious life found in the Arctic, and they continue to captivate scientists and the public alike with their intriguing behaviors and adaptations to one of the harshest environments on Earth.\n"
     ]
    }
   ],
   "source": [
    "# Invoke, using message filtering\n",
    "output = graph.invoke({'messages': messages})\n",
    "for m in output['messages']:\n",
    "    m.pretty_print()"
   ]
  },
  {
   "cell_type": "markdown",
   "id": "42e1d8d2-e297-4d78-b54c-d12b3c866745",
   "metadata": {},
   "source": [
    "The state has all of the mesages.\n",
    "\n",
    "But, let's look at the LangSmith trace to see that the model invocation only uses the last message:\n",
    "\n",
    "https://smith.langchain.com/public/75aca3ce-ef19-4b92-94be-0178c7a660d9/r"
   ]
  },
  {
   "cell_type": "markdown",
   "id": "fc40d930-3c1f-47fe-8d2a-ce174873353c",
   "metadata": {},
   "source": [
    "## Trim messages\n",
    "\n",
    "Another approach is to [trim messages](https://python.langchain.com/v0.2/docs/how_to/trim_messages/#getting-the-last-max_tokens-tokens), based upon a set number of tokens. \n",
    "\n",
    "This restricts the message history to a specified number of tokens.\n",
    "\n",
    "While filtering only returns a post-hoc subset of the messages between agents, trimming restricts the number of tokens that a chat model can use to respond.\n",
    "\n",
    "See the `trim_messages` below."
   ]
  },
  {
   "cell_type": "code",
   "execution_count": 13,
   "id": "2ff99b81-cf03-4cc2-b44f-44829a73e1fd",
   "metadata": {},
   "outputs": [
    {
     "data": {
      "image/png": "[encoded data removed]",
      "text/plain": [
       "<IPython.core.display.Image object>"
      ]
     },
     "metadata": {},
     "output_type": "display_data"
    }
   ],
   "source": [
    "from langchain_core.messages import trim_messages\n",
    "\n",
    "# Node\n",
    "def chat_model_node(state: MessagesState):\n",
    "    messages = trim_messages(\n",
    "            state[\"messages\"],\n",
    "            max_tokens=100,\n",
    "            strategy=\"last\",\n",
    "            token_counter=ChatOpenAI(model=\"gpt-4o\"),\n",
    "            allow_partial=False,\n",
    "        )\n",
    "    return {\"messages\": [llm.invoke(messages)]}\n",
    "\n",
    "# Build graph\n",
    "builder = StateGraph(MessagesState)\n",
    "builder.add_node(\"chat_model\", chat_model_node)\n",
    "builder.add_edge(START, \"chat_model\")\n",
    "builder.add_edge(\"chat_model\", END)\n",
    "graph = builder.compile()\n",
    "\n",
    "# View\n",
    "display(Image(graph.get_graph().draw_mermaid_png()))"
   ]
  },
  {
   "cell_type": "code",
   "execution_count": 14,
   "id": "24df63ac-da29-4874-b3df-7e390e97cc8a",
   "metadata": {},
   "outputs": [],
   "source": [
    "messages.append(output['messages'][-1])\n",
    "messages.append(HumanMessage(f\"Tell me where Orcas live!\", name=\"Lance\"))"
   ]
  },
  {
   "cell_type": "code",
   "execution_count": 15,
   "id": "6d9d8971-c75c-43ca-a209-eb1d07b2ead0",
   "metadata": {},
   "outputs": [
    {
     "data": {
      "text/plain": [
       "[HumanMessage(content='Tell me where Orcas live!', additional_kwargs={}, response_metadata={}, name='Lance')]"
      ]
     },
     "execution_count": 15,
     "metadata": {},
     "output_type": "execute_result"
    }
   ],
   "source": [
    "# Example of trimming messages\n",
    "trim_messages(\n",
    "            messages,\n",
    "            max_tokens=100,\n",
    "            strategy=\"last\",\n",
    "            token_counter=ChatOpenAI(model=\"gpt-4o\"),\n",
    "            allow_partial=False\n",
    "        )"
   ]
  },
  {
   "cell_type": "code",
   "execution_count": 16,
   "id": "ed70a269-a869-4fa0-a1df-29736a432c51",
   "metadata": {},
   "outputs": [],
   "source": [
    "# Invoke, using message trimming in the chat_model_node \n",
    "messages_out_trim = graph.invoke({'messages': messages})"
   ]
  },
  {
   "cell_type": "markdown",
   "id": "38b3db67-380e-46b5-9a6a-20100ba52008",
   "metadata": {},
   "source": [
    "Let's look at the LangSmith trace to see the model invocation:\n",
    "\n",
    "https://smith.langchain.com/public/b153f7e9-f1a5-4d60-8074-f0d7ab5b42ef/r"
   ]
  }
 ],
 "metadata": {
  "kernelspec": {
   "display_name": "Python 3",
   "language": "python",
   "name": "python3"
  },
  "language_info": {
   "codemirror_mode": {
    "name": "ipython",
    "version": 3
   },
   "file_extension": ".py",
   "mimetype": "text/x-python",
   "name": "python",
   "nbconvert_exporter": "python",
   "pygments_lexer": "ipython3",
   "version": "3.11.10"
  }
 },
 "nbformat": 4,
 "nbformat_minor": 5
}
