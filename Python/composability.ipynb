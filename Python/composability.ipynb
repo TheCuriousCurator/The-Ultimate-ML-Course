{
 "cells": [
  {
   "cell_type": "markdown",
   "id": "eec60be0",
   "metadata": {},
   "source": [
    "### Function composition"
   ]
  },
  {
   "cell_type": "code",
   "execution_count": 11,
   "id": "8be5e40b",
   "metadata": {},
   "outputs": [
    {
     "name": "stdout",
     "output_type": "stream",
     "text": [
      "Result = 54\n"
     ]
    }
   ],
   "source": [
    "def addThree(x):\n",
    "    return x + 3\n",
    "\n",
    "def addFive(x):\n",
    "    return x + 5\n",
    "\n",
    "def multiplyTwo(x):\n",
    "    return x * 2\n",
    "\n",
    "def multiplyThree(x):\n",
    "    return x * 3\n",
    "\n",
    "def func1():\n",
    "    x = 1\n",
    "    x = addThree(x)\n",
    "    x = addFive(x)\n",
    "    x = multiplyTwo(x)\n",
    "    x = multiplyThree(x)\n",
    "    print(f\"Result = {x}\")\n",
    "\n",
    "func1()"
   ]
  },
  {
   "cell_type": "code",
   "execution_count": 12,
   "id": "09ce2ab0",
   "metadata": {},
   "outputs": [
    {
     "name": "stdout",
     "output_type": "stream",
     "text": [
      "Result = 54\n"
     ]
    }
   ],
   "source": [
    "def addThree(x):\n",
    "    return x + 3\n",
    "\n",
    "def addFive(x):\n",
    "    return x + 5\n",
    "\n",
    "def multiplyTwo(x):\n",
    "    return x * 2\n",
    "\n",
    "def multiplyThree(x):\n",
    "    return x * 3\n",
    "\n",
    "def func2():\n",
    "    x = 1\n",
    "    x = multiplyThree(multiplyTwo(addFive(addThree(x))))\n",
    "    print(f\"Result = {x}\")\n",
    "\n",
    "func2()"
   ]
  },
  {
   "cell_type": "code",
   "execution_count": null,
   "id": "2a749af3",
   "metadata": {},
   "outputs": [
    {
     "ename": "TypeError",
     "evalue": "Type List cannot be instantiated; use list() instead",
     "output_type": "error",
     "traceback": [
      "\u001b[0;31m---------------------------------------------------------------------------\u001b[0m",
      "\u001b[0;31mTypeError\u001b[0m                                 Traceback (most recent call last)",
      "Cell \u001b[0;32mIn[15], line 6\u001b[0m\n\u001b[1;32m      2\u001b[0m \u001b[38;5;28;01mfrom\u001b[39;00m \u001b[38;5;21;01mtyping\u001b[39;00m \u001b[38;5;28;01mimport\u001b[39;00m Callable, List\n\u001b[1;32m      4\u001b[0m ComposableFunction \u001b[38;5;241m=\u001b[39m Callable[[\u001b[38;5;28mfloat\u001b[39m], \u001b[38;5;28mfloat\u001b[39m]\n\u001b[0;32m----> 6\u001b[0m ComposableFunction \u001b[38;5;241m=\u001b[39m \u001b[43mList\u001b[49m\u001b[43m(\u001b[49m\u001b[43mCallable\u001b[49m\u001b[43m[\u001b[49m\u001b[38;5;28;43mfloat\u001b[39;49m\u001b[43m,\u001b[49m\u001b[43m \u001b[49m\u001b[38;5;28;43mfloat\u001b[39;49m\u001b[43m]\u001b[49m\u001b[43m)\u001b[49m\n\u001b[1;32m      8\u001b[0m \u001b[38;5;28;01mdef\u001b[39;00m \u001b[38;5;21mcompose1\u001b[39m(\u001b[38;5;241m*\u001b[39mfunctions: ComposableFunction)\u001b[38;5;241m-\u001b[39m\u001b[38;5;241m>\u001b[39m ComposableFunction:\n\u001b[1;32m      9\u001b[0m     \u001b[38;5;28;01mdef\u001b[39;00m \u001b[38;5;21mcomposed_function\u001b[39m(x):\n",
      "File \u001b[0;32m~/conda_env/pytorch_GPU_3.9/lib/python3.9/typing.py:685\u001b[0m, in \u001b[0;36m_BaseGenericAlias.__call__\u001b[0;34m(self, *args, **kwargs)\u001b[0m\n\u001b[1;32m    683\u001b[0m \u001b[38;5;28;01mdef\u001b[39;00m \u001b[38;5;21m__call__\u001b[39m(\u001b[38;5;28mself\u001b[39m, \u001b[38;5;241m*\u001b[39margs, \u001b[38;5;241m*\u001b[39m\u001b[38;5;241m*\u001b[39mkwargs):\n\u001b[1;32m    684\u001b[0m     \u001b[38;5;28;01mif\u001b[39;00m \u001b[38;5;129;01mnot\u001b[39;00m \u001b[38;5;28mself\u001b[39m\u001b[38;5;241m.\u001b[39m_inst:\n\u001b[0;32m--> 685\u001b[0m         \u001b[38;5;28;01mraise\u001b[39;00m \u001b[38;5;167;01mTypeError\u001b[39;00m(\u001b[38;5;124mf\u001b[39m\u001b[38;5;124m\"\u001b[39m\u001b[38;5;124mType \u001b[39m\u001b[38;5;132;01m{\u001b[39;00m\u001b[38;5;28mself\u001b[39m\u001b[38;5;241m.\u001b[39m_name\u001b[38;5;132;01m}\u001b[39;00m\u001b[38;5;124m cannot be instantiated; \u001b[39m\u001b[38;5;124m\"\u001b[39m\n\u001b[1;32m    686\u001b[0m                         \u001b[38;5;124mf\u001b[39m\u001b[38;5;124m\"\u001b[39m\u001b[38;5;124muse \u001b[39m\u001b[38;5;132;01m{\u001b[39;00m\u001b[38;5;28mself\u001b[39m\u001b[38;5;241m.\u001b[39m__origin__\u001b[38;5;241m.\u001b[39m\u001b[38;5;18m__name__\u001b[39m\u001b[38;5;132;01m}\u001b[39;00m\u001b[38;5;124m() instead\u001b[39m\u001b[38;5;124m\"\u001b[39m)\n\u001b[1;32m    687\u001b[0m     result \u001b[38;5;241m=\u001b[39m \u001b[38;5;28mself\u001b[39m\u001b[38;5;241m.\u001b[39m__origin__(\u001b[38;5;241m*\u001b[39margs, \u001b[38;5;241m*\u001b[39m\u001b[38;5;241m*\u001b[39mkwargs)\n\u001b[1;32m    688\u001b[0m     \u001b[38;5;28;01mtry\u001b[39;00m:\n",
      "\u001b[0;31mTypeError\u001b[0m: Type List cannot be instantiated; use list() instead"
     ]
    }
   ],
   "source": [
    "import functools\n",
    "from typing import Callable, List\n",
    "\n",
    "ComposableFunction = Callable[[float], float]\n",
    "\n",
    "def compose1(*functions: ComposableFunction)-> ComposableFunction:\n",
    "    def composed_function(x):\n",
    "        for function in functions: # reversed(functions) can be used to reverse the order but we dont need it yet.\n",
    "            x = function(x)\n",
    "        return x\n",
    "    return composed_function\n",
    "\n",
    "def compose2(*functions: ComposableFunction)-> ComposableFunction:\n",
    "    return functools.reduce(lambda f, g: lambda x: g(f(x)), functions, lambda x: x)\n",
    "\n",
    "\n",
    "def composablefunc1():\n",
    "    x = 1\n",
    "    mufunc = compose1(addThree, addFive, multiplyTwo, multiplyThree)\n",
    "    x = mufunc(x)\n",
    "    print(f\"Result = {x}\")\n",
    "\n",
    "def composablefunc2():\n",
    "    x = 1\n",
    "    mufunc = compose2(addThree, addFive, multiplyTwo, multiplyThree)\n",
    "    x = mufunc(x)\n",
    "    print(f\"Result = {x}\")\n",
    "\n",
    "\n",
    "composablefunc1()\n",
    "composablefunc2()"
   ]
  },
  {
   "cell_type": "code",
   "execution_count": 14,
   "id": "eb016935",
   "metadata": {},
   "outputs": [
    {
     "name": "stdout",
     "output_type": "stream",
     "text": [
      "Result = 54\n",
      "Result = 54\n",
      "Result = 54\n",
      "Result = 54\n"
     ]
    }
   ],
   "source": [
    "func1()\n",
    "func2()\n",
    "composablefunc1()\n",
    "composablefunc2()"
   ]
  },
  {
   "cell_type": "code",
   "execution_count": null,
   "id": "7839ad30",
   "metadata": {},
   "outputs": [],
   "source": []
  }
 ],
 "metadata": {
  "kernelspec": {
   "display_name": "Python 3",
   "language": "python",
   "name": "python3"
  },
  "language_info": {
   "codemirror_mode": {
    "name": "ipython",
    "version": 3
   },
   "file_extension": ".py",
   "mimetype": "text/x-python",
   "name": "python",
   "nbconvert_exporter": "python",
   "pygments_lexer": "ipython3",
   "version": "3.9.19"
  }
 },
 "nbformat": 4,
 "nbformat_minor": 5
}
