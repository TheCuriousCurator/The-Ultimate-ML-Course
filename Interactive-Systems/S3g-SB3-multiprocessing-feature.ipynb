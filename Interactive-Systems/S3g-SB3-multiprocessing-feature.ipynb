{
  "cells": [
    {
      "cell_type": "markdown",
      "metadata": {
        "id": "q4TavoikVlCt"
      },
      "source": [
        "## Multiprocessing Demo\n",
        "\n",
        "\n",
        "[Vectorized Environments](https://stable-baselines3.readthedocs.io/en/master/guide/vec_envs.html) are a method for stacking multiple independent environments into a single environment. Instead of training an RL agent on 1 environment per step, it allows us to train it on n environments per step. This provides two benefits:\n",
        "* Agent experience can be collected more quickly\n",
        "* The experience will contain a more diverse range of states, it usually improves exploration\n",
        "\n",
        "Stable-Baselines provides two types of Vectorized Environment:\n",
        "- SubprocVecEnv which run each environment in a separate process\n",
        "- DummyVecEnv which run all environment on the same process\n",
        "\n",
        "In practice, DummyVecEnv is usually faster than SubprocVecEnv because of communication delays that subprocesses have."
      ]
    },
    {
      "cell_type": "code",
      "execution_count": null,
      "metadata": {
        "id": "7obQMBgXV8_z"
      },
      "outputs": [],
      "source": [
        "import time\n",
        "\n",
        "from stable_baselines3.common.env_util import make_vec_env"
      ]
    },
    {
      "cell_type": "code",
      "execution_count": null,
      "metadata": {
        "id": "S1K_YuEfVnT6"
      },
      "outputs": [],
      "source": [
        "env = gym.make(\"Pendulum-v1\")\n",
        "n_steps = 1024"
      ]
    },
    {
      "cell_type": "code",
      "execution_count": null,
      "metadata": {
        "id": "fBa5rJfiWFX3"
      },
      "outputs": [],
      "source": [
        "start_time_one_env = time.time()\n",
        "model = PPO(\"MlpPolicy\", env, n_epochs=1, n_steps=n_steps, verbose=1).learn(int(2e4))\n",
        "time_one_env = time.time() - start_time_one_env"
      ]
    },
    {
      "cell_type": "code",
      "execution_count": null,
      "metadata": {
        "colab": {
          "base_uri": "https://localhost:8080/"
        },
        "id": "ylbC5slbWzKo",
        "outputId": "2f7cc82e-224d-4d5a-8803-a31a9013cf71"
      },
      "outputs": [
        {
          "name": "stdout",
          "output_type": "stream",
          "text": [
            "Took 20.17s\n"
          ]
        }
      ],
      "source": [
        "print(f\"Took {time_one_env:.2f}s\")"
      ]
    },
    {
      "cell_type": "code",
      "execution_count": null,
      "metadata": {
        "id": "n0UgmDOHWBWU"
      },
      "outputs": [],
      "source": [
        "start_time_vec_env = time.time()\n",
        "# Create 16 environments\n",
        "vec_env = make_vec_env(\"Pendulum-v1\", n_envs=16)\n",
        "# At each call to `env.step()`, 16 transitions will be collected, so we account for that for fair comparison\n",
        "model = PPO(\"MlpPolicy\", vec_env, n_epochs=1, n_steps=n_steps // 16, verbose=1).learn(int(2e4))\n",
        "\n",
        "time_vec_env = time.time() - start_time_vec_env"
      ]
    },
    {
      "cell_type": "code",
      "execution_count": null,
      "metadata": {
        "colab": {
          "base_uri": "https://localhost:8080/"
        },
        "id": "lN3o5TJ3WxOy",
        "outputId": "0018d2aa-a8b0-474a-a23f-b4151debba42"
      },
      "outputs": [
        {
          "name": "stdout",
          "output_type": "stream",
          "text": [
            "Took 5.01s\n"
          ]
        }
      ],
      "source": [
        "print(f\"Took {time_vec_env:.2f}s\")"
      ]
    },
    {
      "cell_type": "markdown",
      "metadata": {
        "id": "WUrDxSkJT_gn"
      },
      "source": [
        "Note: the speedup is not linear but it is already significant."
      ]
    }
  ],
  "metadata": {
    "colab": {
      "collapsed_sections": [],
      "name": "rlvs_hands_on_sb3.ipynb",
      "provenance": []
    },
    "kernelspec": {
      "display_name": "Python 3",
      "name": "python3"
    }
  },
  "nbformat": 4,
  "nbformat_minor": 0
}
