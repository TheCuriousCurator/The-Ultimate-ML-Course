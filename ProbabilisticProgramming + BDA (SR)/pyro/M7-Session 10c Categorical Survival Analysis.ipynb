{
 "cells": [
  {
   "cell_type": "code",
   "execution_count": 1,
   "metadata": {},
   "outputs": [],
   "source": [
    "import sys\n",
    "from typing import Dict\n",
    "\n",
    "import numpy as np\n",
    "import pandas as pd\n",
    "import matplotlib.pyplot as plt\n",
    "import torch\n",
    "tt = torch.tensor\n",
    "from torch.nn.functional import softmax\n",
    "import pyro\n",
    "from pyro.distributions import Binomial, Normal, Bernoulli, Categorical, LogNormal, Poisson, Exponential, Uniform\n",
    "from pyro.ops.stats import hpdi\n",
    "import networkx as nx\n",
    "import arviz as az\n",
    "\n",
    "from pyro.infer import TracePosterior, TracePredictive, Trace_ELBO, Predictive\n",
    "\n",
    "#torch.multiprocessing.set_sharing_strategy(\"file_system\")\n",
    "from utils import (\n",
    "    HPDI,\n",
    "    WAIC,\n",
    "    sample_posterior,\n",
    "    unnest_samples,\n",
    "    sample_prior,\n",
    "    format_data,\n",
    "    train_nuts,\n",
    "    traceplot,\n",
    "    trankplot,\n",
    "    plot_intervals,\n",
    "    precis,\n",
    ")\n",
    "from models import RegressionBase"
   ]
  },
  {
   "cell_type": "code",
   "execution_count": 2,
   "metadata": {},
   "outputs": [
    {
     "name": "stdout",
     "output_type": "stream",
     "text": [
      "Last updated: Sun Aug 25 2024\n",
      "\n",
      "Python implementation: CPython\n",
      "Python version       : 3.9.19\n",
      "IPython version      : 8.18.1\n",
      "\n",
      "arviz     : 0.17.1\n",
      "sys       : 3.9.19 (main, May  6 2024, 19:43:03) \n",
      "[GCC 11.2.0]\n",
      "numpy     : 1.26.4\n",
      "torch     : 2.3.0\n",
      "pyro      : 1.9.1\n",
      "pandas    : 2.2.2\n",
      "networkx  : 3.1\n",
      "matplotlib: 3.9.0\n",
      "\n",
      "Watermark: 2.4.3\n",
      "\n"
     ]
    }
   ],
   "source": [
    "%load_ext watermark\n",
    "%watermark -n -u -v -iv -w"
   ]
  },
  {
   "cell_type": "code",
   "execution_count": 3,
   "metadata": {},
   "outputs": [],
   "source": [
    "def inv_logit(x):\n",
    "    return torch.exp(x)/(1+torch.exp(x))"
   ]
  },
  {
   "cell_type": "markdown",
   "metadata": {},
   "source": [
    "### Code 11.55 - 11.59\n",
    "The binomial distribution does a good job of modeling binary outcomes, but what if we have more then two? The natural generalization to this is the _multinomial_ distribution,\n",
    "$$\n",
    "Pr(y_1, \\cdots, y_K|n, p_1, \\cdots, p_K) = \\frac{n!}{\\prod_i y_i!} \\prod_{i=1}^{K} p_i^{y_i}\n",
    "$$\n",
    "This typically uses the multinomial logit (aka softmax) as its inverse link function:\n",
    "$$Pr(k|s_1, s_2, \\cdots, s_K) = \\frac{\\exp(s_k)}{\\sum_{i=1}^{K} \\exp(s_i)}$$\n",
    "Typically this kind of distribution is much more difficult to reason about since there are so many more comparisons we can perform between predictions for various classes."
   ]
  },
  {
   "cell_type": "markdown",
   "metadata": {},
   "source": [
    "Let's create a simulated example where we are trying to model the effect of income on career choice. There can be multiple types of careers to choose from, each with varying levels of income."
   ]
  },
  {
   "cell_type": "code",
   "execution_count": 4,
   "metadata": {},
   "outputs": [
    {
     "name": "stdout",
     "output_type": "stream",
     "text": [
      "tensor([0.0996, 0.1643, 0.7361])\n"
     ]
    }
   ],
   "source": [
    "# simulate career choices among 500 individuals\n",
    "N = 500 # number of individuals\n",
    "income = tt([1,2,5]) # expected income of each career\n",
    "score = 0.5*income # scores for each career, based on income\n",
    "p = softmax(score, dim=0) # scores to probabilities\n",
    "print(p)\n",
    "# simulate choices\n",
    "career = Categorical(probs=p).sample([N])"
   ]
  },
  {
   "cell_type": "code",
   "execution_count": 5,
   "metadata": {},
   "outputs": [
    {
     "name": "stdout",
     "output_type": "stream",
     "text": [
      "{'adapt_step_size': True, 'adapt_mass_matrix': True, 'jit_compile': True}\n"
     ]
    },
    {
     "name": "stderr",
     "output_type": "stream",
     "text": [
      "Sample: 100%|██████████| 6000/6000 [00:04, 1267.87it/s, step size=1.12e+00, acc. prob=0.909]\n"
     ]
    }
   ],
   "source": [
    "data = {\"career\": career}\n",
    "\n",
    "def model_m10_16(data, training=True): \n",
    "    b = pyro.sample(\"b\", Normal(0., 5.))\n",
    "    s2 = 2*b\n",
    "    s3 = 5*b\n",
    "    p = softmax(torch.stack([b, s2, s3]), dim=0)\n",
    "    pyro.sample(\"career\", Categorical(p), obs=data[\"career\"])\n",
    "    \n",
    "m10_16 = train_nuts(model_m10_16, data, 3000, 3000, 1)"
   ]
  },
  {
   "cell_type": "code",
   "execution_count": 6,
   "metadata": {},
   "outputs": [
    {
     "name": "stdout",
     "output_type": "stream",
     "text": [
      "\n",
      "                mean       std    median      5.0%     95.0%     n_eff     r_hat\n",
      "         b      0.48      0.03      0.48      0.44      0.53   1046.29      1.00\n",
      "\n",
      "Number of divergences: 0\n"
     ]
    }
   ],
   "source": [
    "m10_16.summary()"
   ]
  },
  {
   "cell_type": "markdown",
   "metadata": {},
   "source": [
    "Hmm, from the seed data we started with, we should expect $b$ to be near 1. But 1 falls far outside this posterior. What's going on? Well, it turns out that the softmax function actually has a hidden degree of freedom. If we shift all the scores by any arbitrary value $\\sigma$ like $s_k \\rightarrow s_k + \\sigma$, then we get\n",
    "$$\n",
    "\\begin{align}\n",
    "\\text{softmax}(\\vec{s} + \\sigma) &= \\frac{\\exp(s_k + \\sigma)}{\\sum_i \\exp(s_i + \\sigma)} \n",
    "= \\frac{\\exp(s_k) \\exp(\\sigma)}{\\sum_i \\exp(s_i) \\exp(\\sigma)} \\\\\n",
    "&= \\frac{\\exp(\\sigma) \\exp(s_k)}{\\exp(\\sigma) \\sum_i \\exp(s_i)} \n",
    "= \\frac{\\exp(s_k)}{\\sum_i \\exp(s_i)} \\\\\n",
    "&= \\text{softmax}(\\vec{s})\n",
    "\\end{align}\n",
    "$$\n",
    "So the actual value of $b$ shouldn't matter at all? The only thing that does matter is the relative differences of the logits."
   ]
  },
  {
   "cell_type": "code",
   "execution_count": 7,
   "metadata": {},
   "outputs": [],
   "source": [
    "_b = m10_16.get_samples()[\"b\"]\n",
    "_p = softmax(torch.stack([_b, 2*_b, 5*_b]).T, dim=1)"
   ]
  },
  {
   "cell_type": "code",
   "execution_count": 8,
   "metadata": {},
   "outputs": [
    {
     "data": {
      "text/plain": [
       "tensor([0.0996, 0.1643, 0.7361])"
      ]
     },
     "execution_count": 8,
     "metadata": {},
     "output_type": "execute_result"
    }
   ],
   "source": [
    "p"
   ]
  },
  {
   "cell_type": "code",
   "execution_count": 9,
   "metadata": {},
   "outputs": [
    {
     "data": {
      "text/html": [
       "<div>\n",
       "<style scoped>\n",
       "    .dataframe tbody tr th:only-of-type {\n",
       "        vertical-align: middle;\n",
       "    }\n",
       "\n",
       "    .dataframe tbody tr th {\n",
       "        vertical-align: top;\n",
       "    }\n",
       "\n",
       "    .dataframe thead th {\n",
       "        text-align: right;\n",
       "    }\n",
       "</style>\n",
       "<table border=\"1\" class=\"dataframe\">\n",
       "  <thead>\n",
       "    <tr style=\"text-align: right;\">\n",
       "      <th></th>\n",
       "      <th>mean</th>\n",
       "      <th>stddev</th>\n",
       "      <th>5.5%</th>\n",
       "      <th>94.5%</th>\n",
       "    </tr>\n",
       "  </thead>\n",
       "  <tbody>\n",
       "    <tr>\n",
       "      <th>p[0]</th>\n",
       "      <td>0.105598</td>\n",
       "      <td>0.009189</td>\n",
       "      <td>0.091514</td>\n",
       "      <td>0.120331</td>\n",
       "    </tr>\n",
       "    <tr>\n",
       "      <th>p[1]</th>\n",
       "      <td>0.170652</td>\n",
       "      <td>0.010014</td>\n",
       "      <td>0.155018</td>\n",
       "      <td>0.186426</td>\n",
       "    </tr>\n",
       "    <tr>\n",
       "      <th>p[2]</th>\n",
       "      <td>0.72375</td>\n",
       "      <td>0.019201</td>\n",
       "      <td>0.693243</td>\n",
       "      <td>0.753468</td>\n",
       "    </tr>\n",
       "  </tbody>\n",
       "</table>\n",
       "</div>"
      ],
      "text/plain": [
       "          mean    stddev      5.5%     94.5%\n",
       "p[0]  0.105598  0.009189  0.091514  0.120331\n",
       "p[1]  0.170652  0.010014  0.155018  0.186426\n",
       "p[2]   0.72375  0.019201  0.693243  0.753468"
      ]
     },
     "execution_count": 9,
     "metadata": {},
     "output_type": "execute_result"
    }
   ],
   "source": [
    "precis(unnest_samples({\"p\": _p.numpy()}), 0.89)"
   ]
  },
  {
   "cell_type": "markdown",
   "metadata": {},
   "source": [
    "The inference looks pretty spot-on when looking at the probabilities after softmax transformation. What if we want to look at the effect of family income on career choice? Then the predictor is the same for every score rather than being related to the career itself."
   ]
  },
  {
   "cell_type": "code",
   "execution_count": 10,
   "metadata": {},
   "outputs": [
    {
     "name": "stdout",
     "output_type": "stream",
     "text": [
      "tensor([0.0619, 0.1871, 0.7510])\n"
     ]
    }
   ],
   "source": [
    "N = 500\n",
    "# simulate family incomes for each individual\n",
    "family_income = torch.rand(N)\n",
    "# income have different impact for each type of event\n",
    "b = tt([-2, 0, 2])\n",
    "score = 0.5*tt([1, 2, 3]) + b*family_income[:,None]\n",
    "p = softmax(score, dim=1)\n",
    "career = Categorical(p).sample()\n",
    "print(p.mean(dim=0))"
   ]
  },
  {
   "cell_type": "markdown",
   "metadata": {},
   "source": [
    "There are no intercepts in the simulation above. But if income doesn’t predict career choice, you still want an intercept to account for differences in frequency."
   ]
  },
  {
   "cell_type": "code",
   "execution_count": 11,
   "metadata": {},
   "outputs": [
    {
     "name": "stdout",
     "output_type": "stream",
     "text": [
      "{'adapt_step_size': True, 'adapt_mass_matrix': True, 'jit_compile': True}\n"
     ]
    },
    {
     "name": "stderr",
     "output_type": "stream",
     "text": [
      "Sample: 100%|██████████| 12000/12000 [00:40, 293.12it/s, step size=3.90e-01, acc. prob=0.924]\n"
     ]
    }
   ],
   "source": [
    "data = {\"career\": career, \"family_income\": family_income}\n",
    "\n",
    "def model_m10_17(data, training=True):\n",
    "    a = pyro.sample(\"a\", Normal(0., 10.).expand([2]).to_event(1))\n",
    "    b = pyro.sample(\"b\", Normal(0., 10.).expand([2]).to_event(1))\n",
    "    s1 = a[0] + b[0]*data[\"family_income\"]\n",
    "    s2 = a[1] + b[1]*data[\"family_income\"]\n",
    "    #s3 = a[2] + b[2]*data[\"family_income\"]#torch.zeros_like(s2)\n",
    "    s3 = torch.zeros_like(s2)\n",
    "    p = softmax(torch.stack([s1, s2, s3]), dim=0).T\n",
    "    pyro.sample(\"obs\", Categorical(p), obs=data[\"career\"])\n",
    "    \n",
    "m10_17 = train_nuts(model_m10_17, data, 6000, 6000, 1)"
   ]
  },
  {
   "cell_type": "code",
   "execution_count": 12,
   "metadata": {},
   "outputs": [
    {
     "data": {
      "text/html": [
       "<div>\n",
       "<style scoped>\n",
       "    .dataframe tbody tr th:only-of-type {\n",
       "        vertical-align: middle;\n",
       "    }\n",
       "\n",
       "    .dataframe tbody tr th {\n",
       "        vertical-align: top;\n",
       "    }\n",
       "\n",
       "    .dataframe thead th {\n",
       "        text-align: right;\n",
       "    }\n",
       "</style>\n",
       "<table border=\"1\" class=\"dataframe\">\n",
       "  <thead>\n",
       "    <tr style=\"text-align: right;\">\n",
       "      <th></th>\n",
       "      <th>career</th>\n",
       "      <th>family_income</th>\n",
       "    </tr>\n",
       "  </thead>\n",
       "  <tbody>\n",
       "    <tr>\n",
       "      <th>7</th>\n",
       "      <td>2</td>\n",
       "      <td>0.926600</td>\n",
       "    </tr>\n",
       "    <tr>\n",
       "      <th>264</th>\n",
       "      <td>1</td>\n",
       "      <td>0.630395</td>\n",
       "    </tr>\n",
       "    <tr>\n",
       "      <th>230</th>\n",
       "      <td>2</td>\n",
       "      <td>0.896559</td>\n",
       "    </tr>\n",
       "    <tr>\n",
       "      <th>493</th>\n",
       "      <td>2</td>\n",
       "      <td>0.240996</td>\n",
       "    </tr>\n",
       "    <tr>\n",
       "      <th>346</th>\n",
       "      <td>2</td>\n",
       "      <td>0.205933</td>\n",
       "    </tr>\n",
       "    <tr>\n",
       "      <th>473</th>\n",
       "      <td>2</td>\n",
       "      <td>0.797687</td>\n",
       "    </tr>\n",
       "    <tr>\n",
       "      <th>175</th>\n",
       "      <td>2</td>\n",
       "      <td>0.949362</td>\n",
       "    </tr>\n",
       "    <tr>\n",
       "      <th>134</th>\n",
       "      <td>1</td>\n",
       "      <td>0.235552</td>\n",
       "    </tr>\n",
       "    <tr>\n",
       "      <th>208</th>\n",
       "      <td>2</td>\n",
       "      <td>0.931834</td>\n",
       "    </tr>\n",
       "    <tr>\n",
       "      <th>39</th>\n",
       "      <td>2</td>\n",
       "      <td>0.848298</td>\n",
       "    </tr>\n",
       "  </tbody>\n",
       "</table>\n",
       "</div>"
      ],
      "text/plain": [
       "     career  family_income\n",
       "7         2       0.926600\n",
       "264       1       0.630395\n",
       "230       2       0.896559\n",
       "493       2       0.240996\n",
       "346       2       0.205933\n",
       "473       2       0.797687\n",
       "175       2       0.949362\n",
       "134       1       0.235552\n",
       "208       2       0.931834\n",
       "39        2       0.848298"
      ]
     },
     "execution_count": 12,
     "metadata": {},
     "output_type": "execute_result"
    }
   ],
   "source": [
    "pd.DataFrame(data).sample(10)"
   ]
  },
  {
   "cell_type": "code",
   "execution_count": 13,
   "metadata": {},
   "outputs": [
    {
     "name": "stdout",
     "output_type": "stream",
     "text": [
      "\n",
      "                mean       std    median      5.0%     95.0%     n_eff     r_hat\n",
      "      a[0]     -0.72      0.31     -0.71     -1.18     -0.19   2823.18      1.00\n",
      "      a[1]     -0.51      0.22     -0.51     -0.86     -0.15   2433.46      1.00\n",
      "      b[0]     -5.39      1.06     -5.34     -7.10     -3.68   2841.89      1.00\n",
      "      b[1]     -2.33      0.48     -2.32     -3.09     -1.54   2550.85      1.00\n",
      "\n",
      "Number of divergences: 0\n"
     ]
    }
   ],
   "source": [
    "m10_17.summary()"
   ]
  },
  {
   "cell_type": "code",
   "execution_count": 14,
   "metadata": {},
   "outputs": [
    {
     "data": {
      "text/plain": [
       "(tensor([-0.7195, -0.5142]), tensor([-5.3912, -2.3308]))"
      ]
     },
     "execution_count": 14,
     "metadata": {},
     "output_type": "execute_result"
    }
   ],
   "source": [
    "a = m10_17.get_samples()[\"a\"].mean(dim=0)\n",
    "b = m10_17.get_samples()[\"b\"].mean(dim=0)\n",
    "a, b"
   ]
  },
  {
   "cell_type": "code",
   "execution_count": 15,
   "metadata": {},
   "outputs": [
    {
     "name": "stdout",
     "output_type": "stream",
     "text": [
      "tensor([0.0619, 0.1871, 0.7510])\n",
      "tensor([0.0606, 0.1671, 0.7724])\n"
     ]
    }
   ],
   "source": [
    "b = tt([b[0], b[1], 0])\n",
    "score_ = tt([a[0], a[1], 0]) + b*family_income[:,None]\n",
    "p_ = softmax(score_, dim=1)\n",
    "print(p.mean(dim=0))\n",
    "print(p_.mean(dim=0))"
   ]
  },
  {
   "cell_type": "markdown",
   "metadata": {},
   "source": [
    "### Code 11.60 - 11.63\n",
    "A strange trick that we can use to make certain inferences easier, is that a multinomial/categorial distribution can be modeled as the joint distribution of multiple Poissons. The conversion technique is that the event probabilities $p_i$ in the categorical distribution can be written as a normalized version of the Poisson average count $p_i = \\lambda_i/\\sum_j \\lambda_j$. Let's look at the UC Berkeley data again and train two separate models for the overall rejection rate (forget about the department-level intricacies for now)."
   ]
  },
  {
   "cell_type": "code",
   "execution_count": 16,
   "metadata": {},
   "outputs": [],
   "source": [
    "ucb_df = pd.read_csv(\"data/UCBadmit.csv\", sep=\";\")\n",
    "d = ucb_df.copy()\n",
    "data = {\n",
    "    \"reject\": tt(d[\"reject\"].values).double(),\n",
    "    \"admit\": tt(d[\"admit\"].values).double(),\n",
    "    \"apps\": tt(d[\"applications\"].values).long()\n",
    "}"
   ]
  },
  {
   "cell_type": "code",
   "execution_count": 17,
   "metadata": {},
   "outputs": [
    {
     "name": "stdout",
     "output_type": "stream",
     "text": [
      "{'adapt_step_size': True, 'adapt_mass_matrix': True, 'jit_compile': True}\n"
     ]
    },
    {
     "name": "stderr",
     "output_type": "stream",
     "text": [
      "Sample: 100%|██████████| 2000/2000 [00:01, 1181.36it/s, step size=9.00e-01, acc. prob=0.931]\n"
     ]
    },
    {
     "name": "stdout",
     "output_type": "stream",
     "text": [
      "{'adapt_step_size': True, 'adapt_mass_matrix': True, 'jit_compile': True}\n"
     ]
    },
    {
     "name": "stderr",
     "output_type": "stream",
     "text": [
      "Sample: 100%|██████████| 2000/2000 [00:02, 810.47it/s, step size=8.55e-01, acc. prob=0.927]\n"
     ]
    }
   ],
   "source": [
    "def m_binom(data, training=True):\n",
    "    a = pyro.sample(\"a\", Normal(0., 1.5))\n",
    "    p = inv_logit(a)\n",
    "    pyro.sample(\"admit\", Binomial(data[\"apps\"], p), obs=data[\"admit\"])\n",
    "    \n",
    "def m_pois(data, training=True):\n",
    "    a1 = pyro.sample(\"a1\", Normal(0., 1.5))\n",
    "    a2 = pyro.sample(\"a2\", Normal(0., 1.5))\n",
    "    lambda1 = torch.exp(a1)\n",
    "    lambda2 = torch.exp(a2)\n",
    "    pyro.sample(\"admit\", Poisson(lambda1), obs=data[\"admit\"])\n",
    "    pyro.sample(\"reject\", Poisson(lambda2), obs=data[\"reject\"])\n",
    "    \n",
    "m_binom = train_nuts(m_binom, data, 1000, 1000, 1)\n",
    "m_pois = train_nuts(m_pois, data, 1000, 1000, 1)"
   ]
  },
  {
   "cell_type": "code",
   "execution_count": 18,
   "metadata": {},
   "outputs": [
    {
     "data": {
      "text/html": [
       "<div>\n",
       "<style scoped>\n",
       "    .dataframe tbody tr th:only-of-type {\n",
       "        vertical-align: middle;\n",
       "    }\n",
       "\n",
       "    .dataframe tbody tr th {\n",
       "        vertical-align: top;\n",
       "    }\n",
       "\n",
       "    .dataframe thead th {\n",
       "        text-align: right;\n",
       "    }\n",
       "</style>\n",
       "<table border=\"1\" class=\"dataframe\">\n",
       "  <thead>\n",
       "    <tr style=\"text-align: right;\">\n",
       "      <th></th>\n",
       "      <th>mean</th>\n",
       "      <th>stddev</th>\n",
       "      <th>5.5%</th>\n",
       "      <th>94.5%</th>\n",
       "    </tr>\n",
       "  </thead>\n",
       "  <tbody>\n",
       "    <tr>\n",
       "      <th>p</th>\n",
       "      <td>0.387305</td>\n",
       "      <td>0.007464</td>\n",
       "      <td>0.374802</td>\n",
       "      <td>0.39869</td>\n",
       "    </tr>\n",
       "  </tbody>\n",
       "</table>\n",
       "</div>"
      ],
      "text/plain": [
       "       mean    stddev      5.5%    94.5%\n",
       "p  0.387305  0.007464  0.374802  0.39869"
      ]
     },
     "execution_count": 18,
     "metadata": {},
     "output_type": "execute_result"
    }
   ],
   "source": [
    "# probability of admittance from binomial model\n",
    "s = m_binom.get_samples()\n",
    "precis({\"p\": inv_logit(s[\"a\"]).numpy()})"
   ]
  },
  {
   "cell_type": "code",
   "execution_count": 19,
   "metadata": {},
   "outputs": [
    {
     "data": {
      "text/html": [
       "<div>\n",
       "<style scoped>\n",
       "    .dataframe tbody tr th:only-of-type {\n",
       "        vertical-align: middle;\n",
       "    }\n",
       "\n",
       "    .dataframe tbody tr th {\n",
       "        vertical-align: top;\n",
       "    }\n",
       "\n",
       "    .dataframe thead th {\n",
       "        text-align: right;\n",
       "    }\n",
       "</style>\n",
       "<table border=\"1\" class=\"dataframe\">\n",
       "  <thead>\n",
       "    <tr style=\"text-align: right;\">\n",
       "      <th></th>\n",
       "      <th>mean</th>\n",
       "      <th>stddev</th>\n",
       "      <th>5.5%</th>\n",
       "      <th>94.5%</th>\n",
       "    </tr>\n",
       "  </thead>\n",
       "  <tbody>\n",
       "    <tr>\n",
       "      <th>p</th>\n",
       "      <td>0.387687</td>\n",
       "      <td>0.007422</td>\n",
       "      <td>0.376062</td>\n",
       "      <td>0.399109</td>\n",
       "    </tr>\n",
       "  </tbody>\n",
       "</table>\n",
       "</div>"
      ],
      "text/plain": [
       "       mean    stddev      5.5%     94.5%\n",
       "p  0.387687  0.007422  0.376062  0.399109"
      ]
     },
     "execution_count": 19,
     "metadata": {},
     "output_type": "execute_result"
    }
   ],
   "source": [
    "# probability of admittance from poisson mixture model\n",
    "s = m_pois.get_samples()\n",
    "precis({\"p\": (s[\"a1\"].exp()/(s[\"a1\"].exp() + s[\"a2\"].exp())).numpy()})"
   ]
  },
  {
   "cell_type": "markdown",
   "metadata": {},
   "source": [
    "The inferred admittance rate appears exactly the same! Although the inference looks like it took a bit longer... is it really more computationally feasible?"
   ]
  },
  {
   "cell_type": "markdown",
   "metadata": {},
   "source": [
    "### Code 11.62 - 11.??\n",
    "This section is about censoring/survival. "
   ]
  },
  {
   "cell_type": "markdown",
   "metadata": {},
   "source": [
    "Now we will use some data to analyze the adoption rate of cats in Austin, TX. For simplicity we assume that the adoption rate depends only on whether the cat is black or not. Because some cats leave the population before they are adopted (through death/transfer/etc.) some of the data is censored. We assume that the number of days to adoption is exponentially distributed with rate $\\lambda_i$, which has a probability density of\n",
    "$$ p(D_i|\\lambda_i) = \\lambda_i \\exp(-\\lambda_i D_i). $$\n",
    "The CDF of this distribution is the probability that a cat is adopted before some time $D_i$:\n",
    "$$ \\text{CDF}(D_i|\\lambda_i) =  1 - \\exp(-\\lambda_i D_i) $$\n",
    "and therefore the probability that a cat _would have been_ adopted after $D_i$ is 1 minus the CDF (the _complementary_ CDF):\n",
    "$$ \\text{CCDF}(D_i|\\lambda_i) = \\exp(-\\lambda_i D_i). $$\n",
    "This is proportional to an exponential distribution! Normally normalization doesn't matter for MCMC, but in this case it does since we are using TWO distributions with different normalization. The model is given by\n",
    "$$\n",
    "D_i | A_i = 1 \\sim \\text{Exponential}(\\lambda_i) \\\\\n",
    "D_i | A_i = 0 \\sim \\text{Exponential-CCDF}(\\lambda_i) \\\\\n",
    "\\lambda_i = 1/\\exp(\\alpha_\\text{color[i]}) \\\\\n",
    "\\alpha_\\text{color[i]} \\sim \\text{Normal}(0, 1)\n",
    "$$"
   ]
  },
  {
   "cell_type": "code",
   "execution_count": 22,
   "metadata": {},
   "outputs": [
    {
     "data": {
      "text/html": [
       "<div>\n",
       "<style scoped>\n",
       "    .dataframe tbody tr th:only-of-type {\n",
       "        vertical-align: middle;\n",
       "    }\n",
       "\n",
       "    .dataframe tbody tr th {\n",
       "        vertical-align: top;\n",
       "    }\n",
       "\n",
       "    .dataframe thead th {\n",
       "        text-align: right;\n",
       "    }\n",
       "</style>\n",
       "<table border=\"1\" class=\"dataframe\">\n",
       "  <thead>\n",
       "    <tr style=\"text-align: right;\">\n",
       "      <th></th>\n",
       "      <th>id</th>\n",
       "      <th>days_to_event</th>\n",
       "      <th>date_out</th>\n",
       "      <th>out_event</th>\n",
       "      <th>date_in</th>\n",
       "      <th>in_event</th>\n",
       "      <th>breed</th>\n",
       "      <th>color</th>\n",
       "      <th>intake_age</th>\n",
       "      <th>adopt</th>\n",
       "      <th>color_id</th>\n",
       "    </tr>\n",
       "  </thead>\n",
       "  <tbody>\n",
       "    <tr>\n",
       "      <th>0</th>\n",
       "      <td>A730601</td>\n",
       "      <td>1.0</td>\n",
       "      <td>07/08/2016 09:00:00 AM</td>\n",
       "      <td>Transfer</td>\n",
       "      <td>07/07/2016 12:11:00 PM</td>\n",
       "      <td>Stray</td>\n",
       "      <td>Domestic Shorthair Mix</td>\n",
       "      <td>Blue Tabby</td>\n",
       "      <td>7</td>\n",
       "      <td>0</td>\n",
       "      <td>0</td>\n",
       "    </tr>\n",
       "    <tr>\n",
       "      <th>1</th>\n",
       "      <td>A679549</td>\n",
       "      <td>25.0</td>\n",
       "      <td>06/16/2014 01:54:00 PM</td>\n",
       "      <td>Transfer</td>\n",
       "      <td>05/22/2014 03:43:00 PM</td>\n",
       "      <td>Stray</td>\n",
       "      <td>Domestic Shorthair Mix</td>\n",
       "      <td>Black/White</td>\n",
       "      <td>1</td>\n",
       "      <td>0</td>\n",
       "      <td>0</td>\n",
       "    </tr>\n",
       "    <tr>\n",
       "      <th>2</th>\n",
       "      <td>A683656</td>\n",
       "      <td>4.0</td>\n",
       "      <td>07/17/2014 04:57:00 PM</td>\n",
       "      <td>Adoption</td>\n",
       "      <td>07/13/2014 01:20:00 PM</td>\n",
       "      <td>Stray</td>\n",
       "      <td>Snowshoe Mix</td>\n",
       "      <td>Lynx Point</td>\n",
       "      <td>2</td>\n",
       "      <td>1</td>\n",
       "      <td>0</td>\n",
       "    </tr>\n",
       "    <tr>\n",
       "      <th>3</th>\n",
       "      <td>A709749</td>\n",
       "      <td>41.0</td>\n",
       "      <td>09/22/2015 12:49:00 PM</td>\n",
       "      <td>Transfer</td>\n",
       "      <td>08/12/2015 06:29:00 PM</td>\n",
       "      <td>Stray</td>\n",
       "      <td>Domestic Shorthair Mix</td>\n",
       "      <td>Calico</td>\n",
       "      <td>12</td>\n",
       "      <td>0</td>\n",
       "      <td>0</td>\n",
       "    </tr>\n",
       "    <tr>\n",
       "      <th>4</th>\n",
       "      <td>A733551</td>\n",
       "      <td>9.0</td>\n",
       "      <td>09/01/2016 12:00:00 AM</td>\n",
       "      <td>Transfer</td>\n",
       "      <td>08/23/2016 02:35:00 PM</td>\n",
       "      <td>Stray</td>\n",
       "      <td>Domestic Shorthair Mix</td>\n",
       "      <td>Brown Tabby/White</td>\n",
       "      <td>1</td>\n",
       "      <td>0</td>\n",
       "      <td>0</td>\n",
       "    </tr>\n",
       "  </tbody>\n",
       "</table>\n",
       "</div>"
      ],
      "text/plain": [
       "        id  days_to_event                date_out out_event  \\\n",
       "0  A730601            1.0  07/08/2016 09:00:00 AM  Transfer   \n",
       "1  A679549           25.0  06/16/2014 01:54:00 PM  Transfer   \n",
       "2  A683656            4.0  07/17/2014 04:57:00 PM  Adoption   \n",
       "3  A709749           41.0  09/22/2015 12:49:00 PM  Transfer   \n",
       "4  A733551            9.0  09/01/2016 12:00:00 AM  Transfer   \n",
       "\n",
       "                  date_in in_event                   breed              color  \\\n",
       "0  07/07/2016 12:11:00 PM    Stray  Domestic Shorthair Mix         Blue Tabby   \n",
       "1  05/22/2014 03:43:00 PM    Stray  Domestic Shorthair Mix        Black/White   \n",
       "2  07/13/2014 01:20:00 PM    Stray            Snowshoe Mix         Lynx Point   \n",
       "3  08/12/2015 06:29:00 PM    Stray  Domestic Shorthair Mix             Calico   \n",
       "4  08/23/2016 02:35:00 PM    Stray  Domestic Shorthair Mix  Brown Tabby/White   \n",
       "\n",
       "   intake_age  adopt  color_id  \n",
       "0           7      0         0  \n",
       "1           1      0         0  \n",
       "2           2      1         0  \n",
       "3          12      0         0  \n",
       "4           1      0         0  "
      ]
     },
     "execution_count": 22,
     "metadata": {},
     "output_type": "execute_result"
    }
   ],
   "source": [
    "cats_df = pd.read_csv(\"data/AustinCats.csv\", sep=\";\")\n",
    "cats_df[\"adopt\"] = (cats_df[\"out_event\"] == \"Adoption\").astype(int)\n",
    "cats_df[\"days_to_event\"] = cats_df[\"days_to_event\"].astype(float)\n",
    "cats_df[\"color_id\"] = (cats_df[\"color\"] == \"Black\").astype(int)\n",
    "cats_df.head()"
   ]
  },
  {
   "cell_type": "code",
   "execution_count": 23,
   "metadata": {},
   "outputs": [],
   "source": [
    "class ExponentialCCDF(pyro.distributions.TorchDistribution):\n",
    "    \"\"\"CCDF of the exponential distribution\n",
    "    \n",
    "    The probability is Pr(x|rate) = exp(-rate*x). Note that this is NOT a\n",
    "    probability distribution, it's just a raw probability. I figured out\n",
    "    how to make custom distributions by reading this forum post:\n",
    "    https://forum.pyro.ai/t/am-i-using-hmc-nuts-mcmc-correctly/635/15\n",
    "    \"\"\"\n",
    "    support = torch.distributions.constraints.positive\n",
    "    has_rsample = False\n",
    "    \n",
    "    def __init__(self, rate):\n",
    "        if isinstance(rate, torch.Tensor):\n",
    "            self.rate = rate\n",
    "        else:\n",
    "            self.rate = tt(rate)\n",
    "        super(pyro.distributions.TorchDistribution).__init__()\n",
    "    \n",
    "    # HACK: Only used for model initialization.\n",
    "    def sample(self, sample_shape=torch.Size()):\n",
    "        return tt(1.)\n",
    "\n",
    "    def log_prob(self, value):\n",
    "        return -self.rate * value\n",
    "    \n",
    "    @property\n",
    "    def event_shape(self):\n",
    "        return torch.Size()\n",
    "    \n",
    "    @property\n",
    "    def batch_shape(self):\n",
    "        self.rate.shape()"
   ]
  },
  {
   "cell_type": "code",
   "execution_count": 24,
   "metadata": {},
   "outputs": [
    {
     "name": "stdout",
     "output_type": "stream",
     "text": [
      "{'adapt_step_size': True, 'adapt_mass_matrix': True, 'jit_compile': True}\n"
     ]
    },
    {
     "name": "stderr",
     "output_type": "stream",
     "text": [
      "Sample: 100%|██████████| 4000/4000 [00:15, 250.82it/s, step size=8.31e-01, acc. prob=0.928]\n"
     ]
    }
   ],
   "source": [
    "data = format_data(cats_df[[\"adopt\", \"days_to_event\", \"color_id\"]], categoricals=(\"adopt\", \"color_id\"))\n",
    "\n",
    "def model_m11_14(data, training=False):\n",
    "    a = pyro.sample(\"a\", Normal(0., 1.).expand([2]).to_event(0))\n",
    "    mu = pyro.deterministic(\"mu\", torch.exp(a[data[\"color_id\"]]))\n",
    "    _lambda = 1.0/mu\n",
    "    adopt = data[\"adopt\"].bool()\n",
    "    o = pyro.sample(\"observed\", Exponential(_lambda[adopt]), obs=data[\"days_to_event\"][adopt])\n",
    "    c = pyro.sample(\"censored\", ExponentialCCDF(_lambda[~adopt]), obs=data[\"days_to_event\"][~adopt])\n",
    "\n",
    "m11_14 = train_nuts(model_m11_14, data, num_warmup=1000, num_samples=3000)"
   ]
  },
  {
   "cell_type": "code",
   "execution_count": 25,
   "metadata": {},
   "outputs": [
    {
     "name": "stdout",
     "output_type": "stream",
     "text": [
      "\n",
      "                mean       std    median      5.0%     95.0%     n_eff     r_hat\n",
      "      a[0]      3.88      0.01      3.88      3.86      3.90   2605.84      1.00\n",
      "      a[1]      4.05      0.03      4.05      4.01      4.09   2212.96      1.00\n",
      "\n",
      "Number of divergences: 0\n"
     ]
    }
   ],
   "source": [
    "m11_14.summary()"
   ]
  },
  {
   "cell_type": "markdown",
   "metadata": {},
   "source": [
    "Good, these are the same results McElreath gets. I tried it before using the exponential distribution for both and it was different! Interesting; looks like black cats are adopted at a lower rate than others:"
   ]
  },
  {
   "cell_type": "code",
   "execution_count": 26,
   "metadata": {},
   "outputs": [
    {
     "data": {
      "image/png": "[encoded data removed]",
      "text/plain": [
       "<Figure size 640x480 with 1 Axes>"
      ]
     },
     "metadata": {},
     "output_type": "display_data"
    }
   ],
   "source": [
    "samples = unnest_samples(m11_14.get_samples())\n",
    "plt.hist(1/samples[\"a[1]\"].exp(), bins=50, color=\"black\", label=\"black\", linewidth=2, histtype=\"step\", density=True)\n",
    "plt.hist(1/samples[\"a[0]\"].exp(), bins=50, color=\"C0\", label=\"not black\", linewidth=2, histtype=\"step\", density=True)\n",
    "plt.legend(title=\"cat color\")\n",
    "plt.xlabel(r\"$\\lambda$ [1/day]\")\n",
    "plt.ylabel(\"density\")\n",
    "plt.title(\"cat adoption rate\")\n",
    "plt.show()"
   ]
  },
  {
   "cell_type": "code",
   "execution_count": 27,
   "metadata": {},
   "outputs": [
    {
     "data": {
      "text/plain": [
       "dict_keys(['a[0]', 'a[1]'])"
      ]
     },
     "execution_count": 27,
     "metadata": {},
     "output_type": "execute_result"
    }
   ],
   "source": [
    "samples.keys()"
   ]
  },
  {
   "cell_type": "code",
   "execution_count": 28,
   "metadata": {},
   "outputs": [
    {
     "name": "stdout",
     "output_type": "stream",
     "text": [
      "48.435082575625025 57.412970321336914\n"
     ]
    },
    {
     "data": {
      "text/html": [
       "<div>\n",
       "<style scoped>\n",
       "    .dataframe tbody tr th:only-of-type {\n",
       "        vertical-align: middle;\n",
       "    }\n",
       "\n",
       "    .dataframe tbody tr th {\n",
       "        vertical-align: top;\n",
       "    }\n",
       "\n",
       "    .dataframe thead th {\n",
       "        text-align: right;\n",
       "    }\n",
       "</style>\n",
       "<table border=\"1\" class=\"dataframe\">\n",
       "  <thead>\n",
       "    <tr style=\"text-align: right;\">\n",
       "      <th></th>\n",
       "      <th>mean</th>\n",
       "      <th>stddev</th>\n",
       "      <th>5.5%</th>\n",
       "      <th>94.5%</th>\n",
       "    </tr>\n",
       "  </thead>\n",
       "  <tbody>\n",
       "    <tr>\n",
       "      <th>a[0]</th>\n",
       "      <td>3.880172</td>\n",
       "      <td>0.01024</td>\n",
       "      <td>3.864009</td>\n",
       "      <td>3.896969</td>\n",
       "    </tr>\n",
       "    <tr>\n",
       "      <th>a[1]</th>\n",
       "      <td>4.049948</td>\n",
       "      <td>0.025382</td>\n",
       "      <td>4.010528</td>\n",
       "      <td>4.091374</td>\n",
       "    </tr>\n",
       "    <tr>\n",
       "      <th>D0</th>\n",
       "      <td>48.435083</td>\n",
       "      <td>0.49607</td>\n",
       "      <td>47.656036</td>\n",
       "      <td>49.252927</td>\n",
       "    </tr>\n",
       "    <tr>\n",
       "      <th>D1</th>\n",
       "      <td>57.41297</td>\n",
       "      <td>1.45968</td>\n",
       "      <td>55.17597</td>\n",
       "      <td>59.822044</td>\n",
       "    </tr>\n",
       "  </tbody>\n",
       "</table>\n",
       "</div>"
      ],
      "text/plain": [
       "           mean    stddev       5.5%      94.5%\n",
       "a[0]   3.880172   0.01024   3.864009   3.896969\n",
       "a[1]   4.049948  0.025382   4.010528   4.091374\n",
       "D0    48.435083   0.49607  47.656036  49.252927\n",
       "D1     57.41297   1.45968   55.17597  59.822044"
      ]
     },
     "execution_count": 28,
     "metadata": {},
     "output_type": "execute_result"
    }
   ],
   "source": [
    "samples[\"D0\"] = torch.exp(samples[\"a[0]\"]).numpy()\n",
    "samples[\"D1\"]  = torch.exp(samples[\"a[1]\"]).numpy()\n",
    "D0 = torch.exp(samples[\"a[0]\"]).mean(dim=0).item()\n",
    "D1 = torch.exp(samples[\"a[1]\"]).mean(dim=0).item()\n",
    "print(D0, D1)\n",
    "\n",
    "samples[\"a[0]\"] = samples[\"a[0]\"].numpy()\n",
    "samples[\"a[1]\"] = samples[\"a[1]\"].numpy()\n",
    "\n",
    "# more expected number of days for black cats\n",
    "precis(samples, 0.89)"
   ]
  },
  {
   "cell_type": "code",
   "execution_count": 29,
   "metadata": {},
   "outputs": [
    {
     "data": {
      "text/plain": [
       "Text(0, 0.5, 'Proportion Remaining')"
      ]
     },
     "execution_count": 29,
     "metadata": {},
     "output_type": "execute_result"
    },
    {
     "data": {
      "image/png": "[encoded data removed]",
      "text/plain": [
       "<Figure size 640x480 with 1 Axes>"
      ]
     },
     "metadata": {},
     "output_type": "display_data"
    }
   ],
   "source": [
    "x = torch.arange(0, 100, 1)\n",
    "D0 = Exponential(tt(1/D0)).log_prob(x).exp().numpy()\n",
    "D1 = Exponential(tt(1/D1)).log_prob(x).exp().numpy()\n",
    "\n",
    "D0 = 1 - np.cumsum(D0)\n",
    "D1 = 1- np.cumsum(D1)\n",
    "\n",
    "\n",
    "plt.plot(D0, label=\"other\")\n",
    "plt.plot(D1, label=\"black\")\n",
    "plt.legend()\n",
    "plt.xlabel(\"No. of days\")\n",
    "plt.ylabel(\"Proportion Remaining\")"
   ]
  }
 ],
 "metadata": {
  "kernelspec": {
   "display_name": "Python 3 (ipykernel)",
   "language": "python",
   "name": "python3"
  },
  "language_info": {
   "codemirror_mode": {
    "name": "ipython",
    "version": 3
   },
   "file_extension": ".py",
   "mimetype": "text/x-python",
   "name": "python",
   "nbconvert_exporter": "python",
   "pygments_lexer": "ipython3",
   "version": "3.9.19"
  }
 },
 "nbformat": 4,
 "nbformat_minor": 4
}
