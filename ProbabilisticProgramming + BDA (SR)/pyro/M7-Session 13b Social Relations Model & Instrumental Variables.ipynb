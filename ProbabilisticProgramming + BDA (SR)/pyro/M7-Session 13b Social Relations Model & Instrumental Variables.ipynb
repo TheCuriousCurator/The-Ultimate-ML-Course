{
 "cells": [
  {
   "cell_type": "markdown",
   "metadata": {},
   "source": [
    "In the previous chapter on multilevel modeling, our adaptive priors allowed us to use data about one subgroup of the data to learn about other groups. However, that knowledge transfer was limited to parameters of the same type. Like in the chimpanzee example, all of our $\\alpha_j$'s had one prior parametrized by $\\bar{\\alpha}$ and $\\sigma_\\alpha$, and all the $\\gamma_j$'s were parametrized by a $\\sigma_\\gamma$. Learning something about $\\alpha_1$ helped us learn a bit about $\\alpha_2$, but nothing about $\\gamma_2$. In real life, sometimes there are correlations between different types of variables that allow us to learn something about multiple types at the same time and squeeze more information from our data."
   ]
  },
  {
   "cell_type": "code",
   "execution_count": 22,
   "metadata": {},
   "outputs": [],
   "source": [
    "import sys, warnings\n",
    "\n",
    "import pandas as pd\n",
    "import numpy as np\n",
    "import matplotlib.pyplot as plt\n",
    "from matplotlib.patches import Ellipse, Path, PathPatch\n",
    "import seaborn as sns\n",
    "import scipy.stats as stats\n",
    "from scipy import interpolate\n",
    "import torch\n",
    "tt =  torch.tensor\n",
    "import pyro\n",
    "from pyro import poutine\n",
    "from pyro.distributions import (\n",
    "    MultivariateNormal, Normal, LKJCorrCholesky, LKJCholesky, Exponential, Bernoulli, Poisson, HalfNormal\n",
    ")\n",
    "from pyro.infer import Predictive\n",
    "from pyro.ops.stats import waic, hpdi\n",
    "import arviz as az\n",
    "import xarray as xr\n",
    "import networkx as nx\n",
    "\n",
    "from utils import traceplot, train_nuts\n",
    "\n",
    "from utils import unnest_samples2 as unnest_samples\n",
    "\n",
    "torch.multiprocessing.set_sharing_strategy(\"file_system\")\n",
    "pyro.enable_validation()"
   ]
  },
  {
   "cell_type": "code",
   "execution_count": 23,
   "metadata": {},
   "outputs": [
    {
     "name": "stdout",
     "output_type": "stream",
     "text": [
      "The watermark extension is already loaded. To reload it, use:\n",
      "  %reload_ext watermark\n",
      "Last updated: Wed Sep 25 2024\n",
      "\n",
      "Python implementation: CPython\n",
      "Python version       : 3.9.19\n",
      "IPython version      : 8.18.1\n",
      "\n",
      "scipy     : 1.12.0\n",
      "matplotlib: 3.9.0\n",
      "networkx  : 3.1\n",
      "numpy     : 1.26.4\n",
      "xarray    : 2024.5.0\n",
      "torch     : 2.3.0\n",
      "pyro      : 1.9.1\n",
      "arviz     : 0.17.1\n",
      "pandas    : 2.2.2\n",
      "seaborn   : 0.12.2\n",
      "sys       : 3.9.19 (main, May  6 2024, 19:43:03) \n",
      "[GCC 11.2.0]\n",
      "\n",
      "Watermark: 2.4.3\n",
      "\n"
     ]
    }
   ],
   "source": [
    "%load_ext watermark\n",
    "%watermark -n -u -v -iv -w"
   ]
  },
  {
   "cell_type": "code",
   "execution_count": 24,
   "metadata": {},
   "outputs": [],
   "source": [
    "def get_log_prob(mcmc, data, site_names):\n",
    "    samples = mcmc.get_samples()\n",
    "    model = mcmc.kernel.model\n",
    "    # get number of samples\n",
    "    N = [v.shape[0] for v in samples.values()]\n",
    "    assert [n == N[0] for n in N]\n",
    "    N = N[0]\n",
    "    if isinstance(site_names, str):\n",
    "        site_names = [site_names]\n",
    "    # iterate over samples\n",
    "    log_prob = torch.zeros(N, len(data[site_names[0]]))\n",
    "    for i in range(N):\n",
    "        # condition on samples and get trace\n",
    "        s = {k: v[i] for k, v in samples.items()}\n",
    "        for nm in site_names:\n",
    "            s[nm] = data[nm]\n",
    "        tr = poutine.trace(poutine.condition(model, data=s)).get_trace(data)\n",
    "        # get pointwise log probability\n",
    "        for nm in site_names:\n",
    "            node = tr.nodes[nm]\n",
    "            log_prob[i] += node[\"fn\"].log_prob(node[\"value\"])\n",
    "    return log_prob"
   ]
  },
  {
   "cell_type": "markdown",
   "metadata": {},
   "source": [
    "### Code 14.29 - 14.35\n",
    "\n",
    "We will now explore multiple varying effects in the context of gift-giving among households in Nicaragua. We will build a \"social relations model\" (SRM) to determine the patterns of gift-giving among pairs of households."
   ]
  },
  {
   "cell_type": "code",
   "execution_count": 25,
   "metadata": {},
   "outputs": [
    {
     "data": {
      "text/html": [
       "<div>\n",
       "<style scoped>\n",
       "    .dataframe tbody tr th:only-of-type {\n",
       "        vertical-align: middle;\n",
       "    }\n",
       "\n",
       "    .dataframe tbody tr th {\n",
       "        vertical-align: top;\n",
       "    }\n",
       "\n",
       "    .dataframe thead th {\n",
       "        text-align: right;\n",
       "    }\n",
       "</style>\n",
       "<table border=\"1\" class=\"dataframe\">\n",
       "  <thead>\n",
       "    <tr style=\"text-align: right;\">\n",
       "      <th></th>\n",
       "      <th>hidA</th>\n",
       "      <th>hidB</th>\n",
       "      <th>did</th>\n",
       "      <th>giftsAB</th>\n",
       "      <th>giftsBA</th>\n",
       "      <th>offset</th>\n",
       "      <th>drel1</th>\n",
       "      <th>drel2</th>\n",
       "      <th>drel3</th>\n",
       "      <th>drel4</th>\n",
       "      <th>dlndist</th>\n",
       "      <th>dass</th>\n",
       "      <th>d0125</th>\n",
       "    </tr>\n",
       "  </thead>\n",
       "  <tbody>\n",
       "    <tr>\n",
       "      <th>0</th>\n",
       "      <td>1</td>\n",
       "      <td>2</td>\n",
       "      <td>1</td>\n",
       "      <td>0</td>\n",
       "      <td>4</td>\n",
       "      <td>0.000</td>\n",
       "      <td>0</td>\n",
       "      <td>0</td>\n",
       "      <td>1</td>\n",
       "      <td>0</td>\n",
       "      <td>-2.790</td>\n",
       "      <td>0.000</td>\n",
       "      <td>0</td>\n",
       "    </tr>\n",
       "    <tr>\n",
       "      <th>1</th>\n",
       "      <td>1</td>\n",
       "      <td>3</td>\n",
       "      <td>2</td>\n",
       "      <td>6</td>\n",
       "      <td>31</td>\n",
       "      <td>-0.003</td>\n",
       "      <td>0</td>\n",
       "      <td>1</td>\n",
       "      <td>0</td>\n",
       "      <td>0</td>\n",
       "      <td>-2.817</td>\n",
       "      <td>0.044</td>\n",
       "      <td>0</td>\n",
       "    </tr>\n",
       "    <tr>\n",
       "      <th>2</th>\n",
       "      <td>1</td>\n",
       "      <td>4</td>\n",
       "      <td>3</td>\n",
       "      <td>2</td>\n",
       "      <td>5</td>\n",
       "      <td>-0.019</td>\n",
       "      <td>0</td>\n",
       "      <td>1</td>\n",
       "      <td>0</td>\n",
       "      <td>0</td>\n",
       "      <td>-1.886</td>\n",
       "      <td>0.025</td>\n",
       "      <td>0</td>\n",
       "    </tr>\n",
       "    <tr>\n",
       "      <th>3</th>\n",
       "      <td>1</td>\n",
       "      <td>5</td>\n",
       "      <td>4</td>\n",
       "      <td>4</td>\n",
       "      <td>2</td>\n",
       "      <td>0.000</td>\n",
       "      <td>0</td>\n",
       "      <td>1</td>\n",
       "      <td>0</td>\n",
       "      <td>0</td>\n",
       "      <td>-1.892</td>\n",
       "      <td>0.011</td>\n",
       "      <td>0</td>\n",
       "    </tr>\n",
       "    <tr>\n",
       "      <th>4</th>\n",
       "      <td>1</td>\n",
       "      <td>6</td>\n",
       "      <td>5</td>\n",
       "      <td>8</td>\n",
       "      <td>2</td>\n",
       "      <td>-0.003</td>\n",
       "      <td>1</td>\n",
       "      <td>0</td>\n",
       "      <td>0</td>\n",
       "      <td>0</td>\n",
       "      <td>-3.499</td>\n",
       "      <td>0.022</td>\n",
       "      <td>0</td>\n",
       "    </tr>\n",
       "  </tbody>\n",
       "</table>\n",
       "</div>"
      ],
      "text/plain": [
       "   hidA  hidB  did  giftsAB  giftsBA  offset  drel1  drel2  drel3  drel4  \\\n",
       "0     1     2    1        0        4   0.000      0      0      1      0   \n",
       "1     1     3    2        6       31  -0.003      0      1      0      0   \n",
       "2     1     4    3        2        5  -0.019      0      1      0      0   \n",
       "3     1     5    4        4        2   0.000      0      1      0      0   \n",
       "4     1     6    5        8        2  -0.003      1      0      0      0   \n",
       "\n",
       "   dlndist   dass  d0125  \n",
       "0   -2.790  0.000      0  \n",
       "1   -2.817  0.044      0  \n",
       "2   -1.886  0.025      0  \n",
       "3   -1.892  0.011      0  \n",
       "4   -3.499  0.022      0  "
      ]
     },
     "execution_count": 25,
     "metadata": {},
     "output_type": "execute_result"
    }
   ],
   "source": [
    "kl_df = pd.read_csv(\"data/KosterLeckie.csv\", sep=\";\")\n",
    "kl_df.head()"
   ]
  },
  {
   "cell_type": "code",
   "execution_count": 26,
   "metadata": {},
   "outputs": [
    {
     "data": {
      "text/html": [
       "<div>\n",
       "<style scoped>\n",
       "    .dataframe tbody tr th:only-of-type {\n",
       "        vertical-align: middle;\n",
       "    }\n",
       "\n",
       "    .dataframe tbody tr th {\n",
       "        vertical-align: top;\n",
       "    }\n",
       "\n",
       "    .dataframe thead th {\n",
       "        text-align: right;\n",
       "    }\n",
       "</style>\n",
       "<table border=\"1\" class=\"dataframe\">\n",
       "  <thead>\n",
       "    <tr style=\"text-align: right;\">\n",
       "      <th></th>\n",
       "      <th>hidA</th>\n",
       "      <th>hidB</th>\n",
       "      <th>did</th>\n",
       "      <th>giftsAB</th>\n",
       "      <th>giftsBA</th>\n",
       "    </tr>\n",
       "  </thead>\n",
       "  <tbody>\n",
       "    <tr>\n",
       "      <th>0</th>\n",
       "      <td>1</td>\n",
       "      <td>2</td>\n",
       "      <td>1</td>\n",
       "      <td>0</td>\n",
       "      <td>4</td>\n",
       "    </tr>\n",
       "    <tr>\n",
       "      <th>1</th>\n",
       "      <td>1</td>\n",
       "      <td>3</td>\n",
       "      <td>2</td>\n",
       "      <td>6</td>\n",
       "      <td>31</td>\n",
       "    </tr>\n",
       "    <tr>\n",
       "      <th>2</th>\n",
       "      <td>1</td>\n",
       "      <td>4</td>\n",
       "      <td>3</td>\n",
       "      <td>2</td>\n",
       "      <td>5</td>\n",
       "    </tr>\n",
       "    <tr>\n",
       "      <th>3</th>\n",
       "      <td>1</td>\n",
       "      <td>5</td>\n",
       "      <td>4</td>\n",
       "      <td>4</td>\n",
       "      <td>2</td>\n",
       "    </tr>\n",
       "    <tr>\n",
       "      <th>4</th>\n",
       "      <td>1</td>\n",
       "      <td>6</td>\n",
       "      <td>5</td>\n",
       "      <td>8</td>\n",
       "      <td>2</td>\n",
       "    </tr>\n",
       "  </tbody>\n",
       "</table>\n",
       "</div>"
      ],
      "text/plain": [
       "   hidA  hidB  did  giftsAB  giftsBA\n",
       "0     1     2    1        0        4\n",
       "1     1     3    2        6       31\n",
       "2     1     4    3        2        5\n",
       "3     1     5    4        4        2\n",
       "4     1     6    5        8        2"
      ]
     },
     "execution_count": 26,
     "metadata": {},
     "output_type": "execute_result"
    }
   ],
   "source": [
    "kl_df[[\"hidA\", \"hidB\", \"did\", \"giftsAB\", \"giftsBA\"]].head()"
   ]
  },
  {
   "cell_type": "code",
   "execution_count": 27,
   "metadata": {},
   "outputs": [
    {
     "name": "stdout",
     "output_type": "stream",
     "text": [
      "# unique houses: 24\n",
      "# unique dyads: 300\n"
     ]
    }
   ],
   "source": [
    "print(\"# unique houses:\", kl_df[\"hidA\"].nunique())\n",
    "print(\"# unique dyads:\", kl_df[\"did\"].nunique())"
   ]
  },
  {
   "cell_type": "markdown",
   "metadata": {},
   "source": [
    "Each house (which has a unique ID `hid`) part of (potentially) multiple _dyads_ (given by unique dyad ID `did`), or pairs. We will use a \"social relations model\" (SRM) to model the gift exchange. This model is essentially a Poisson regression on the number of gifts given by house $A$ to house $B$, where the linear model is a sum of some general intercept $\\alpha$, a the giving tendency of some household $g_A$, the receiving tendency of some household $r_B$, and a dyad-specific rate that $A$ gives to $B$ $d_{AB}$:\n",
    "\n",
    "$$\n",
    "y_{A\\rightarrow B} \\sim \\text{Poisson}(\\lambda_{AB}) \\\\\n",
    "\\lambda_{AB} = \\exp\\left(\\alpha + g_A + r_B + d_{AB}\\right)\n",
    "$$\n",
    "\n",
    "The is also a corresponding model for the exchange in the other direction $y_{B\\rightarrow A}$. So for each household $H$, we need two varying effects $g_H$ and $r_H$, and for each dyad $AB$ to varying effects $d_{AB}$ and $d_{BA}$. We also want to take into account any possible correlations within these groups, so we will use the following adaptive priors:\n",
    "\n",
    "$$\n",
    "\\begin{pmatrix}g_i\\\\ r_i\\end{pmatrix} \\sim \\text{Normal}\\left(\\begin{pmatrix}0\\\\0\\end{pmatrix}, \\begin{pmatrix}\\sigma_g^2 & \\sigma_g \\sigma_r \\rho_{gr} \\\\ \\sigma_g \\sigma_r \\rho_{gr} & \\sigma_r^2\\end{pmatrix}\\right) \\\\\n",
    "\\begin{pmatrix}d_{ij}\\\\ d_{ji}\\end{pmatrix} \\sim \\text{Normal}\\left(\\begin{pmatrix}0\\\\0\\end{pmatrix}, \\begin{pmatrix}\\sigma_d^2 & \\sigma_d^2 \\rho_{d} \\\\ \\sigma_d^2 \\rho_{d} & \\sigma_r^2\\end{pmatrix}\\right)\n",
    "$$"
   ]
  },
  {
   "cell_type": "code",
   "execution_count": 28,
   "metadata": {},
   "outputs": [],
   "source": [
    "data = dict(\n",
    "    N = len(kl_df),\n",
    "    N_households = int(max(*[kl_df[k].max() for k in (\"hidA\", \"hidB\")])),\n",
    "    did = tt(kl_df[\"did\"].values-1).long(),\n",
    "    hidA = tt(kl_df[\"hidA\"].values-1).long(),\n",
    "    hidB = tt(kl_df[\"hidB\"].values-1).long(),\n",
    "    giftsAB = tt(kl_df[\"giftsAB\"].values).double(),\n",
    "    giftsBA = tt(kl_df[\"giftsBA\"].values).double(),\n",
    ")"
   ]
  },
  {
   "cell_type": "code",
   "execution_count": 29,
   "metadata": {},
   "outputs": [],
   "source": [
    "def model_m14_6(data, training=False):\n",
    "    N, Nh = [data[k] for k in (\"N\", \"N_households\")]\n",
    "    a = pyro.sample(\"α\", Normal(0., 1.))\n",
    "    # giving/receiving covariance matrix\n",
    "    Rgr = pyro.sample(\"Rgr\", LKJCholesky(2, tt(1.5)))\n",
    "    σgr = pyro.sample(\"σgr\", Exponential(1.).expand([2]))\n",
    "    Sgr = (torch.diag(σgr) @ Rgr)\n",
    "    # dyad covariance matrix\n",
    "    Rd = pyro.sample(\"Rd\", LKJCholesky(2, tt(1.5)))\n",
    "    σd = pyro.sample(\"σd\", Exponential(1.))\n",
    "    Sd = (σd * Rd)\n",
    "    zeros = torch.zeros(2).float()\n",
    "    # individual house giving/receiving variables\n",
    "    gr = pyro.sample(\"gr\", MultivariateNormal(zeros, scale_tril=Sgr.float()).expand([Nh]))\n",
    "\n",
    "    # dyad variables\n",
    "    d = pyro.sample(\"d\", MultivariateNormal(zeros, scale_tril=Sd.float()).expand([N]))\n",
    "    \n",
    "    # form the linear models\n",
    "    A, B, did = [data[k] for k in (\"hidA\", \"hidB\", \"did\")]\n",
    "    λAB = torch.exp(a + gr[A,0] + gr[B,1] + d[did,0])\n",
    "    λBA = torch.exp(a + gr[B,0] + gr[A,1] + d[did,1])\n",
    "    # observe outcomes\n",
    "    if training:\n",
    "        pyro.sample(\"giftsAB\", Poisson(λAB), obs=data[\"giftsAB\"])\n",
    "        pyro.sample(\"giftsBA\", Poisson(λBA), obs=data[\"giftsBA\"])\n",
    "    else:\n",
    "        gAB = pyro.sample(\"giftsAB\", Poisson(λAB))\n",
    "        gBA = pyro.sample(\"giftsBA\", Poisson(λBA))\n",
    "        return torch.stack([gAB, gBA])"
   ]
  },
  {
   "cell_type": "code",
   "execution_count": 30,
   "metadata": {},
   "outputs": [
    {
     "name": "stdout",
     "output_type": "stream",
     "text": [
      "{'adapt_step_size': True, 'adapt_mass_matrix': True, 'jit_compile': True}\n"
     ]
    },
    {
     "name": "stderr",
     "output_type": "stream",
     "text": [
      "Warmup:   0%|          | 0/1500 [00:00, ?it/s]/tmp/ipykernel_7372/4012063187.py:5: TracerWarning: torch.tensor results are registered as constants in the trace. You can safely ignore this warning if you use this function to create tensors out of constant variables that would be the same every time you call this function. In any other case, this might cause the trace to be incorrect.\n",
      "  Rgr = pyro.sample(\"Rgr\", LKJCholesky(2, tt(1.5)))\n",
      "/tmp/ipykernel_7372/4012063187.py:9: TracerWarning: torch.tensor results are registered as constants in the trace. You can safely ignore this warning if you use this function to create tensors out of constant variables that would be the same every time you call this function. In any other case, this might cause the trace to be incorrect.\n",
      "  Rd = pyro.sample(\"Rd\", LKJCholesky(2, tt(1.5)))\n",
      "Sample: 100%|██████████| 1500/1500 [02:34,  9.69it/s, step size=1.04e-01, acc. prob=0.853]\n"
     ]
    }
   ],
   "source": [
    "m14_6 = train_nuts(model_m14_6, data, 500, 1000)"
   ]
  },
  {
   "cell_type": "markdown",
   "metadata": {},
   "source": [
    "There are several hundred parameters in this model, so if I show all of their summary statistics, it might be a bit overwhelming. Instead, let's first examine just the covariance structure of the adaptive priors for the giving/receiving and dyad groups:"
   ]
  },
  {
   "cell_type": "code",
   "execution_count": 31,
   "metadata": {},
   "outputs": [
    {
     "data": {
      "text/html": [
       "<div>\n",
       "<style scoped>\n",
       "    .dataframe tbody tr th:only-of-type {\n",
       "        vertical-align: middle;\n",
       "    }\n",
       "\n",
       "    .dataframe tbody tr th {\n",
       "        vertical-align: top;\n",
       "    }\n",
       "\n",
       "    .dataframe thead th {\n",
       "        text-align: right;\n",
       "    }\n",
       "</style>\n",
       "<table border=\"1\" class=\"dataframe\">\n",
       "  <thead>\n",
       "    <tr style=\"text-align: right;\">\n",
       "      <th></th>\n",
       "      <th>mean</th>\n",
       "      <th>std</th>\n",
       "      <th>median</th>\n",
       "      <th>5.0%</th>\n",
       "      <th>95.0%</th>\n",
       "      <th>n_eff</th>\n",
       "    </tr>\n",
       "    <tr>\n",
       "      <th>param</th>\n",
       "      <th></th>\n",
       "      <th></th>\n",
       "      <th></th>\n",
       "      <th></th>\n",
       "      <th></th>\n",
       "      <th></th>\n",
       "    </tr>\n",
       "  </thead>\n",
       "  <tbody>\n",
       "    <tr>\n",
       "      <th>Rgr[0][0]</th>\n",
       "      <td>1.00</td>\n",
       "      <td>0.00</td>\n",
       "      <td>1.00</td>\n",
       "      <td>1.00</td>\n",
       "      <td>1.00</td>\n",
       "      <td>NaN</td>\n",
       "    </tr>\n",
       "    <tr>\n",
       "      <th>Rgr[0][1]</th>\n",
       "      <td>-0.55</td>\n",
       "      <td>0.21</td>\n",
       "      <td>-0.57</td>\n",
       "      <td>-0.87</td>\n",
       "      <td>-0.17</td>\n",
       "      <td>203.41</td>\n",
       "    </tr>\n",
       "    <tr>\n",
       "      <th>Rgr[1][0]</th>\n",
       "      <td>-0.55</td>\n",
       "      <td>0.21</td>\n",
       "      <td>-0.57</td>\n",
       "      <td>-0.87</td>\n",
       "      <td>-0.17</td>\n",
       "      <td>203.41</td>\n",
       "    </tr>\n",
       "    <tr>\n",
       "      <th>Rgr[1][1]</th>\n",
       "      <td>1.00</td>\n",
       "      <td>0.00</td>\n",
       "      <td>1.00</td>\n",
       "      <td>1.00</td>\n",
       "      <td>1.00</td>\n",
       "      <td>927.70</td>\n",
       "    </tr>\n",
       "    <tr>\n",
       "      <th>σgr[0]</th>\n",
       "      <td>0.83</td>\n",
       "      <td>0.13</td>\n",
       "      <td>0.82</td>\n",
       "      <td>0.63</td>\n",
       "      <td>1.05</td>\n",
       "      <td>625.49</td>\n",
       "    </tr>\n",
       "    <tr>\n",
       "      <th>σgr[1]</th>\n",
       "      <td>0.41</td>\n",
       "      <td>0.09</td>\n",
       "      <td>0.40</td>\n",
       "      <td>0.27</td>\n",
       "      <td>0.57</td>\n",
       "      <td>198.86</td>\n",
       "    </tr>\n",
       "  </tbody>\n",
       "</table>\n",
       "</div>"
      ],
      "text/plain": [
       "           mean   std  median  5.0%  95.0%   n_eff\n",
       "param                                             \n",
       "Rgr[0][0]  1.00  0.00    1.00  1.00   1.00     NaN\n",
       "Rgr[0][1] -0.55  0.21   -0.57 -0.87  -0.17  203.41\n",
       "Rgr[1][0] -0.55  0.21   -0.57 -0.87  -0.17  203.41\n",
       "Rgr[1][1]  1.00  0.00    1.00  1.00   1.00  927.70\n",
       "σgr[0]     0.83  0.13    0.82  0.63   1.05  625.49\n",
       "σgr[1]     0.41  0.09    0.40  0.27   0.57  198.86"
      ]
     },
     "execution_count": 31,
     "metadata": {},
     "output_type": "execute_result"
    }
   ],
   "source": [
    "s = {k: v for k, v in m14_6.get_samples().items() if k in (\"Rgr\", \"σgr\")}\n",
    "s[\"Rgr\"] = torch.einsum(\"ijk,ilk->ijl\", s[\"Rgr\"], s[\"Rgr\"])\n",
    "df = []\n",
    "for k, v in unnest_samples(s, 2).items():\n",
    "    q = pyro.ops.stats.quantile(v, [0.05, 0.95])\n",
    "    df.append({\n",
    "        \"param\": k,\n",
    "        \"mean\": round(v.mean().item(), 2),\n",
    "        \"std\": round(v.std().item(), 2),\n",
    "        \"median\": round(v.median().item(), 2),\n",
    "        \"5.0%\": round(q[0].item(), 2),\n",
    "        \"95.0%\": round(q[1].item(), 2),\n",
    "        \"n_eff\": round(pyro.ops.stats.effective_sample_size(v[None,:]).item(), 2)\n",
    "    })\n",
    "pd.DataFrame(df).set_index(\"param\")"
   ]
  },
  {
   "cell_type": "markdown",
   "metadata": {},
   "source": [
    "We can see that there is a pretty sizable negative correlation between (\"generalized\") giving and receiving. This means that across dyads, those who give more tend to receive less. The standard deviation parameters show that there is also a lot more variability in giving than there is in receiving. Let's plot the giving/receiving effects for each household."
   ]
  },
  {
   "cell_type": "code",
   "execution_count": 32,
   "metadata": {},
   "outputs": [
    {
     "data": {
      "image/png": "[encoded data removed]",
      "text/plain": [
       "<Figure size 600x600 with 1 Axes>"
      ]
     },
     "metadata": {},
     "output_type": "display_data"
    }
   ],
   "source": [
    "s = {k: v for k, v in m14_6.get_samples().items() if k in (\"α\", \"gr\")}\n",
    "fig, ax = plt.subplots(figsize=(6, 6))\n",
    "z = 2*np.sqrt(-2*np.log1p(-0.89)) # eigenvalue scaling factor to get 89% CI\n",
    "for hid in range(data[\"N_households\"]):\n",
    "    g = s[\"α\"] + s[\"gr\"][:,hid,0]\n",
    "    r = s[\"α\"] + s[\"gr\"][:,hid,1]\n",
    "    plt.scatter(g.exp().mean(), r.exp().mean(), facecolor=\"none\", edgecolor=\"C0\")\n",
    "    # make ellipse in unexponentiated space\n",
    "    S = np.cov(torch.stack([g, r])) # covariance matrix\n",
    "    w, v = np.linalg.eigh(S)\n",
    "    angles = np.arctan2(*v) * (180/np.pi)\n",
    "    idx = np.argmin(abs(angles))\n",
    "    p = (g.mean(), r.mean())\n",
    "    e = Ellipse(xy=p, width=z*w[idx], height=z*w[1-idx], angle=-angles[1-idx])\n",
    "    # transform ellipse into exponentiated space\n",
    "    path = e.get_transform().transform_path(e.get_path())\n",
    "    path = Path(np.exp(path.vertices), path.codes)\n",
    "    ax.add_patch(PathPatch(path, facecolor=\"none\", edgecolor=\"black\", alpha=0.5, zorder=-1))\n",
    "#     sns.kdeplot(g.exp().numpy(), r.exp().numpy())\n",
    "x = np.linspace(0, 8)\n",
    "plt.plot(x, x, color=\"black\", linestyle=\"--\")\n",
    "plt.xlim(left=0, right=8)\n",
    "plt.ylim(bottom=0, top=8)\n",
    "plt.xlabel(\"generalized giving\")\n",
    "plt.ylabel(\"generalized receiving\")\n",
    "plt.show()"
   ]
  },
  {
   "cell_type": "markdown",
   "metadata": {},
   "source": [
    "We can see that there is indeed a negative correlation - houses that give the least recieve the most, and vice versa. Perhaps this is due to charity of the wealthy giving to those who need it the most (who can't afford to give themselves). Let's now take a look at how symmetric the dyad relationship is, controlling for the individual giving/receiving of each household."
   ]
  },
  {
   "cell_type": "code",
   "execution_count": 33,
   "metadata": {},
   "outputs": [
    {
     "data": {
      "image/png": "[encoded data removed]",
      "text/plain": [
       "<Figure size 640x480 with 1 Axes>"
      ]
     },
     "metadata": {},
     "output_type": "display_data"
    }
   ],
   "source": [
    "s = m14_6.get_samples()\n",
    "dAB = s[\"d\"][:,:,0].mean(dim=0)\n",
    "dBA = s[\"d\"][:,:,1].mean(dim=0)\n",
    "plt.scatter(dAB, dBA, facecolor=\"none\", edgecolor=\"black\", alpha=0.5)\n",
    "plt.axhline(0, color=\"black\", linestyle=\"--\")\n",
    "plt.axvline(0, color=\"black\", linestyle=\"--\")\n",
    "plt.xlabel(\"dyad giving $d_{AB}$\")\n",
    "plt.ylabel(\"dyad giving $d_{BA}$\")\n",
    "plt.show()"
   ]
  },
  {
   "cell_type": "markdown",
   "metadata": {},
   "source": [
    "The relationship is super symmetric, but with a lot more variation than the giving/receiving log-rates. It seems that these people try to match the level of gift giving they recieve (accounting for individual levels of wealth, generosity, etc)."
   ]
  },
  {
   "cell_type": "markdown",
   "metadata": {},
   "source": [
    "### Code 14.23 - 14.28\n",
    "We have seen that covariance and correlation are useful when specifying hierarchical models with adaptive priors. However, it can be useful for much more than that. Consider a study where we want to determine the effect of education ($E$) on wages ($W$). If we just blindly regress $W$ on $E$, we could end up with a biased result when $E$ and $W$ are both influenced by some unobserved confounding factor ($U$)."
   ]
  },
  {
   "cell_type": "code",
   "execution_count": 34,
   "metadata": {},
   "outputs": [
    {
     "data": {
      "image/png": "[encoded data removed]",
      "text/plain": [
       "<Figure size 640x480 with 1 Axes>"
      ]
     },
     "metadata": {},
     "output_type": "display_data"
    }
   ],
   "source": [
    "G = nx.DiGraph(((\"U\",\"E\"), (\"U\",\"W\"), (\"E\",\"W\")))\n",
    "pos = {\"E\": (0, 0), \"W\": (1, 0), \"U\": (0.5, 0.5)}\n",
    "nx.draw_networkx(G, pos); plt.show()"
   ]
  },
  {
   "cell_type": "markdown",
   "metadata": {},
   "source": [
    "However, we can actually learn something about $U$ and tease out the actual effect of $E$ on $W$ by introducing an _instrumental variable_ $Q$, which only affects $E$, thereby turning it into a collider. (In the following example, $Q$ is a binary indicator that represents whether a subject was born during the first quarter of the year, the idea being that people born in Q1 will be older when they start school, and are eligible to drop out of school earlier.)"
   ]
  },
  {
   "cell_type": "code",
   "execution_count": 35,
   "metadata": {},
   "outputs": [
    {
     "data": {
      "image/png": "[encoded data removed]",
      "text/plain": [
       "<Figure size 640x480 with 1 Axes>"
      ]
     },
     "metadata": {},
     "output_type": "display_data"
    }
   ],
   "source": [
    "G = nx.DiGraph(((\"U\",\"E\"), (\"U\",\"W\"), (\"E\",\"W\"), (\"Q\", \"E\")))\n",
    "pos = {\"E\": (0, 0), \"W\": (1, 0), \"U\": (0.5, 0.5), \"Q\": (-0.5, 0.5)}\n",
    "nx.draw_networkx(G, pos); plt.show()"
   ]
  },
  {
   "cell_type": "markdown",
   "metadata": {},
   "source": [
    "You can think of the instrumental variable (IV) as a light switch. A light $L$ being on depends on both the switch $S$ being turned on and the bulb $B$ being functional. If we turn on the switch but the light doesn't come on, then we can infer that the bulb must be broken. This is all possible because of the collider $S \\rightarrow L \\leftarrow B$.\n",
    "\n",
    "We can create a generative model of this DAG and then re-learn its parameters to see the effect of the IV on our inference. Our ground-truth, generative model will be given by\n",
    "\n",
    "$$\\begin{align*}\n",
    "W_i &\\sim \\text{Normal}(\\mu_{W,i}, \\sigma_W) \\\\\n",
    "\\mu_{W,i} &= \\alpha_W + \\beta_{EW} E_i + U_i \\\\\n",
    "E_i &\\sim \\text{Normal}(\\mu_{E,i}, \\sigma_E) \\\\\n",
    "\\mu_{E,i} &= \\alpha_E + \\beta_{QE} Q_i + U_i \\\\\n",
    "Q_i &\\sim \\text{Bernoulli}(0.25) \\\\\n",
    "U_i &\\sim \\text{Normal}(0, 1)\n",
    "\\end{align*}$$"
   ]
  },
  {
   "cell_type": "code",
   "execution_count": 36,
   "metadata": {},
   "outputs": [],
   "source": [
    "N = 500\n",
    "U_sim = Normal(0., 1.).sample([N])\n",
    "Q_sim = Bernoulli(0.25).sample([N])\n",
    "E_sim = Normal(U_sim + Q_sim, 1.).sample()\n",
    "W_sim = Normal(U_sim + 0*E_sim, 1.).sample()\n",
    "data = dict(\n",
    "    W = (W_sim - W_sim.mean())/W_sim.std(),\n",
    "    E = (E_sim - E_sim.mean())/E_sim.std(),\n",
    "    Q = (Q_sim - Q_sim.mean())/Q_sim.std(),\n",
    ")"
   ]
  },
  {
   "cell_type": "code",
   "execution_count": 37,
   "metadata": {},
   "outputs": [],
   "source": [
    "def model_m14_4(data, training=False):\n",
    "    σ = pyro.sample(\"σ\", Exponential(1.))\n",
    "    αW = pyro.sample(\"αW\", Normal(0., 0.2))\n",
    "    βEW = pyro.sample(\"βEW\", Normal(0., 0.5))\n",
    "    μ = αW + βEW*data[\"E\"]\n",
    "    if training:\n",
    "        pyro.sample(\"W\", Normal(μ, σ), obs=data[\"W\"])\n",
    "    else:\n",
    "        return pyro.sample(\"W\", Normal(μ, σ))"
   ]
  },
  {
   "cell_type": "code",
   "execution_count": 38,
   "metadata": {},
   "outputs": [
    {
     "name": "stdout",
     "output_type": "stream",
     "text": [
      "{'adapt_step_size': True, 'adapt_mass_matrix': True, 'jit_compile': True}\n"
     ]
    },
    {
     "name": "stderr",
     "output_type": "stream",
     "text": [
      "Sample: 100%|██████████| 2500/2500 [00:04, 541.05it/s, step size=7.37e-01, acc. prob=0.926]\n"
     ]
    }
   ],
   "source": [
    "m14_4 = train_nuts(model_m14_4, data, 500, 2000)"
   ]
  },
  {
   "cell_type": "code",
   "execution_count": 39,
   "metadata": {},
   "outputs": [
    {
     "name": "stdout",
     "output_type": "stream",
     "text": [
      "\n",
      "                mean       std    median      5.0%     95.0%     n_eff     r_hat\n",
      "        αW     -0.00      0.04     -0.00     -0.06      0.07   1588.32      1.00\n",
      "       βEW      0.49      0.04      0.49      0.43      0.56   1743.19      1.00\n",
      "         σ      0.87      0.03      0.87      0.83      0.92   1739.39      1.00\n",
      "\n",
      "Number of divergences: 0\n"
     ]
    }
   ],
   "source": [
    "m14_4.summary()"
   ]
  },
  {
   "cell_type": "markdown",
   "metadata": {},
   "source": [
    "We can see that this naiive model is very confident that $E$ has a strong positive effect on $W$. But we know better. Now, let's construct a smarter model that utilizes the IV $Q$.\n",
    "\n",
    "$$\\begin{align*}\n",
    "\\begin{pmatrix}W_i\\\\E_i\\end{pmatrix} &\\sim \\text{Normal}\\left(\\begin{pmatrix}\\mu_{W,i}\\\\\\mu_{E_i}\\end{pmatrix}, \\boldsymbol{S}\\right) \\\\\n",
    "\\mu_{W,i} &= \\alpha_W + \\beta_{EW} E_i \\\\\n",
    "\\mu_{E,i} &= \\alpha_E + \\beta_{QE} Q_i\n",
    "\\end{align*}$$"
   ]
  },
  {
   "cell_type": "code",
   "execution_count": 40,
   "metadata": {},
   "outputs": [],
   "source": [
    "def model_m14_5(data, training=False):\n",
    "    σ = pyro.sample(\"σ\", Exponential(1.).expand([2]))\n",
    "    R = pyro.sample(\"R\", LKJCholesky(2, tt(1.)))\n",
    "    S = torch.diag(σ) @ R\n",
    "    α = pyro.sample(\"α\", Normal(0., 0.2).expand([2]))\n",
    "    β = pyro.sample(\"β\", Normal(0., 0.5).expand([2]))\n",
    "    WE, EQ = torch.stack([data[\"W\"], data[\"E\"]], dim=1), torch.stack([data[\"E\"], data[\"Q\"]], dim=1)\n",
    "    μ = α[None,:] + β[None,:]*EQ\n",
    "    if training:\n",
    "        pyro.sample(\"WE\", MultivariateNormal(μ, scale_tril=S), obs=WE)\n",
    "    else:\n",
    "        return pyro.sample(\"WE\", MultivariateNormal(μ, scale_tril=S))"
   ]
  },
  {
   "cell_type": "code",
   "execution_count": 41,
   "metadata": {},
   "outputs": [
    {
     "name": "stdout",
     "output_type": "stream",
     "text": [
      "{'adapt_step_size': True, 'adapt_mass_matrix': True, 'jit_compile': False}\n"
     ]
    },
    {
     "name": "stderr",
     "output_type": "stream",
     "text": [
      "Sample: 100%|██████████| 2500/2500 [00:59, 41.80it/s, step size=1.74e-01, acc. prob=0.941]\n"
     ]
    }
   ],
   "source": [
    "m14_5 = train_nuts(model_m14_5, data, 500, 2000, jit_compile=False)"
   ]
  },
  {
   "cell_type": "code",
   "execution_count": 42,
   "metadata": {},
   "outputs": [
    {
     "name": "stdout",
     "output_type": "stream",
     "text": [
      "\n",
      "                mean       std    median      5.0%     95.0%     n_eff     r_hat\n",
      "    R[0,0]      1.00      0.00      1.00      1.00      1.00       nan       nan\n",
      "    R[0,1]      0.00      0.00      0.00      0.00      0.00       nan       nan\n",
      "    R[1,0]      0.51      0.10      0.52      0.35      0.68       nan      1.00\n",
      "    R[1,1]      0.85      0.06      0.86      0.77      0.96       nan      1.00\n",
      "      α[0]     -0.00      0.04     -0.00     -0.07      0.07   1262.23      1.00\n",
      "      α[1]     -0.00      0.04     -0.00     -0.07      0.07   1327.94      1.00\n",
      "      β[0]      0.00      0.14      0.01     -0.24      0.21    486.58      1.00\n",
      "      β[1]      0.30      0.04      0.30      0.23      0.37    926.87      1.00\n",
      "      σ[0]      1.01      0.08      1.00      0.88      1.12    489.59      1.00\n",
      "      σ[1]      0.96      0.03      0.95      0.91      1.01   1497.42      1.00\n",
      "\n",
      "Number of divergences: 0\n"
     ]
    }
   ],
   "source": [
    "m14_5.summary()"
   ]
  },
  {
   "cell_type": "code",
   "execution_count": 43,
   "metadata": {},
   "outputs": [
    {
     "data": {
      "text/plain": [
       "tensor([[1.0000, 0.5081],\n",
       "        [0.5081, 1.0000]])"
      ]
     },
     "execution_count": 43,
     "metadata": {},
     "output_type": "execute_result"
    }
   ],
   "source": [
    "R = m14_5.get_samples()[\"R\"]\n",
    "torch.einsum(\"ijk,ilk->ijl\", R, R).mean(dim=0)"
   ]
  },
  {
   "cell_type": "markdown",
   "metadata": {},
   "source": [
    "We can see that the coefficient representing the effect of $E$ on $W$, $\\beta_{EW}$ (`β[0]` in the code above) is consistent with zero, whereas the coefficient representing the effect of $Q$ on $E$, $\\beta_{QE}$ (`β[1]` in the code) is decidedly positive. The correlation between $E$ and $W$ is also pretty high, as expected because of their relationship through the fork $E\\leftarrow U \\rightarrow W$."
   ]
  },
  {
   "cell_type": "markdown",
   "metadata": {},
   "source": [
    "Let's re-generate the data in a way such that the confounder $U$ is negatively correlated with $W$, and $E$ is very slightly positively correlated, so that the effect is that $U$ masks the influence of $E$."
   ]
  },
  {
   "cell_type": "code",
   "execution_count": 44,
   "metadata": {},
   "outputs": [],
   "source": [
    "N = 500\n",
    "U_sim = Normal(0., 1.).sample([N])\n",
    "Q_sim = Bernoulli(0.25).sample([N])\n",
    "E_sim = Normal(U_sim + Q_sim, 1.).sample()\n",
    "W_sim = Normal(-U_sim + 0.2*E_sim, 1.).sample()\n",
    "data = dict(\n",
    "    W = (W_sim - W_sim.mean())/W_sim.std(),\n",
    "    E = (E_sim - E_sim.mean())/E_sim.std(),\n",
    "    Q = (Q_sim - Q_sim.mean())/Q_sim.std(),\n",
    ")"
   ]
  },
  {
   "cell_type": "code",
   "execution_count": 45,
   "metadata": {},
   "outputs": [
    {
     "name": "stdout",
     "output_type": "stream",
     "text": [
      "{'adapt_step_size': True, 'adapt_mass_matrix': True, 'jit_compile': False}\n"
     ]
    },
    {
     "name": "stderr",
     "output_type": "stream",
     "text": [
      "Sample: 100%|██████████| 2500/2500 [00:52, 47.26it/s, step size=1.98e-01, acc. prob=0.931]\n"
     ]
    }
   ],
   "source": [
    "m14_5x = train_nuts(model_m14_5, data, 500, 2000, jit_compile=False)"
   ]
  },
  {
   "cell_type": "code",
   "execution_count": 46,
   "metadata": {},
   "outputs": [
    {
     "name": "stdout",
     "output_type": "stream",
     "text": [
      "\n",
      "                mean       std    median      5.0%     95.0%     n_eff     r_hat\n",
      "    R[0,0]      1.00      0.00      1.00      1.00      1.00       nan       nan\n",
      "    R[0,1]      0.00      0.00      0.00      0.00      0.00       nan       nan\n",
      "    R[1,0]     -0.50      0.11     -0.51     -0.68     -0.30       nan      1.00\n",
      "    R[1,1]      0.86      0.07      0.86      0.75      0.96       nan      1.00\n",
      "      α[0]     -0.00      0.05     -0.00     -0.07      0.08   1510.55      1.00\n",
      "      α[1]     -0.00      0.04     -0.00     -0.07      0.07   1432.99      1.00\n",
      "      β[0]      0.27      0.17      0.27     -0.03      0.54    505.32      1.00\n",
      "      β[1]      0.27      0.04      0.27      0.20      0.33    996.37      1.00\n",
      "      σ[0]      1.12      0.09      1.11      0.98      1.26    495.74      1.00\n",
      "      σ[1]      0.97      0.03      0.96      0.92      1.02   1812.41      1.00\n",
      "\n",
      "Number of divergences: 0\n"
     ]
    }
   ],
   "source": [
    "m14_5x.summary()"
   ]
  },
  {
   "cell_type": "code",
   "execution_count": 47,
   "metadata": {},
   "outputs": [
    {
     "name": "stdout",
     "output_type": "stream",
     "text": [
      "mean:\n",
      "tensor([[ 1.0000, -0.5015],\n",
      "        [-0.5015,  1.0000]])\n",
      "\n",
      "std:\n",
      "tensor([[0.0000e+00, 1.1338e-01],\n",
      "        [1.1338e-01, 4.3699e-08]])\n"
     ]
    }
   ],
   "source": [
    "R = m14_5x.get_samples()[\"R\"]\n",
    "R = torch.einsum(\"ijk,ilk->ijl\", R, R)\n",
    "print(\"mean:\")\n",
    "print(R.mean(dim=0))\n",
    "print(\"\\nstd:\")\n",
    "print(R.std(dim=0))"
   ]
  },
  {
   "cell_type": "markdown",
   "metadata": {},
   "source": [
    "$\\beta_{EW}$ is still consistent with zero, but now has a slightly positive bias. We can also see from the correlation matrix that $E$ and $W$ are pretty strongly negatively correlated now. This is because $U$ positively influences $E$, and negatively influences $W$."
   ]
  },
  {
   "cell_type": "markdown",
   "metadata": {},
   "source": [
    "In the future, we can use a tool like [daggity](http://www.dagitty.net/) to help us figure out instrumental variables to use given a causal DAG."
   ]
  },
  {
   "cell_type": "markdown",
   "metadata": {},
   "source": [
    "The author also mentions that there is another useful technique for de-confounding known as the _front-door criterion_. Consider the the following DAG:"
   ]
  },
  {
   "cell_type": "code",
   "execution_count": 48,
   "metadata": {},
   "outputs": [
    {
     "data": {
      "image/png": "[encoded data removed]",
      "text/plain": [
       "<Figure size 640x480 with 1 Axes>"
      ]
     },
     "metadata": {},
     "output_type": "display_data"
    }
   ],
   "source": [
    "G = nx.DiGraph(((\"U\", \"X\"), (\"X\", \"Z\"), (\"Z\", \"Y\"), (\"U\", \"Y\")))\n",
    "pos = {\"X\": (0, 0), \"Z\": (1, 0), \"Y\": (2, 0), \"U\": (1, 1)}\n",
    "nx.draw_networkx(G, pos); plt.show()"
   ]
  },
  {
   "cell_type": "markdown",
   "metadata": {},
   "source": [
    "We can't directly estimate the effect of $X$ on $Y$ through regression because the unobserved $U$ acts as a confound. But through the front door path $X \\rightarrow Z \\rightarrow Y$, we can disentagle some of the effect of $U$. In the most extreme case, if $Z$ has zero influence on $Y$, then neither does $X$. In less extreme circumstances, we can combine the strength of $X \\rightarrow Z$ and $Z \\rightarrow Y$ to get a better estimate."
   ]
  },
  {
   "cell_type": "markdown",
   "metadata": {},
   "source": []
  }
 ],
 "metadata": {
  "kernelspec": {
   "display_name": "Python 3",
   "language": "python",
   "name": "python3"
  },
  "language_info": {
   "codemirror_mode": {
    "name": "ipython",
    "version": 3
   },
   "file_extension": ".py",
   "mimetype": "text/x-python",
   "name": "python",
   "nbconvert_exporter": "python",
   "pygments_lexer": "ipython3",
   "version": "3.9.19"
  }
 },
 "nbformat": 4,
 "nbformat_minor": 4
}
