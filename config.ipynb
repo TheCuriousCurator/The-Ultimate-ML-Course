{
 "cells": [
  {
   "cell_type": "code",
   "execution_count": null,
   "metadata": {},
   "outputs": [],
   "source": [
    "import configparser\n",
    "\n",
    "\n",
    "def create_config():\n",
    "    config = configparser.ConfigParser()\n",
    "\n",
    "    # Add sections and key-value pairs\n",
    "    config['LangChain'] = { 'LANGCHAIN_TRACING_V2': 'true', \n",
    "                            'LANGCHAIN_ENDPOINT': 'https://api.smith.langchain.com',\n",
    "                            'LANGCHAIN_API_KEY': \"\",\n",
    "                            'LANGCHAIN_PROJECT': \"\",\n",
    "                            'USER_AGENT': ''}\n",
    "    config['OpenAI'] = {'OPENAI_API_KEY': '',\n",
    "                        }\n",
    "    config['GoogleGeminiAPI'] = {'Google_Gemini_API_KEY': ''}\n",
    "    config['Tavily_Search_API'] = {'Tavily_API_KEY': \"\"}\n",
    "    config['huggingface_hub'] = {\"Huggingface_CLI_KEY\": \"\"}\n",
    "    \n",
    "    # Write the configuration to a file\n",
    "    with open('.config.ini', 'w') as configfile:\n",
    "        config.write(configfile)\n",
    "\n",
    "\n",
    "if __name__ == \"__main__\":\n",
    "    create_config()"
   ]
  }
 ],
 "metadata": {
  "language_info": {
   "name": "python"
  }
 },
 "nbformat": 4,
 "nbformat_minor": 2
}
