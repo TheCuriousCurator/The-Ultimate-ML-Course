{
 "cells": [
  {
   "cell_type": "markdown",
   "metadata": {},
   "source": [
    "### What is CVXPY?\n",
    "CVXPY is a Python-embedded modeling language for convex optimization problems. It automatically transforms the problem into standard form, calls a solver, and unpacks the results."
   ]
  },
  {
   "cell_type": "markdown",
   "metadata": {},
   "source": [
    "#### simple optimization problem in CVXPY"
   ]
  },
  {
   "cell_type": "code",
   "execution_count": 15,
   "metadata": {},
   "outputs": [
    {
     "name": "stdout",
     "output_type": "stream",
     "text": [
      "status: optimal\n",
      "optimal value 1.0\n",
      "optimal var 1.0 1.570086213240983e-22\n"
     ]
    }
   ],
   "source": [
    "import cvxpy as cp\n",
    "\n",
    "# Create two scalar optimization variables.\n",
    "x = cp.Variable()\n",
    "y = cp.Variable()\n",
    "\n",
    "# Create two constraints.\n",
    "constraints = [x + y == 1,\n",
    "               x - y >= 1]\n",
    "\n",
    "# Form objective.\n",
    "obj = cp.Minimize((x - y)**2)\n",
    "\n",
    "# Form and solve problem.\n",
    "prob = cp.Problem(obj, constraints)\n",
    "prob.solve()  # Returns the optimal value.\n",
    "print(\"status:\", prob.status)\n",
    "print(\"optimal value\", prob.value)\n",
    "print(\"optimal var\", x.value, y.value)"
   ]
  },
  {
   "cell_type": "markdown",
   "metadata": {},
   "source": [
    "The status, which was assigned a value “optimal” by the solve method, tells us the problem was solved successfully. The optimal value (basically 1 here) is the minimum value of the objective over all choices of variables that satisfy the constraints. The last thing printed gives values of x and y (basically 1 and 0 respectively) that achieve the optimal objective.\n",
    "\n",
    "prob.solve() returns the optimal value and updates prob.status, prob.value, and the value field of all the variables in the problem."
   ]
  },
  {
   "cell_type": "markdown",
   "metadata": {},
   "source": [
    "#### Changing the problem\n",
    "Problems are immutable, meaning they cannot be changed after they are created. To change the objective or constraints, create a new problem."
   ]
  },
  {
   "cell_type": "code",
   "execution_count": 16,
   "metadata": {},
   "outputs": [
    {
     "name": "stdout",
     "output_type": "stream",
     "text": [
      "optimal value 0.9999999999999999\n",
      "optimal value 2.999999999410368\n"
     ]
    }
   ],
   "source": [
    "# Replace the objective.\n",
    "prob2 = cp.Problem(cp.Maximize(x + y), prob.constraints)\n",
    "print(\"optimal value\", prob2.solve())\n",
    "\n",
    "# Replace the constraint (x + y == 1).\n",
    "constraints = [x + y <= 3] + prob2.constraints[1:]\n",
    "prob3 = cp.Problem(prob2.objective, constraints)\n",
    "print(\"optimal value\", prob3.solve())"
   ]
  },
  {
   "cell_type": "markdown",
   "metadata": {},
   "source": [
    "#### Infeasible and unbounded problems\n",
    "If a problem is infeasible or unbounded, the status field will be set to “infeasible” or “unbounded”, respectively. The value fields of the problem variables are not updated.\n",
    "\n",
    "Notice that for a minimization problem the optimal value is inf if infeasible and -inf if unbounded. For maximization problems the opposite is true.\n",
    "\n",
    "#### Other problem statuses\n",
    "If the solver called by CVXPY solves the problem but to a lower accuracy than desired, the problem status indicates the lower accuracy achieved. The statuses indicating lower accuracy are\n",
    "\n",
    "- “optimal_inaccurate”\n",
    "- “unbounded_inaccurate”\n",
    "- “infeasible_inaccurate”\n",
    "\n",
    "The problem variables are updated as usual for the type of solution found (i.e., optimal, unbounded, or infeasible).\n",
    "\n",
    "If the solver completely fails to solve the problem, CVXPY throws a SolverError exception. If this happens you should try using other solvers. See the discussion of Solvers for details.\n",
    "\n",
    "CVXPY provides the following constants as aliases for the different status strings:\n",
    "\n",
    "- OPTIMAL\n",
    "- INFEASIBLE\n",
    "- UNBOUNDED\n",
    "- OPTIMAL_INACCURATE\n",
    "- INFEASIBLE_INACCURATE\n",
    "- UNBOUNDED_INACCURATE\n",
    "- INFEASIBLE_OR_UNBOUNDED\n",
    "\n",
    "To test if a problem was solved successfully, you would use\n",
    "\n",
    "```python \n",
    "prob.status == OPTIMAL\n",
    "```\n",
    "The status INFEASIBLE_OR_UNBOUNDED is rare. It’s used when a solver was able to determine that the problem was either infeasible or unbounded, but could not tell which. You can determine the precise status by re-solving the problem where you set the objective function to a constant (e.g., objective = cp.Minimize(0)). If the new problem is solved with status code INFEASIBLE_OR_UNBOUNDED then the original problem was infeasible. If the new problem is solved with status OPTIMAL then the original problem was unbounded."
   ]
  },
  {
   "cell_type": "code",
   "execution_count": 17,
   "metadata": {},
   "outputs": [
    {
     "name": "stdout",
     "output_type": "stream",
     "text": [
      "status: infeasible\n",
      "optimal value inf\n",
      "status: unbounded\n",
      "optimal value -inf\n"
     ]
    }
   ],
   "source": [
    "import cvxpy as cp\n",
    "\n",
    "x = cp.Variable()\n",
    "\n",
    "# An infeasible problem.\n",
    "prob = cp.Problem(cp.Minimize(x), [x >= 1, x <= 0])\n",
    "prob.solve()\n",
    "print(\"status:\", prob.status)\n",
    "print(\"optimal value\", prob.value)\n",
    "\n",
    "# An unbounded problem.\n",
    "prob = cp.Problem(cp.Minimize(x))\n",
    "prob.solve()\n",
    "print(\"status:\", prob.status)\n",
    "print(\"optimal value\", prob.value)"
   ]
  },
  {
   "cell_type": "markdown",
   "metadata": {},
   "source": [
    "#### Vectors and matrices\n",
    "Variables can be scalars, vectors, or matrices, meaning they are 0, 1, or 2 dimensional."
   ]
  },
  {
   "cell_type": "code",
   "execution_count": 18,
   "metadata": {},
   "outputs": [],
   "source": [
    "# A scalar variable.\n",
    "a = cp.Variable()\n",
    "\n",
    "# Vector variable with shape (5,).\n",
    "x = cp.Variable(5)\n",
    "\n",
    "# Matrix variable with shape (5, 1).\n",
    "x = cp.Variable((5, 1))\n",
    "\n",
    "# Matrix variable with shape (4, 7).\n",
    "A = cp.Variable((4, 7))"
   ]
  },
  {
   "cell_type": "markdown",
   "metadata": {},
   "source": [
    "You can use your numeric library of choice to construct matrix and vector constants. For instance, if x is a CVXPY Variable in the expression A @ x + b, A and b could be Numpy ndarrays, SciPy sparse matrices, etc. A and b could even be different types.\n",
    "\n",
    "Currently the following types may be used as constants:\n",
    "\n",
    "- NumPy ndarrays\n",
    "- NumPy matrices\n",
    "- SciPy sparse matrices\n",
    "\n",
    "Here’s an example of a CVXPY problem with vectors and matrices:"
   ]
  },
  {
   "cell_type": "code",
   "execution_count": 19,
   "metadata": {},
   "outputs": [
    {
     "name": "stdout",
     "output_type": "stream",
     "text": [
      "Optimal value 4.141338603672535\n",
      "Optimal var\n",
      "[-4.95922264e-21  6.07571976e-21  1.34643668e-01  1.24976681e-01\n",
      " -4.57130806e-21]\n"
     ]
    }
   ],
   "source": [
    "# Solves a bounded least-squares problem.\n",
    "\n",
    "import cvxpy as cp\n",
    "import numpy\n",
    "\n",
    "# Problem data.\n",
    "m = 10\n",
    "n = 5\n",
    "numpy.random.seed(1)\n",
    "A = numpy.random.randn(m, n)\n",
    "b = numpy.random.randn(m)\n",
    "\n",
    "# Construct the problem.\n",
    "x = cp.Variable(n)\n",
    "objective = cp.Minimize(cp.sum_squares(A @ x - b))\n",
    "constraints = [0 <= x, x <= 1]\n",
    "prob = cp.Problem(objective, constraints)\n",
    "\n",
    "print(\"Optimal value\", prob.solve())\n",
    "print(\"Optimal var\")\n",
    "print(x.value) # A numpy ndarray."
   ]
  },
  {
   "cell_type": "markdown",
   "metadata": {},
   "source": [
    "#### Constraints\n",
    "As shown in the example code, you can use ==, <=, and >= to construct constraints in CVXPY. Equality and inequality constraints are elementwise, whether they involve scalars, vectors, or matrices. For example, together the constraints 0 <= x and x <= 1 mean that every entry of x is between 0 and 1.\n",
    "\n",
    "If you want matrix inequalities that represent semi-definite cone constraints, see Semidefinite matrices. The section explains how to express a semi-definite cone inequality.\n",
    "\n",
    "You cannot construct inequalities with < and >. Strict inequalities don’t make sense in a real world setting. Also, you cannot chain constraints together, e.g., 0 <= x <= 1 or x == y == 2. The Python interpreter treats chained constraints in such a way that CVXPY cannot capture them. CVXPY will raise an exception if you write a chained constraint."
   ]
  },
  {
   "cell_type": "code",
   "execution_count": 20,
   "metadata": {},
   "outputs": [
    {
     "name": "stdout",
     "output_type": "stream",
     "text": [
      "Optimal value 4.141338603672535\n",
      "Optimal var\n",
      "[-4.95922264e-21  6.07571976e-21  1.34643668e-01  1.24976681e-01\n",
      " -4.57130806e-21]\n"
     ]
    }
   ],
   "source": [
    "# Solves a bounded least-squares problem.\n",
    "\n",
    "import cvxpy as cp\n",
    "import numpy\n",
    "\n",
    "# Problem data.\n",
    "m = 10\n",
    "n = 5\n",
    "numpy.random.seed(1)\n",
    "A = numpy.random.randn(m, n)\n",
    "b = numpy.random.randn(m)\n",
    "\n",
    "# Construct the problem.\n",
    "x = cp.Variable(n)\n",
    "objective = cp.Minimize(cp.sum_squares(A @ x - b))\n",
    "constraints = [0 <= x, x <= 1]\n",
    "prob = cp.Problem(objective, constraints)\n",
    "\n",
    "print(\"Optimal value\", prob.solve())\n",
    "print(\"Optimal var\")\n",
    "print(x.value) # A numpy ndarray."
   ]
  },
  {
   "cell_type": "markdown",
   "metadata": {},
   "source": [
    "#### Parameters\n",
    "Parameters are symbolic representations of constants. The purpose of parameters is to change the value of a constant in a problem without reconstructing the entire problem. In many cases, solving a parametrized program multiple times can be substantially faster than repeatedly solving a new problem: after reading this section, be sure to read the tutorial on Disciplined Parametrized Programming (DPP).\n",
    "\n",
    "Parameters can be vectors or matrices, just like variables. When you create a parameter you have the option of specifying attributes such as the sign of the parameter’s entries, whether the parameter is symmetric, etc. These attributes are used in Disciplined Convex Programming and are unknown unless specified. Parameters can be assigned a constant value any time after they are created. The constant value must have the same dimensions and attributes as those specified when the parameter was created."
   ]
  },
  {
   "cell_type": "markdown",
   "metadata": {},
   "source": [
    "You can initialize a parameter with a value. The following code segments are equivalent:"
   ]
  },
  {
   "cell_type": "code",
   "execution_count": 21,
   "metadata": {},
   "outputs": [],
   "source": [
    "# Positive scalar parameter.\n",
    "m = cp.Parameter(nonneg=True)\n",
    "\n",
    "# Column vector parameter with unknown sign (by default).\n",
    "c = cp.Parameter(5)\n",
    "\n",
    "# Matrix parameter with negative entries.\n",
    "G = cp.Parameter((4, 7), nonpos=True)\n",
    "\n",
    "# Assigns a constant value to G.\n",
    "G.value = -numpy.ones((4, 7))"
   ]
  },
  {
   "cell_type": "markdown",
   "metadata": {},
   "source": [
    "You can initialize a parameter with a value. The following code segments are equivalent:"
   ]
  },
  {
   "cell_type": "code",
   "execution_count": 22,
   "metadata": {},
   "outputs": [],
   "source": [
    "# Create parameter, then assign value.\n",
    "rho = cp.Parameter(nonneg=True)\n",
    "rho.value = 2\n",
    "\n",
    "# Initialize parameter with a value.\n",
    "rho = cp.Parameter(nonneg=True, value=2)"
   ]
  },
  {
   "cell_type": "markdown",
   "metadata": {},
   "source": [
    "Computing trade-off curves is a common use of parameters. The example below computes a trade-off curve for a LASSO problem."
   ]
  },
  {
   "cell_type": "code",
   "execution_count": 23,
   "metadata": {},
   "outputs": [
    {
     "data": {
      "image/png": "[encoded data removed]",
      "text/plain": [
       "<Figure size 600x1000 with 2 Axes>"
      ]
     },
     "metadata": {},
     "output_type": "display_data"
    }
   ],
   "source": [
    "import cvxpy as cp\n",
    "import numpy\n",
    "import matplotlib.pyplot as plt\n",
    "\n",
    "# Problem data.\n",
    "n = 15\n",
    "m = 10\n",
    "numpy.random.seed(1)\n",
    "A = numpy.random.randn(n, m)\n",
    "b = numpy.random.randn(n)\n",
    "# gamma must be nonnegative due to DCP rules.\n",
    "gamma = cp.Parameter(nonneg=True)\n",
    "\n",
    "# Construct the problem.\n",
    "x = cp.Variable(m)\n",
    "error = cp.sum_squares(A @ x - b)\n",
    "obj = cp.Minimize(error + gamma*cp.norm(x, 1))\n",
    "prob = cp.Problem(obj)\n",
    "\n",
    "# Construct a trade-off curve of ||Ax-b||^2 vs. ||x||_1\n",
    "sq_penalty = []\n",
    "l1_penalty = []\n",
    "x_values = []\n",
    "gamma_vals = numpy.logspace(-4, 6)\n",
    "for val in gamma_vals:\n",
    "    gamma.value = val\n",
    "    prob.solve()\n",
    "    # Use expr.value to get the numerical value of\n",
    "    # an expression in the problem.\n",
    "    sq_penalty.append(error.value)\n",
    "    l1_penalty.append(cp.norm(x, 1).value)\n",
    "    x_values.append(x.value)\n",
    "\n",
    "import matplotlib as mpl\n",
    "mpl.rcParams['text.usetex'] = True\n",
    "#mpl.rcParams['text.latex.preamble'] = [r'\\\\usepackage{amsmath}'] \n",
    "mpl.rcParams['text.latex.preamble'] = r'\\usepackage{amsmath}'\n",
    "\n",
    "plt.rc('text', usetex=True)\n",
    "plt.rc('font', family='serif')\n",
    "plt.figure(figsize=(6,10))\n",
    "\n",
    "# Plot trade-off curve.\n",
    "plt.subplot(211)\n",
    "plt.plot(l1_penalty, sq_penalty)\n",
    "plt.xlabel(r\"$\\|x\\|_1$\", fontsize=16)\n",
    "plt.ylabel(r'$\\|Ax-b\\|^2$', fontsize=16)\n",
    "plt.title('Trade-Off Curve for LASSO', fontsize=16)\n",
    "\n",
    "# Plot entries of x vs. gamma.\n",
    "plt.subplot(212)\n",
    "for i in range(m):\n",
    "    plt.plot(gamma_vals, [xi[i] for xi in x_values])\n",
    "plt.xlabel(r'$\\gamma$', fontsize=16)\n",
    "plt.ylabel(r'$x_{i}$', fontsize=16)\n",
    "plt.xscale('log')\n",
    "plt.title(r'$ \\text{Entries of x} vs.  \\gamma $', fontsize=16)\n",
    "\n",
    "plt.show()"
   ]
  },
  {
   "cell_type": "markdown",
   "metadata": {},
   "source": [
    "Trade-off curves can easily be computed in parallel. The code below computes in parallel the optimal x for each in the LASSO problem above."
   ]
  },
  {
   "cell_type": "code",
   "execution_count": 24,
   "metadata": {},
   "outputs": [],
   "source": [
    "from multiprocessing import Pool\n",
    "\n",
    "# Assign a value to gamma and find the optimal x.\n",
    "def get_x(gamma_value):\n",
    "    gamma.value = gamma_value\n",
    "    result = prob.solve()\n",
    "    return x.value\n",
    "\n",
    "# Parallel computation (set to 1 process here).\n",
    "pool = Pool(processes = 10)\n",
    "x_values = pool.map(get_x, gamma_vals)"
   ]
  },
  {
   "cell_type": "code",
   "execution_count": 25,
   "metadata": {},
   "outputs": [
    {
     "data": {
      "text/plain": [
       "[array([-0.17823789,  0.33773964, -0.23499467,  0.12534639, -0.42465828,\n",
       "        -0.00829153, -0.24445595,  0.19126012,  0.19263571,  0.11334233]),\n",
       " array([-0.17826499,  0.33771688, -0.2349905 ,  0.12532425, -0.42463802,\n",
       "        -0.00827532, -0.24443872,  0.19126302,  0.19261657,  0.11333574]),\n",
       " array([-0.17830845,  0.33768015, -0.23498372,  0.1252888 , -0.42460567,\n",
       "        -0.00824934, -0.24441117,  0.19126762,  0.19258593,  0.11332508]),\n",
       " array([-0.17837786,  0.33762142, -0.23497283,  0.12523215, -0.42455395,\n",
       "        -0.0082078 , -0.24436713,  0.19127494,  0.19253697,  0.11330802]),\n",
       " array([-0.17848912,  0.3375273 , -0.23495535,  0.12514138, -0.4244711 ,\n",
       "        -0.00814131, -0.24429653,  0.19128669,  0.19245853,  0.11328078]),\n",
       " array([-0.17866698,  0.33737702, -0.23492767,  0.12499628, -0.42433873,\n",
       "        -0.00803497, -0.24418383,  0.19130549,  0.19233312,  0.11323709]),\n",
       " array([-0.17895163,  0.33713616, -0.23488305,  0.12476425, -0.42412616,\n",
       "        -0.00786396, -0.24400316,  0.19133536,  0.19213278,  0.11316747]),\n",
       " array([-0.17940679,  0.33675154, -0.23481202,  0.12439269, -0.4237879 ,\n",
       "        -0.00759262, -0.24371472,  0.19138364,  0.19181147,  0.11305554]),\n",
       " array([-0.18013517,  0.33613576, -0.23469817,  0.12379849, -0.42324561,\n",
       "        -0.00715716, -0.24325289,  0.1914606 ,  0.19129792,  0.11287682]),\n",
       " array([-0.18130039,  0.3351506 , -0.23451602,  0.12284779, -0.42237803,\n",
       "        -0.00646043, -0.24251402,  0.19158369,  0.19047629,  0.11259085]),\n",
       " array([-0.18316467,  0.33357447, -0.23422461,  0.12132685, -0.42099002,\n",
       "        -0.00534579, -0.24133196,  0.19178067,  0.18916184,  0.11213338]),\n",
       " array([-0.18614713,  0.33105289, -0.23375839,  0.11889351, -0.41876939,\n",
       "        -0.00356252, -0.23944076,  0.1920957 ,  0.18705883,  0.11140144]),\n",
       " array([-0.19091884,  0.32701875, -0.23301249,  0.11500061, -0.41521677,\n",
       "        -0.00070946, -0.23641522,  0.19259991,  0.1836944 ,  0.11023051]),\n",
       " array([-1.95535931e-01,  3.22695588e-01, -2.31457322e-01,  1.10454403e-01,\n",
       "        -4.12864388e-01, -3.35996364e-07, -2.33651109e-01,  1.93693335e-01,\n",
       "         1.79268826e-01,  1.08075170e-01]),\n",
       " array([-2.02034662e-01,  3.16405753e-01, -2.28862745e-01,  1.03674730e-01,\n",
       "        -4.10080734e-01,  3.50446880e-08, -2.29838332e-01,  1.95526180e-01,\n",
       "         1.72468342e-01,  1.04543198e-01]),\n",
       " array([-2.12663147e-01,  3.06179837e-01, -2.24739559e-01,  9.26999797e-02,\n",
       "        -4.05372316e-01,  2.95901623e-04, -2.23580188e-01,  1.98437088e-01,\n",
       "         1.61516087e-01,  9.89145506e-02]),\n",
       " array([-0.23334061,  0.28722536, -0.21858364,  0.0730946 , -0.39378329,\n",
       "         0.0054634 , -0.21104048,  0.20274511,  0.14282958,  0.09025321]),\n",
       " array([-0.2664216 ,  0.25690084, -0.20873506,  0.04172874, -0.37524245,\n",
       "         0.01373062, -0.19097872,  0.2096373 ,  0.1129338 ,  0.0763963 ]),\n",
       " array([-3.11863507e-01,  2.12337782e-01, -1.92828724e-01,  2.69045599e-08,\n",
       "        -3.47893188e-01,  2.50706235e-02, -1.63137945e-01,  2.18349882e-01,\n",
       "         7.09886817e-02,  5.37447575e-02]),\n",
       " array([-3.25458211e-01,  1.72257242e-01, -1.66196192e-01,  1.39324168e-08,\n",
       "        -3.22411141e-01,  2.83124863e-02, -1.52206904e-01,  2.14011390e-01,\n",
       "         5.03570111e-02,  1.36950255e-02]),\n",
       " array([-3.29651089e-01,  1.34050910e-01, -1.23402827e-01,  3.06348131e-07,\n",
       "        -2.79687446e-01,  3.57382954e-02, -1.29430307e-01,  2.07121017e-01,\n",
       "         3.07823061e-02,  4.27850210e-06]),\n",
       " array([-3.28729180e-01,  8.41895135e-02, -5.48594247e-02, -6.68503426e-08,\n",
       "        -2.10484928e-01,  4.85922518e-02, -9.06918787e-02,  1.96119646e-01,\n",
       "         5.30286869e-03, -8.37868654e-07]),\n",
       " array([-3.31116523e-01,  1.18007516e-02, -2.31425877e-06, -3.68088576e-06,\n",
       "        -1.16998007e-01,  7.98153508e-02, -2.25821171e-02,  1.64893287e-01,\n",
       "         4.39275365e-06, -1.74971828e-06]),\n",
       " array([-2.83545950e-01, -1.24703527e-05,  1.23026357e-05,  3.21731042e-05,\n",
       "        -4.73708627e-02,  6.91739749e-02,  3.50786730e-06,  1.22961714e-01,\n",
       "        -2.65353325e-05,  1.81845754e-05]),\n",
       " array([-1.79908554e-01, -6.78392391e-08, -5.91385985e-08,  5.28892928e-08,\n",
       "         6.67229964e-08,  1.03387269e-02,  2.23744291e-08,  6.13662676e-02,\n",
       "         6.95326275e-08,  1.43361820e-08]),\n",
       " array([-2.25096747e-03,  1.62940052e-09,  1.04336072e-08,  2.93873148e-08,\n",
       "        -2.95129157e-08,  3.91781997e-08,  6.02799733e-09,  2.34017436e-08,\n",
       "        -2.57765288e-08,  5.71170155e-09]),\n",
       " array([ 5.46297042e-12,  3.04227094e-12,  1.90608929e-11, -5.09840681e-13,\n",
       "         2.19413880e-11, -9.62187546e-13, -5.99114809e-12,  1.33136415e-11,\n",
       "        -1.25881373e-11, -7.76513830e-12]),\n",
       " array([-5.35721715e-17, -4.71363386e-16,  1.61562563e-15, -4.39153721e-16,\n",
       "         1.92821247e-15,  2.39656021e-16, -1.08331900e-17,  9.27388659e-16,\n",
       "        -1.12171047e-15, -4.30888831e-16]),\n",
       " array([-3.13726415e-12, -2.30433459e-12,  1.70095787e-12, -1.91549270e-12,\n",
       "         4.13729374e-12,  1.86562994e-12,  2.70354238e-12,  1.09122283e-12,\n",
       "        -2.98618325e-12, -1.41626622e-12]),\n",
       " array([-7.15355303e-16, -9.37779156e-16,  4.35433649e-16, -3.99046861e-16,\n",
       "         1.15166175e-15,  4.37825394e-16,  5.96913573e-16, -2.14448999e-16,\n",
       "        -5.87008838e-16, -1.24783632e-16]),\n",
       " array([-1.12015314e-09, -6.01565600e-10, -1.59935130e-10, -8.16913264e-10,\n",
       "         5.18670033e-10,  3.93811622e-10,  6.00742179e-10,  1.97785831e-10,\n",
       "        -7.98224969e-10, -7.76397356e-11]),\n",
       " array([ 1.60937502e-16,  7.19496945e-17, -1.56502102e-16, -9.97991000e-17,\n",
       "         4.55822457e-17, -2.55883295e-16, -2.49574666e-16,  5.27899343e-17,\n",
       "         1.91129964e-17, -2.63476883e-17]),\n",
       " array([-2.99835418e-12, -4.12301536e-12,  2.21158224e-12, -2.21118603e-12,\n",
       "         5.07316060e-12,  3.36649621e-12,  2.91924708e-12, -2.22271296e-13,\n",
       "        -2.03949455e-12, -9.37175940e-13]),\n",
       " array([-1.39212924e-16,  1.88433327e-16, -3.13100742e-18, -6.79400993e-17,\n",
       "        -1.08924079e-18,  2.91979558e-17, -1.07117227e-16,  1.53730725e-16,\n",
       "         6.33195973e-18,  9.96068655e-17]),\n",
       " array([ 7.38375173e-11,  6.30811509e-11,  1.44981543e-10,  3.89041637e-11,\n",
       "         1.66809838e-10, -5.50789003e-11,  8.62446552e-12,  9.39129549e-11,\n",
       "        -1.12223885e-10, -8.67448444e-11]),\n",
       " array([-7.13653821e-17, -9.09615497e-17, -6.76789609e-17,  1.99581625e-16,\n",
       "         1.95919149e-17,  6.10350073e-17,  3.17837849e-17,  1.80251296e-16,\n",
       "         3.29151794e-16, -3.52238222e-18]),\n",
       " array([ 1.26871221e-10, -1.70671657e-11,  9.35268922e-11,  6.73596282e-11,\n",
       "         7.27080887e-12, -7.74237376e-11,  2.41739674e-10, -1.62781624e-10,\n",
       "        -1.59643190e-10, -3.80552533e-11]),\n",
       " array([ 2.19490835e-16, -2.75516698e-16, -3.71999193e-16,  2.69058132e-16,\n",
       "        -2.12436943e-16, -1.65844105e-16, -1.30384294e-17, -4.14022537e-18,\n",
       "        -4.02132823e-16, -3.59624992e-16]),\n",
       " array([ 1.05041213e-09, -3.48053751e-10,  2.92739347e-10,  1.93761586e-10,\n",
       "         9.07172174e-11, -4.24356417e-10,  1.12515328e-09, -1.07181470e-09,\n",
       "        -1.01463846e-09, -8.36243744e-11]),\n",
       " array([-7.40335211e-16,  2.03770121e-16, -1.25041805e-17,  1.32177072e-16,\n",
       "         2.02288868e-16, -7.93211934e-16,  9.55898086e-17,  1.32442279e-16,\n",
       "         1.76948815e-16, -4.08982318e-17]),\n",
       " array([ 2.85536535e-09,  6.19010365e-10,  2.24586906e-09,  9.16528225e-10,\n",
       "         1.60166203e-09, -1.13710842e-09,  3.50690906e-09, -1.12051611e-09,\n",
       "        -2.82972306e-09, -1.68378737e-09]),\n",
       " array([-6.77412634e-16,  9.33887670e-17,  5.41665377e-16, -1.08410054e-15,\n",
       "        -1.12723996e-17,  1.61990115e-16, -4.59205427e-16,  4.58074179e-16,\n",
       "        -9.76323960e-17, -2.05810163e-16]),\n",
       " array([ 3.40727735e-13, -1.57508337e-13, -1.61882440e-13, -1.76990064e-13,\n",
       "         1.98949751e-13, -3.09474509e-13, -5.35347082e-14, -1.81167510e-13,\n",
       "         1.14730286e-13,  1.67064813e-14]),\n",
       " array([-1.07734808e-15, -7.01777743e-16, -6.51872870e-17, -9.37767759e-17,\n",
       "        -3.24623731e-16,  4.23282882e-17,  1.17201526e-16,  5.95236560e-16,\n",
       "         2.90829964e-16,  2.23201254e-17]),\n",
       " array([-2.16147027e-16, -2.89338001e-16,  1.53798301e-15,  1.26470543e-15,\n",
       "        -2.11210670e-15,  2.82816198e-17,  2.20134489e-16, -1.90125388e-15,\n",
       "         1.35409098e-16,  2.89559477e-16]),\n",
       " array([-2.42338209e-18, -2.14483410e-16, -1.47077316e-17, -6.45382028e-17,\n",
       "         1.62347065e-16, -7.87107480e-17,  2.40773769e-16, -8.31810222e-17,\n",
       "        -6.21664228e-17, -4.79497091e-17]),\n",
       " array([-9.63599106e-16, -3.29464863e-15, -8.97688780e-16, -1.54793033e-15,\n",
       "        -2.63505568e-16, -3.46042953e-15, -3.45666976e-16, -3.13543534e-15,\n",
       "         2.94766920e-15,  6.85664211e-16]),\n",
       " array([ 1.72320181e-16, -5.60666427e-16, -3.18004907e-16, -8.61353394e-17,\n",
       "        -2.12798121e-16,  3.76691197e-17,  5.50993726e-16, -3.56408251e-16,\n",
       "        -2.43432511e-16,  4.01826766e-16]),\n",
       " array([-6.18569393e-15,  6.18108548e-15,  4.97000557e-15,  4.88453849e-15,\n",
       "         6.74675057e-15, -4.20919267e-15,  1.47402577e-16, -1.27737135e-15,\n",
       "        -1.10465662e-15, -5.27777125e-15]),\n",
       " array([-9.67108083e-17,  6.28900822e-16,  6.65010685e-16, -6.48546560e-16,\n",
       "        -1.46715796e-16,  3.56563435e-17,  2.12884210e-16,  2.57317603e-16,\n",
       "        -2.31196960e-16, -3.09074027e-16])]"
      ]
     },
     "execution_count": 25,
     "metadata": {},
     "output_type": "execute_result"
    }
   ],
   "source": [
    "x_values"
   ]
  },
  {
   "cell_type": "code",
   "execution_count": 26,
   "metadata": {},
   "outputs": [
    {
     "name": "stdout",
     "output_type": "stream",
     "text": [
      "The watermark extension is already loaded. To reload it, use:\n",
      "  %reload_ext watermark\n",
      "Last updated: Mon Oct 07 2024\n",
      "\n",
      "Python implementation: CPython\n",
      "Python version       : 3.9.19\n",
      "IPython version      : 8.18.1\n",
      "\n",
      "matplotlib: 3.9.0\n",
      "cvxpy     : 1.5.1\n",
      "numpy     : 1.26.4\n",
      "\n",
      "Watermark: 2.4.3\n",
      "\n"
     ]
    }
   ],
   "source": [
    "%load_ext watermark\n",
    "%watermark -n -u -v -iv -w"
   ]
  },
  {
   "cell_type": "code",
   "execution_count": null,
   "metadata": {},
   "outputs": [],
   "source": []
  }
 ],
 "metadata": {
  "kernelspec": {
   "display_name": "Python 3",
   "language": "python",
   "name": "python3"
  },
  "language_info": {
   "codemirror_mode": {
    "name": "ipython",
    "version": 3
   },
   "file_extension": ".py",
   "mimetype": "text/x-python",
   "name": "python",
   "nbconvert_exporter": "python",
   "pygments_lexer": "ipython3",
   "version": "3.9.19"
  }
 },
 "nbformat": 4,
 "nbformat_minor": 2
}
