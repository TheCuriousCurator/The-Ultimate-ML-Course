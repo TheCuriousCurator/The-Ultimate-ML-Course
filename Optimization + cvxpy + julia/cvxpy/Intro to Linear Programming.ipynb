{
 "cells": [
  {
   "cell_type": "markdown",
   "metadata": {},
   "source": [
    "#### Cost\n",
    "Lemon: 10 (1 unit 58 gm)\n",
    "\n",
    "Apple: 50 (1 unit 223 gm)\n",
    "\n",
    "#### Vitamin C:\n",
    "Lemon: 31 mg\n",
    "\n",
    "Apple: 10 mg\n",
    "\n",
    "#### Calorie:\n",
    "Lemon : 17 calories\n",
    "\n",
    "Apple : 116 calories "
   ]
  },
  {
   "cell_type": "code",
   "execution_count": 7,
   "metadata": {},
   "outputs": [
    {
     "name": "stdout",
     "output_type": "stream",
     "text": [
      "A = 6.49, L = 2.74, costs = 352.16\n"
     ]
    }
   ],
   "source": [
    "import cvxpy as cp\n",
    "\n",
    "cost_A = 50\n",
    "cost_L = 10\n",
    "\n",
    "VitaminC_A = 10\n",
    "VitaminC_L = 31\n",
    "\n",
    "Calorie_A = 116\n",
    "Calorie_L = 17\n",
    "\n",
    "VitaminC_budget = 150\n",
    "Calorie_budget = 800\n",
    "\n",
    "A = cp.Variable()\n",
    "L = cp.Variable()\n",
    "\n",
    "objective = cp.Minimize(cost_A*A + cost_L*L)\n",
    "\n",
    "constraints = [\n",
    "    VitaminC_A*A + VitaminC_L*L >= VitaminC_budget,\n",
    "    Calorie_A*A + Calorie_L*L >= Calorie_budget,\n",
    "    A >= 0,\n",
    "    L >= 0\n",
    "]\n",
    "\n",
    "linear_program = cp.Problem(objective, constraints)\n",
    "\n",
    "result = linear_program.solve()\n",
    "\n",
    "print(f'A = {A.value:.2f}, L = {L.value:.2f}, costs = {result:.2f}')\n"
   ]
  },
  {
   "cell_type": "code",
   "execution_count": null,
   "metadata": {},
   "outputs": [],
   "source": []
  }
 ],
 "metadata": {
  "kernelspec": {
   "display_name": "Python 3",
   "language": "python",
   "name": "python3"
  },
  "language_info": {
   "codemirror_mode": {
    "name": "ipython",
    "version": 3
   },
   "file_extension": ".py",
   "mimetype": "text/x-python",
   "name": "python",
   "nbconvert_exporter": "python",
   "pygments_lexer": "ipython3",
   "version": "3.9.19"
  }
 },
 "nbformat": 4,
 "nbformat_minor": 2
}
