{
 "cells": [
  {
   "cell_type": "code",
   "execution_count": 1,
   "metadata": {},
   "outputs": [],
   "source": [
    "#!python -m pip install diffcp\n",
    "# https://github.com/cvxgrp/diffcp\n",
    "#!python -m pip install cvxpylayers\n",
    "# https://github.com/cvxgrp/cvxpylayers\n"
   ]
  },
  {
   "cell_type": "markdown",
   "metadata": {},
   "source": [
    "### Disciplined Parametrized Programming\n",
    "\n",
    "https://www.cvxpy.org/tutorial/dpp/index.html#dpp\n",
    "\n",
    "Parameters are symbolic representations of constants. Using parameters lets you modify the values of constants without reconstructing the entire problem. When your parametrized problem is constructed according to Disciplined Parametrized Programming (DPP), solving it repeatedly for different values of the parameters can be much faster than repeatedly solving a new problem.\n",
    "\n",
    "You should read this tutorial if you intend to solve a DCP or DGP problem many times, for different values of the numerical data, or if you want to differentiate through the solution map of a DCP or DGP problem."
   ]
  },
  {
   "cell_type": "markdown",
   "metadata": {},
   "source": [
    "#### What is DPP?\n",
    "DPP is a ruleset for producing parametrized DCP or DGP compliant problems that CVXPY can re-canonicalize very quickly. The first time a DPP-compliant problem is solved, CVXPY compiles it and caches the mapping from parameters to problem data. As a result, subsequent rewritings of DPP problems can be substantially faster. CVXPY allows you to solve parametrized problems that are not DPP, but you won’t see a speed-up when doing so."
   ]
  },
  {
   "cell_type": "markdown",
   "metadata": {},
   "source": [
    "#### The DPP ruleset\n",
    "DPP places mild restrictions on how parameters can enter expressions in DCP and DGP problems. First, we describe the DPP ruleset for DCP problems. Then, we describe the DPP ruleset for DGP problems.\n",
    "\n",
    "DCP problems. In DPP, an expression is said to be parameter-affine if it does not involve variables and is affine in its parameters, and it is parameter-free if it does not have parameters. DPP introduces two restrictions to DCP:\n",
    "\n",
    "Under DPP, all parameters are classified as affine, just like variables.\n",
    "\n",
    "Under DPP, the product of two expressions is affine when at least one of the expressions is constant, or when one of the expressions is parameter-affine and the other is parameter-free.\n",
    "\n",
    "An expression is DPP-compliant if it DCP-compliant subject to these two restrictions. You can check whether an expression or problem is DPP-compliant by calling the is_dcp method with the keyword argument dpp=True (by default, this keyword argument is False). For example,"
   ]
  },
  {
   "cell_type": "code",
   "execution_count": 2,
   "metadata": {},
   "outputs": [
    {
     "name": "stdout",
     "output_type": "stream",
     "text": [
      "True\n"
     ]
    }
   ],
   "source": [
    "import cvxpy as cp\n",
    "\n",
    "\n",
    "m, n = 3, 2\n",
    "x = cp.Variable((n, 1))\n",
    "F = cp.Parameter((m, n))\n",
    "G = cp.Parameter((m, n))\n",
    "g = cp.Parameter((m, 1))\n",
    "gamma = cp.Parameter(nonneg=True)\n",
    "\n",
    "objective = cp.norm((F + G) @ x - g) + gamma * cp.norm(x)\n",
    "print(objective.is_dcp(dpp=True))"
   ]
  },
  {
   "cell_type": "markdown",
   "metadata": {},
   "source": [
    "prints True. We can walk through the DPP analysis to understand why objective is DPP-compliant. The product (F + G) @ x is affine under DPP, because F + G is parameter-affine and x is parameter-free. The difference (F + G) @ x - g is affine because the addition atom is affine and both (F + G) @ x and - g are affine. Likewise gamma * cp.norm(x) is affine under DPP because gamma is parameter-affine and cp.norm(x) is parameter-free. The final objective is then affine under DPP because addition is affine."
   ]
  },
  {
   "cell_type": "markdown",
   "metadata": {},
   "source": [
    "Some expressions are DCP-compliant but not DPP-compliant. For example, DPP forbids taking the product of two parametrized expressions:\n",
    "\n"
   ]
  },
  {
   "cell_type": "code",
   "execution_count": 3,
   "metadata": {},
   "outputs": [
    {
     "name": "stdout",
     "output_type": "stream",
     "text": [
      "Is DPP?  False\n",
      "Is DCP?  True\n"
     ]
    }
   ],
   "source": [
    "import cvxpy as cp\n",
    "\n",
    "x = cp.Variable()\n",
    "gamma = cp.Parameter(nonneg=True)\n",
    "problem = cp.Problem(cp.Minimize(gamma * gamma * x), [x >= 1])\n",
    "print(\"Is DPP? \", problem.is_dcp(dpp=True))\n",
    "print(\"Is DCP? \", problem.is_dcp(dpp=False))\n"
   ]
  },
  {
   "cell_type": "markdown",
   "metadata": {},
   "source": [
    "Just as it is possible to rewrite non-DCP problems in DCP-compliant ways, it is also possible to re-express non-DPP problems in DPP-compliant ways. For example, the above problem can be equivalently written as"
   ]
  },
  {
   "cell_type": "code",
   "execution_count": 4,
   "metadata": {},
   "outputs": [
    {
     "name": "stdout",
     "output_type": "stream",
     "text": [
      "Is DPP?  True\n",
      "Is DCP?  True\n"
     ]
    }
   ],
   "source": [
    "import cvxpy as cp\n",
    "\n",
    "x = cp.Variable()\n",
    "y = cp.Variable()\n",
    "gamma = cp.Parameter(nonneg=True)\n",
    "problem = cp.Problem(cp.Minimize(gamma * y), [y == gamma * x])\n",
    "print(\"Is DPP? \", problem.is_dcp(dpp=True))\n",
    "print(\"Is DCP? \", problem.is_dcp(dpp=False))"
   ]
  },
  {
   "cell_type": "markdown",
   "metadata": {},
   "source": [
    "In other cases, you can represent non-DPP transformations of parameters by doing them outside of the DSL, e.g., in NumPy. For example, if P is a parameter and x is a variable, cp.quad_form(x, P) is not DPP. You can represent a parametric quadratic form like so:"
   ]
  },
  {
   "cell_type": "code",
   "execution_count": 5,
   "metadata": {},
   "outputs": [],
   "source": [
    "import cvxpy as cp\n",
    "import numpy as np\n",
    "import scipy.linalg\n",
    "\n",
    "\n",
    "n = 4\n",
    "L = np.random.randn(n, n)\n",
    "P = L.T @ L\n",
    "P_sqrt = cp.Parameter((n, n))\n",
    "x = cp.Variable((n, 1))\n",
    "quad_form = cp.sum_squares(P_sqrt @ x)\n",
    "P_sqrt.value = scipy.linalg.sqrtm(P)\n",
    "assert quad_form.is_dcp(dpp=True)"
   ]
  },
  {
   "cell_type": "markdown",
   "metadata": {},
   "source": [
    "As another example, the quotient expr / p is not DPP-compliant when p is a parameter, but this can be rewritten as expr * p_tilde, where p_tilde is a parameter that represents 1/p.\n",
    "\n",
    "DGP problems. Just as DGP is the log-log analogue of DCP, DPP for DGP is the log-log analog of DPP for DCP. DPP introduces two restrictions to DGP:\n",
    "\n",
    "Under DPP, all positive parameters are classified as log-log-affine, just like positive variables.\n",
    "\n",
    "Under DPP, the power atom x**p (with base x and exponent p) is log-log affine as long as x and p are not both parametrized.\n",
    "\n",
    "Note that for powers, the exponent p must be either a numerical constant or a parameter; attempting to construct a power atom in which the exponent is a compound expression, e.g., x**(p + p), where p is a Parameter, will result in a ValueError.\n",
    "\n",
    "If a parameter appears in a DGP problem as an exponent, it can have any sign. If a parameter appears elsewhere in a DGP problem, it must be positive, i.e., it must be constructed with cp.Parameter(pos=True).\n",
    "\n",
    "You can check whether an expression or problem is DPP-compliant by calling the is_dgp method with the keyword argument dpp=True (by default, this keyword argument is False). For example,"
   ]
  },
  {
   "cell_type": "code",
   "execution_count": 6,
   "metadata": {},
   "outputs": [
    {
     "name": "stdout",
     "output_type": "stream",
     "text": [
      "True\n"
     ]
    }
   ],
   "source": [
    "import cvxpy as cp\n",
    "\n",
    "\n",
    "x = cp.Variable(pos=True)\n",
    "y = cp.Variable(pos=True)\n",
    "a = cp.Parameter()\n",
    "b = cp.Parameter()\n",
    "c = cp.Parameter(pos=True)\n",
    "\n",
    "monomial = c * x**a * y**b\n",
    "print(monomial.is_dgp(dpp=True))"
   ]
  },
  {
   "cell_type": "markdown",
   "metadata": {},
   "source": [
    "prints True. The expressions x**a and y**b are log-log affine, since x and y do not contain parameters. The parameter c is log-log affine because it is positive, and the monomial expression is log-log affine because the product of log-log affine expression is also log-log affine.\n",
    "\n",
    "Some expressions are DGP-compliant but not DPP-compliant. For example, DPP forbids taking raising a parametrized expression to a power:"
   ]
  },
  {
   "cell_type": "code",
   "execution_count": 7,
   "metadata": {},
   "outputs": [
    {
     "name": "stdout",
     "output_type": "stream",
     "text": [
      "Is DPP?  False\n",
      "Is DGP?  True\n"
     ]
    }
   ],
   "source": [
    "import cvxpy as cp\n",
    "\n",
    "\n",
    "x = cp.Variable(pos=True)\n",
    "a = cp.Parameter()\n",
    "\n",
    "monomial = (x**a)**a\n",
    "print(\"Is DPP? \", monomial.is_dgp(dpp=True))\n",
    "print(\"Is DGP? \", monomial.is_dgp(dpp=False))"
   ]
  },
  {
   "cell_type": "markdown",
   "metadata": {},
   "source": [
    "This code snippet prints\n",
    "\n",
    "Is DPP? False\n",
    "Is DGP? True\n",
    "You can represent non-DPP transformations of parameters by doing them outside of CVXPY, e.g., in NumPy. For example, you could rewrite the above program as the following DPP-complaint program\n",
    "\n"
   ]
  },
  {
   "cell_type": "code",
   "execution_count": 8,
   "metadata": {},
   "outputs": [],
   "source": [
    "import cvxpy as cp\n",
    "\n",
    "\n",
    "a = 2.0\n",
    "x = cp.Variable(pos=True)\n",
    "b = cp.Parameter(value=a**2)\n",
    "\n",
    "monomial = x**b"
   ]
  },
  {
   "cell_type": "markdown",
   "metadata": {},
   "source": [
    "#### Repeatedly solving a DPP problem\n",
    "The following example demonstrates how parameters can speed-up repeated solves of a DPP-compliant DCP problem."
   ]
  },
  {
   "cell_type": "code",
   "execution_count": 9,
   "metadata": {},
   "outputs": [
    {
     "data": {
      "text/plain": [
       "[]"
      ]
     },
     "execution_count": 9,
     "metadata": {},
     "output_type": "execute_result"
    },
    {
     "data": {
      "image/png": "[encoded data removed]",
      "text/plain": [
       "<Figure size 600x600 with 1 Axes>"
      ]
     },
     "metadata": {},
     "output_type": "display_data"
    }
   ],
   "source": [
    "import cvxpy as cp\n",
    "import numpy\n",
    "import matplotlib.pyplot as plt\n",
    "import time\n",
    "\n",
    "n = 15\n",
    "m = 10\n",
    "numpy.random.seed(1)\n",
    "A = numpy.random.randn(n, m)\n",
    "b = numpy.random.randn(n)\n",
    "# gamma must be nonnegative due to DCP rules.\n",
    "gamma = cp.Parameter(nonneg=True)\n",
    "\n",
    "x = cp.Variable(m)\n",
    "error = cp.sum_squares(A @ x - b)\n",
    "obj = cp.Minimize(error + gamma*cp.norm(x, 1))\n",
    "problem = cp.Problem(obj)\n",
    "assert problem.is_dcp(dpp=True)\n",
    "\n",
    "gamma_vals = numpy.logspace(-4, 1)\n",
    "times = []\n",
    "new_problem_times = []\n",
    "for val in gamma_vals:\n",
    "    gamma.value = val\n",
    "    start = time.time()\n",
    "    problem.solve()\n",
    "    end = time.time()\n",
    "    times.append(end - start)\n",
    "    new_problem = cp.Problem(obj)\n",
    "    start = time.time()\n",
    "    new_problem.solve()\n",
    "    end = time.time()\n",
    "    new_problem_times.append(end - start)\n",
    "\n",
    "plt.rc('text', usetex=True)\n",
    "plt.rc('font', family='serif')\n",
    "plt.figure(figsize=(6, 6))\n",
    "plt.plot(gamma_vals, times, label='Re-solving a DPP problem')\n",
    "plt.plot(gamma_vals, new_problem_times, label='Solving a new problem')\n",
    "plt.xlabel(r'$\\gamma$', fontsize=16)\n",
    "plt.ylabel(r'time (s)', fontsize=16)\n",
    "plt.xscale('log')\n",
    "plt.legend()\n",
    "plt.plot()"
   ]
  },
  {
   "cell_type": "markdown",
   "metadata": {},
   "source": [
    "Similar speed-ups can be obtained for DGP problems."
   ]
  },
  {
   "cell_type": "markdown",
   "metadata": {},
   "source": [
    "#### Sensitivity analysis and gradients\n",
    "\n",
    "An optimization problem can be viewed as a function mapping parameters to solutions. This solution map is sometimes differentiable. CVXPY has built-in support for computing the derivative of the optimal variable values of a problem with respect to small perturbations of the parameters (i.e., the Parameter instances appearing in a problem).\n",
    "\n",
    "The problem class exposes two methods related to computing the derivative. The derivative evaluates the derivative given perturbations to the parameters. This lets you calculate how the solution to a problem would change given small changes to the parameters, without re-solving the problem. The backward method evaluates the adjoint of the derivative, computing the gradient of the solution with respect to the parameters. This can be useful when combined with automatic differentiation software.\n",
    "\n",
    "The derivative and backward methods are only meaningful when the problem contains parameters. In order for a problem to be differentiable, it must be DPP-compliant. CVXPY can compute the derivative of any DPP-compliant DCP or DGP problem. At non-differentiable points, CVXPY computes a heuristic quantity.\n",
    "\n"
   ]
  },
  {
   "cell_type": "markdown",
   "metadata": {},
   "source": [
    "Example.\n",
    "\n",
    "As a first example, we solve a trivial problem with an analytical solution, to illustrate the usage of the backward and derivative functions. In the following block of code, we construct a problem with a scalar variable x and a scalar parameter p. The problem is to minimize the quadratic (x - 2*p)**2."
   ]
  },
  {
   "cell_type": "code",
   "execution_count": 10,
   "metadata": {},
   "outputs": [],
   "source": [
    "import cvxpy as cp\n",
    "\n",
    "x = cp.Variable()\n",
    "p = cp.Parameter()\n",
    "quadratic = cp.square(x - 2 * p)\n",
    "problem = cp.Problem(cp.Minimize(quadratic))\n"
   ]
  },
  {
   "cell_type": "markdown",
   "metadata": {},
   "source": [
    "Next, we solve the problem for the particular value of p == 3. Notice that when solving the problem, we supply the keyword argument requires_grad=True to the solve method."
   ]
  },
  {
   "cell_type": "code",
   "execution_count": 11,
   "metadata": {},
   "outputs": [
    {
     "data": {
      "text/plain": [
       "2.8398992587956425e-29"
      ]
     },
     "execution_count": 11,
     "metadata": {},
     "output_type": "execute_result"
    }
   ],
   "source": [
    "p.value = 3.\n",
    "problem.solve(requires_grad=True)"
   ]
  },
  {
   "cell_type": "markdown",
   "metadata": {},
   "source": [
    "Having solved the problem with requires_grad=True, we can now use the backward and derivative to differentiate through the problem. First, we compute the gradient of the solution with respect to its parameter by calling the backward() method. As a side-effect, the backward() method populates the gradient attribute on all parameters with the gradient of the solution with respect to that parameter.\n",
    "\n"
   ]
  },
  {
   "cell_type": "code",
   "execution_count": 12,
   "metadata": {},
   "outputs": [
    {
     "name": "stdout",
     "output_type": "stream",
     "text": [
      "The gradient is 2.0.\n"
     ]
    }
   ],
   "source": [
    "problem.backward()\n",
    "print(\"The gradient is {0:0.1f}.\".format(p.gradient))"
   ]
  },
  {
   "cell_type": "markdown",
   "metadata": {},
   "source": [
    "In this case, the problem has the trivial analytical solution 2*p, and the gradient is therefore just 2. So, as expected, the above code prints\n",
    "\n",
    "The gradient is 2.0.\n",
    "Next, we use the derivative method to see how a small change in p would affect the solution x. We will perturb p by 1e-5, by setting p.delta = 1e-5, and calling the derivative method will populate the delta attribute of x with the the change in x predicted by a first-order approximation (which is dx/dp * p.delta)."
   ]
  },
  {
   "cell_type": "code",
   "execution_count": 13,
   "metadata": {},
   "outputs": [
    {
     "name": "stdout",
     "output_type": "stream",
     "text": [
      "x.delta is 2e-05.\n"
     ]
    }
   ],
   "source": [
    "p.delta = 1e-5\n",
    "problem.derivative()\n",
    "print(\"x.delta is {0:2.1g}.\".format(x.delta))\n"
   ]
  },
  {
   "cell_type": "markdown",
   "metadata": {},
   "source": [
    "In this case the solution is trivial and its derivative is just 2*p, so we know that the delta in x should be 2e-5. As expected, the output is\n",
    "\n",
    "x.delta is 2e-05.\n",
    "\n",
    "We emphasize that this example is trivial, because it has a trivial analytical solution, with a trivial derivative. The backward() and forward() methods are useful because the vast majority of convex optimization problems do not have analytical solutions: in these cases, CVXPY can compute solutions and their derivatives, even though it would be impossible to derive them by hand.\n",
    "\n",
    "Note. In this simple example, the variable x was a scalar, so the backward method computed the gradient of x with respect to p. When there is more than one scalar variable, by default, backward computes the gradient of the sum of the optimal variable values with respect to the parameters.\n",
    "\n",
    "More generally, the backward method can be used to compute the gradient of a scalar-valued function f of the optimal variables, with respect to the parameters. If x(p) denotes the optimal value of the variable (which might be a vector or a matrix) for a particular value of the parameter p and f(x(p)) is a scalar, then backward can be used to compute the gradient of f with respect to p. Let x* = x(p), and say the derivative of f with respect to x* is dx. To compute the derivative of f with respect to p, before calling problem.backward(), just set x.gradient = dx.\n",
    "\n",
    "The backward method can be powerful when combined with software for automatic differentiation. We recommend the software package CVXPY Layers, which provides differentiable PyTorch and TensorFlow wrappers for CVXPY problems.\n",
    "\n",
    "backward or derivative? The backward method should be used when you need the gradient of (a scalar-valued function) of the solution, with respect to the parameters. If you only want to do a sensitivity analysis, that is, if all you’re interested in is how the solution would change if one or more parameters were changed, you should use the derivative method. When there are multiple variables, it is much more efficient to compute sensitivities using the derivative method than it would be to compute the entire Jacobian (which can be done by calling backward multiple times, once for each standard basis vector)."
   ]
  },
  {
   "cell_type": "code",
   "execution_count": null,
   "metadata": {},
   "outputs": [],
   "source": []
  }
 ],
 "metadata": {
  "kernelspec": {
   "display_name": "Python 3",
   "language": "python",
   "name": "python3"
  },
  "language_info": {
   "codemirror_mode": {
    "name": "ipython",
    "version": 3
   },
   "file_extension": ".py",
   "mimetype": "text/x-python",
   "name": "python",
   "nbconvert_exporter": "python",
   "pygments_lexer": "ipython3",
   "version": "3.9.19"
  }
 },
 "nbformat": 4,
 "nbformat_minor": 2
}
