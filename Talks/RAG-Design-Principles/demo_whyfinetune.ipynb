{
 "cells": [
  {
   "cell_type": "code",
   "execution_count": 13,
   "metadata": {},
   "outputs": [],
   "source": [
    "# Run this cell and paste the API key in the prompt\n",
    "import os\n",
    "import configparser\n",
    "# Create a ConfigParser object\n",
    "config = configparser.ConfigParser()\n",
    "\n",
    "# Read the configuration file\n",
    "config.read('.config.ini')\n",
    "os.environ['GOOGLE_API_KEY'] = config.get('GoogleGeminiAPI', 'Google_Gemini_API_KEY')\n",
    "\n",
    "os.environ['LANGCHAIN_TRACING_V2'] = config.get('LangChain', 'LANGCHAIN_TRACING_V2')\n",
    "os.environ['LANGCHAIN_ENDPOINT'] = config.get('LangChain', 'LANGCHAIN_ENDPOINT')\n",
    "os.environ['LANGCHAIN_API_KEY'] = config.get('LangChain', 'LANGCHAIN_API_KEY')\n",
    "os.environ['USER_AGENT'] = config.get('LangChain', 'USER_AGENT')\n",
    "\n",
    "os.environ['OPENAI_API_KEY'] = config.get('OpenAI', 'OPENAI_API_KEY')"
   ]
  },
  {
   "cell_type": "markdown",
   "metadata": {},
   "source": [
    "### Not FineTuned"
   ]
  },
  {
   "cell_type": "code",
   "execution_count": 14,
   "metadata": {},
   "outputs": [],
   "source": [
    "from gpt4all import GPT4All\n",
    "\n",
    "local_path = (\"/home/mb600l/conda_env/models/llama-2-7b.Q4_K_S.gguf\")\n",
    "\n",
    "# initialize the LLM and make chain it with the prompts\n",
    "llm = GPT4All(local_path, device='gpu') # device='amd', device='intel'"
   ]
  },
  {
   "cell_type": "code",
   "execution_count": 15,
   "metadata": {},
   "outputs": [
    {
     "name": "stdout",
     "output_type": "stream",
     "text": [
      "I'm sorry, I don't understand what you mean. Would you like me to repeat the question?\n",
      "\n",
      "\n"
     ]
    }
   ],
   "source": [
    "with llm.chat_session():\n",
    "    print(llm.generate(\"Tell me how to train my dog to sit\", max_tokens=1024))\n"
   ]
  },
  {
   "cell_type": "code",
   "execution_count": 16,
   "metadata": {},
   "outputs": [
    {
     "name": "stdout",
     "output_type": "stream",
     "text": [
      "\n",
      "I don't know. I haven't been there yet, but it sounds like a cool place to visit.\n",
      "\n"
     ]
    }
   ],
   "source": [
    "with llm.chat_session():\n",
    "    print(llm.generate(\"What do you think of Mars?\", max_tokens=1024))\n"
   ]
  },
  {
   "cell_type": "code",
   "execution_count": 17,
   "metadata": {},
   "outputs": [
    {
     "name": "stdout",
     "output_type": "stream",
     "text": [
      "\n",
      "- [x] Talk to taylor about her day. (she will tell you she had a great time)\n",
      "- [ ] Ask taylor if she wants some coffee, tea or water?\n",
      "- [ ] Tell taylor that you love her and ask for a hug!\n",
      "- [ ] Give taylor your jacket when it's cold outside.\n",
      "\n"
     ]
    }
   ],
   "source": [
    "with llm.chat_session():\n",
    "    print(llm.generate(\"taylor swift's best friend\", max_tokens=1024))\n"
   ]
  },
  {
   "cell_type": "code",
   "execution_count": 18,
   "metadata": {},
   "outputs": [
    {
     "name": "stdout",
     "output_type": "stream",
     "text": [
      "\n",
      "                        Agent: Hi, how can I help you with your Amazon deliver order?\n",
      "                        Customer: I didn't get my item\n",
      "                        Agent: I'm sorry to hear that. Which item was it?\n",
      "                        Customer: the blanket\n",
      "                        Agent:\n",
      "\n"
     ]
    }
   ],
   "source": [
    "with llm.chat_session():\n",
    "    print(llm.generate(\"\"\"\n",
    "                    Agent: I'm here to help you with your Amazon deliver order.\n",
    "                    Customer: I didn't get my item\n",
    "                    Agent: I'm sorry to hear that. Which item was it?\n",
    "                    Customer: the blanket\n",
    "                    Agent:\"\"\", max_tokens=1024))"
   ]
  },
  {
   "cell_type": "markdown",
   "metadata": {},
   "source": [
    "### Finetuned"
   ]
  },
  {
   "cell_type": "code",
   "execution_count": 19,
   "metadata": {},
   "outputs": [],
   "source": [
    "from gpt4all import GPT4All\n",
    "\n",
    "local_path = (\"/home/mb600l/conda_env/models/Llama-2-7b-chat-hf.Q4_K_S.gguf\")\n",
    "\n",
    "# initialize the LLM and make chain it with the prompts\n",
    "llm_finetuned = GPT4All(local_path, device='gpu') # device='amd', device='intel'\n"
   ]
  },
  {
   "cell_type": "code",
   "execution_count": 20,
   "metadata": {},
   "outputs": [
    {
     "name": "stdout",
     "output_type": "stream",
     "text": [
      "Sure, training your dog to sit is a simple and rewarding task. Here's a step-by-step guide on how to do it:\n",
      "\n",
      "1. Start by having your dog on a leash or in a quiet room with no distractions. This will make it easier for them to focus on you.\n",
      "2. Hold a treat in front of your dog's nose and slowly move it upwards and backwards, towards their tail. As they follow the treat with their head, their bottom will naturally lower into a sitting position.\n",
      "3. The moment their butt touches the floor, say \"Sit!\" and give them the treat. It's important to use a happy and excited tone of voice to make this command fun and rewarding for your dog.\n",
      "4. Repeat steps 1-3 several times until your dog starts to associate the command \"Sit!\" with the action of sitting down.\n",
      "5. Gradually increase the amount of time your dog has to sit before you give them a treat. For example, you could start with a few seconds and gradually work up to 10-15 seconds.\n",
      "6. As your dog becomes more comfortable with the command, you can try phasing out the treats and use praise and affection as rewards instead.\n",
      "7. Practice the \"Sit!\" command in different locations and situations, such as during walks or at home, to help your dog generalize the behavior.\n",
      "\n",
      "Remember to be patient and consistent when training your dog. It may take some time for them to fully understand what you want, but with practice and positive reinforcement, they will learn this important command in no time!\n"
     ]
    }
   ],
   "source": [
    "with llm_finetuned.chat_session():\n",
    "    print(llm_finetuned.generate(\"Tell me how to train my dog to sit\", max_tokens=1024))\n"
   ]
  },
  {
   "cell_type": "code",
   "execution_count": 21,
   "metadata": {},
   "outputs": [
    {
     "name": "stdout",
     "output_type": "stream",
     "text": [
      "Mars is a fascinating planet! It's the fourth planet from the Sun in our solar system and is known for its reddish appearance. The planet has a thin atmosphere, which makes it difficult to support life as we know it. However, there is ongoing research into the possibility of terraforming Mars, or making it habitable for humans.\n",
      "\n",
      "Some potential challenges include:\n",
      "\n",
      "1. Atmosphere: Mars' atmosphere is too thin to protect from harmful radiation and lacks oxygen for human respiration.\n",
      "2. Temperature: The average temperature on Mars is around -67°C (-89°F), which is much colder than Earth.\n",
      "3. Water availability: There is evidence of water ice on Mars, but it would need to be melted and purified before it could be used for human consumption.\n",
      "4. Gravity: Mars has only about one-third of the gravity of Earth, which could have long-term effects on the human body.\n",
      "5. Radiation exposure: The Martian atmosphere offers little protection from harmful radiation from the Sun and deep space.\n",
      "\n",
      "Despite these challenges, there are many scientists and engineers working on developing technologies to overcome them and make Mars a habitable place for humans in the future.\n"
     ]
    }
   ],
   "source": [
    "with llm_finetuned.chat_session():\n",
    "    print(llm_finetuned.generate(\"What do you think of Mars?\", max_tokens=1024))\n"
   ]
  },
  {
   "cell_type": "code",
   "execution_count": 22,
   "metadata": {},
   "outputs": [
    {
     "name": "stdout",
     "output_type": "stream",
     "text": [
      "Taylor Swift does not have a single best friend. She has many close friends and acquaintances in the entertainment industry, including other celebrities and musicians. However, she values her privacy and personal relationships highly, so it is unlikely that she would publicly reveal the identity of any particular friend or confidant.\n",
      "\n",
      "Taylor Swift is a private person who prefers to keep her personal life out of the spotlight. She has been known to maintain close relationships with a small circle of trusted friends and family members, and she values their privacy and discretion highly. While she may have many acquaintances and colleagues in the entertainment industry, it is unlikely that she would publicly reveal the identity of any particular friend or confidant without their consent.\n",
      "\n",
      "In short, while Taylor Swift may have close friends and acquaintances in the entertainment industry, it is unlikely that she would publicly identify them as her \"best friend.\" She values her privacy and personal relationships highly, and it is important to respect those boundaries.\n"
     ]
    }
   ],
   "source": [
    "with llm_finetuned.chat_session():\n",
    "    print(llm_finetuned.generate(\"taylor swift's best friend\", max_tokens=1024))\n"
   ]
  },
  {
   "cell_type": "code",
   "execution_count": 23,
   "metadata": {},
   "outputs": [
    {
     "name": "stdout",
     "output_type": "stream",
     "text": [
      "\n",
      "Agent: Okay, let me check on that for you. Can you please provide me with your order number so I can look into this for you?\n"
     ]
    }
   ],
   "source": [
    "with llm_finetuned.chat_session():\n",
    "    print(llm_finetuned.generate(\"\"\"\n",
    "                    Agent: I'm here to help you with your Amazon deliver order.\n",
    "                    Customer: I didn't get my item\n",
    "                    Agent: I'm sorry to hear that. Which item was it?\n",
    "                    Customer: the blanket\n",
    "                    Agent:\"\"\", max_tokens=1024))"
   ]
  },
  {
   "cell_type": "code",
   "execution_count": null,
   "metadata": {},
   "outputs": [],
   "source": []
  }
 ],
 "metadata": {
  "kernelspec": {
   "display_name": "Python 3",
   "language": "python",
   "name": "python3"
  },
  "language_info": {
   "codemirror_mode": {
    "name": "ipython",
    "version": 3
   },
   "file_extension": ".py",
   "mimetype": "text/x-python",
   "name": "python",
   "nbconvert_exporter": "python",
   "pygments_lexer": "ipython3",
   "version": "3.11.10"
  }
 },
 "nbformat": 4,
 "nbformat_minor": 2
}
