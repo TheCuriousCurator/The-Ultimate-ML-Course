{
 "cells": [
  {
   "cell_type": "code",
   "execution_count": 1,
   "metadata": {},
   "outputs": [],
   "source": [
    "# Run this cell and paste the API key in the prompt\n",
    "import os\n",
    "import configparser\n",
    "# Create a ConfigParser object\n",
    "config = configparser.ConfigParser()\n",
    "\n",
    "# Read the configuration file\n",
    "config.read('.config.ini')\n",
    "os.environ['GOOGLE_API_KEY'] = config.get('GoogleGeminiAPI', 'Google_Gemini_API_KEY')\n",
    "\n",
    "os.environ['LANGCHAIN_TRACING_V2'] = config.get('LangChain', 'LANGCHAIN_TRACING_V2')\n",
    "os.environ['LANGCHAIN_ENDPOINT'] = config.get('LangChain', 'LANGCHAIN_ENDPOINT')\n",
    "os.environ['LANGCHAIN_API_KEY'] = config.get('LangChain', 'LANGCHAIN_API_KEY')\n",
    "os.environ['USER_AGENT'] = config.get('LangChain', 'USER_AGENT')\n",
    "\n",
    "os.environ['OPENAI_API_KEY'] = config.get('OpenAI', 'OPENAI_API_KEY')"
   ]
  },
  {
   "cell_type": "markdown",
   "metadata": {},
   "source": [
    "### Not FineTuned"
   ]
  },
  {
   "cell_type": "code",
   "execution_count": 2,
   "metadata": {},
   "outputs": [],
   "source": [
    "from gpt4all import GPT4All\n",
    "\n",
    "local_path = (\"/home/mb600l/conda_env/models/llama-2-7b.Q4_K_S.gguf\")\n",
    "\n",
    "# initialize the LLM and make chain it with the prompts\n",
    "llm = GPT4All(local_path, device='gpu') # device='amd', device='intel'"
   ]
  },
  {
   "cell_type": "code",
   "execution_count": 3,
   "metadata": {},
   "outputs": [
    {
     "name": "stdout",
     "output_type": "stream",
     "text": [
      "Okay, so you want your dog to learn the command \"sit\". To teach this command, start by getting some treats and a clicker. Whenever your dog sits down on its own, say \"good boy\" or whatever other praise words work for you while giving it a treat from your hand (or use the clicker if that's what works best). Once they get used to hearing those words when sitting down, start saying them after every time their tail wags and then gradually increase how long before rewarding until eventually only saying \"good boy\" or whatever other praise word you want while giving it a treat from your hand.\n",
      "\n"
     ]
    }
   ],
   "source": [
    "with llm.chat_session():\n",
    "    print(llm.generate(\"Tell me how to train my dog to sit\", max_tokens=1024))\n"
   ]
  },
  {
   "cell_type": "code",
   "execution_count": 4,
   "metadata": {},
   "outputs": [
    {
     "name": "stdout",
     "output_type": "stream",
     "text": [
      "\n",
      "I'm sorry, I didn't catch that. Can you repeat the question please?\n",
      "\n",
      "\n"
     ]
    }
   ],
   "source": [
    "with llm.chat_session():\n",
    "    print(llm.generate(\"What do you think of Mars?\", max_tokens=1024))\n"
   ]
  },
  {
   "cell_type": "code",
   "execution_count": 5,
   "metadata": {},
   "outputs": [
    {
     "name": "stdout",
     "output_type": "stream",
     "text": [
      "- I am the assistant of taylor swift.\n",
      "- My name is Jill.\n",
      "\n"
     ]
    }
   ],
   "source": [
    "with llm.chat_session():\n",
    "    print(llm.generate(\"taylor swift's best friend\", max_tokens=1024))\n"
   ]
  },
  {
   "cell_type": "code",
   "execution_count": 6,
   "metadata": {},
   "outputs": [
    {
     "name": "stdout",
     "output_type": "stream",
     "text": [
      "                        Agent: Hi, how can I help you with your Amazon order today?\n",
      "                        Customer: Hey there! Can you please cancel my order for the blanket and send me a refund. It was supposed to be delivered yesterday but it didn't arrive.\n",
      "                        Agent: Oh no! That is very unfortunate, let me see what I can do about that. What is your name?\n",
      "                        Customer: My name is John Doe\n",
      "                        Agent: Okay Mr.Doe, I will cancel the order and send you a refund right away. Please give me just one moment to get this done for you.\n",
      "\n"
     ]
    }
   ],
   "source": [
    "with llm.chat_session():\n",
    "    print(llm.generate(\"\"\"\n",
    "                    Agent: I'm here to help you with your Amazon deliver order.\n",
    "                    Customer: I didn't get my item\n",
    "                    Agent: I'm sorry to hear that. Which item was it?\n",
    "                    Customer: the blanket\n",
    "                    Agent:\"\"\", max_tokens=1024))"
   ]
  },
  {
   "cell_type": "markdown",
   "metadata": {},
   "source": [
    "### Finetuned"
   ]
  },
  {
   "cell_type": "code",
   "execution_count": 7,
   "metadata": {},
   "outputs": [],
   "source": [
    "from gpt4all import GPT4All\n",
    "\n",
    "local_path = (\"/home/mb600l/conda_env/models/Llama-2-7b-chat-hf.Q4_K_S.gguf\")\n",
    "\n",
    "# initialize the LLM and make chain it with the prompts\n",
    "llm_finetuned = GPT4All(local_path, device='gpu') # device='amd', device='intel'\n"
   ]
  },
  {
   "cell_type": "code",
   "execution_count": 8,
   "metadata": {},
   "outputs": [
    {
     "name": "stdout",
     "output_type": "stream",
     "text": [
      "Sure, training your dog to sit is a simple and rewarding task. Here's a step-by-step guide on how to do it:\n",
      "\n",
      "1. Start by having your dog on a leash or in a quiet room with no distractions. This will make it easier for them to focus on you.\n",
      "2. Hold a treat in front of your dog's nose and slowly move it upwards and backwards, towards their tail. As they follow the treat with their head, their bottom will naturally lower into a sitting position.\n",
      "3. The moment their butt touches the floor, say \"Sit!\" and give them the treat. It's important to use a happy and excited tone of voice to make it clear that they've done something good.\n",
      "4. Repeat steps 1-3 several times until your dog starts to associate the command \"Sit!\" with the action of sitting down.\n",
      "5. Gradually increase the amount of time your dog has to sit before you give them a treat. For example, you could start with a few seconds and work up to 10-15 seconds over time.\n",
      "6. As your dog becomes more comfortable with the command, you can try phasing out the treats and use praise or affection as rewards instead.\n",
      "7. Practice regularly and be consistent in your training. The more you practice, the faster your dog will learn.\n",
      "\n",
      "Remember to always be patient and positive when training your dog. It's important to make it fun and enjoyable for them, so they look forward to learning and pleasing you!\n"
     ]
    }
   ],
   "source": [
    "with llm_finetuned.chat_session():\n",
    "    print(llm_finetuned.generate(\"Tell me how to train my dog to sit\", max_tokens=1024))\n"
   ]
  },
  {
   "cell_type": "code",
   "execution_count": 9,
   "metadata": {},
   "outputs": [
    {
     "name": "stdout",
     "output_type": "stream",
     "text": [
      "Mars is a fascinating planet! It's the fourth planet from the Sun in our solar system and is known for its reddish appearance. The planet has a thin atmosphere, which makes it difficult to support life as we know it. However, there is ongoing research into the possibility of terraforming Mars, or making it habitable for humans.\n",
      "\n",
      "Some potential ways to make Mars habitable include:\n",
      "\n",
      "1. Creating an artificial atmosphere: This would involve releasing gases such as oxygen and nitrogen into the Martian atmosphere to create a breathable air supply.\n",
      "2. Melting the polar ice caps: The ice caps on Mars are made up of water ice, which could be melted using mirrors or other reflective surfaces to focus sunlight onto the ice. This would release fresh water and help regulate the planet's temperature.\n",
      "3. Establishing a magnetic field: Mars no longer has a protective magnetic field, which is necessary to shield the planet from harmful solar radiation. Installing a artificial magnetic field could help protect any future human inhabitants from this radiation.\n",
      "4. Creating a stable food source: One of the biggest challenges for any potential Martian colony would be creating a reliable food supply. This could involve using hydroponics or other forms of sustainable agriculture to grow crops on the planet's surface.\n",
      "\n",
      "While these ideas are still in the early stages of development, they demonstrate some of the creative thinking and technological innovation that could be used to make Mars habitable for humans.\n"
     ]
    }
   ],
   "source": [
    "with llm_finetuned.chat_session():\n",
    "    print(llm_finetuned.generate(\"What do you think of Mars?\", max_tokens=1024))\n"
   ]
  },
  {
   "cell_type": "code",
   "execution_count": 10,
   "metadata": {},
   "outputs": [
    {
     "name": "stdout",
     "output_type": "stream",
     "text": [
      "Hi there! I'm happy to help you with your question. However, I think there might be some confusion. Taylor Swift is a famous singer-songwriter and she doesn't have a \"best friend\" in the classical sense of the word. She has many friends and acquaintances who are also musicians, actors, and other celebrities. Is there anything else I can help you with?\n"
     ]
    }
   ],
   "source": [
    "with llm_finetuned.chat_session():\n",
    "    print(llm_finetuned.generate(\"taylor swift's best friend\", max_tokens=1024))\n"
   ]
  },
  {
   "cell_type": "code",
   "execution_count": 11,
   "metadata": {},
   "outputs": [
    {
     "name": "stdout",
     "output_type": "stream",
     "text": [
      "\n",
      "Agent: Okay, let me check on that for you. Can you please provide me with your order number so I can look into this for you?\n"
     ]
    }
   ],
   "source": [
    "with llm_finetuned.chat_session():\n",
    "    print(llm_finetuned.generate(\"\"\"\n",
    "                    Agent: I'm here to help you with your Amazon deliver order.\n",
    "                    Customer: I didn't get my item\n",
    "                    Agent: I'm sorry to hear that. Which item was it?\n",
    "                    Customer: the blanket\n",
    "                    Agent:\"\"\", max_tokens=1024))"
   ]
  },
  {
   "cell_type": "code",
   "execution_count": null,
   "metadata": {},
   "outputs": [],
   "source": []
  }
 ],
 "metadata": {
  "kernelspec": {
   "display_name": "Python 3",
   "language": "python",
   "name": "python3"
  },
  "language_info": {
   "codemirror_mode": {
    "name": "ipython",
    "version": 3
   },
   "file_extension": ".py",
   "mimetype": "text/x-python",
   "name": "python",
   "nbconvert_exporter": "python",
   "pygments_lexer": "ipython3",
   "version": "3.11.10"
  }
 },
 "nbformat": 4,
 "nbformat_minor": 2
}
